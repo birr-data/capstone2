{
 "cells": [
  {
   "cell_type": "markdown",
   "metadata": {},
   "source": [
    "## Private Pilot Accident Type Prediction - Modeling"
   ]
  },
  {
   "cell_type": "markdown",
   "metadata": {},
   "source": [
    "### Springboard Data Science career track Capstone Project One\n",
    "- Manuel Gomez"
   ]
  },
  {
   "cell_type": "markdown",
   "metadata": {},
   "source": [
    "### Introduction: \n",
    "This project attempts to identify what type of accident a Private Pilot is most likely to encounter given the pilot's profile. This is a classification problem."
   ]
  },
  {
   "cell_type": "markdown",
   "metadata": {},
   "source": [
    "### Data:\n",
    "The data source is the National Transportation and Safety Board's accident database. The data has been processed for modeling in prior steps. The target labels are the type of accidents and the pilot information includes pilot's age, certifications, medical status, and accrued flight times (experience) in different categories."
   ]
  },
  {
   "cell_type": "markdown",
   "metadata": {},
   "source": [
    "### Modeling Workflow:"
   ]
  },
  {
   "cell_type": "code",
   "execution_count": 1,
   "metadata": {},
   "outputs": [],
   "source": [
    "# Load Library\n",
    "import pandas as pd\n",
    "import numpy as np\n",
    "from sklearn.metrics import accuracy_score, precision_score, confusion_matrix\n",
    "from sklearn.model_selection import train_test_split\n",
    "from sklearn.tree import DecisionTreeClassifier\n",
    "from sklearn.ensemble import RandomForestClassifier, AdaBoostClassifier, GradientBoostingClassifier\n",
    "from sklearn.model_selection import GridSearchCV\n"
   ]
  },
  {
   "cell_type": "code",
   "execution_count": 2,
   "metadata": {},
   "outputs": [],
   "source": [
    "# seetings to display max info in notebook\n",
    "pd.set_option('display.max_columns', None)\n",
    "pd.options.display.max_rows = 1000"
   ]
  },
  {
   "cell_type": "code",
   "execution_count": 3,
   "metadata": {},
   "outputs": [],
   "source": [
    "# import model-ready data to dataframe\n",
    "df = pd.read_csv('D:/cap/capstone2/data/processed/processed.csv')"
   ]
  },
  {
   "cell_type": "code",
   "execution_count": 4,
   "metadata": {},
   "outputs": [],
   "source": [
    "# separate target labels [accident type] (y) and Predictor variables (X)\n",
    "y = df.pop('event_coded')\n",
    "y = np.array(y)\n",
    "feature_list = list(df.columns)\n",
    "X = np.array(df)"
   ]
  },
  {
   "cell_type": "code",
   "execution_count": 5,
   "metadata": {},
   "outputs": [],
   "source": [
    "# Split the training test set\n",
    "X_train, X_test, y_train, y_test = train_test_split(X, y, test_size = 0.25, random_state = 42)"
   ]
  },
  {
   "cell_type": "markdown",
   "metadata": {},
   "source": [
    "### Decision Tree Model"
   ]
  },
  {
   "cell_type": "code",
   "execution_count": 6,
   "metadata": {},
   "outputs": [
    {
     "name": "stdout",
     "output_type": "stream",
     "text": [
      "Acc:  0.12792859799181852\n",
      "Press weighted:  0.14979458322295724\n",
      "Press micro:  0.14979458322295724\n",
      "Confusion Matrix: \n"
     ]
    },
    {
     "data": {
      "text/plain": [
       "array([[ 38,  65, 109, 214,  34],\n",
       "       [114,  59,  45, 131,  55],\n",
       "       [147,  43,   9, 141,  39],\n",
       "       [381, 176, 181, 192, 129],\n",
       "       [102,  76,  47, 116,  46]], dtype=int64)"
      ]
     },
     "execution_count": 6,
     "metadata": {},
     "output_type": "execute_result"
    }
   ],
   "source": [
    "# fit decision tree\n",
    "clf = DecisionTreeClassifier()\n",
    "clf.fit(X_train, y_train)\n",
    "y_pred = clf.predict(X_test)\n",
    "print('Acc: ', accuracy_score(y_test, y_pred))\n",
    "print('Press weighted: ', precision_score(y_test, y_pred, average='weighted'))\n",
    "print('Press micro: ', precision_score(y_test, y_pred, average='weighted'))\n",
    "print('Confusion Matrix: ')\n",
    "confusion_matrix (y_test, y_pred)"
   ]
  },
  {
   "cell_type": "markdown",
   "metadata": {},
   "source": [
    "### Random Forrest Model"
   ]
  },
  {
   "cell_type": "code",
   "execution_count": 7,
   "metadata": {},
   "outputs": [
    {
     "name": "stdout",
     "output_type": "stream",
     "text": [
      "Acc: 0.198214949795463\n",
      "Confusion Matrix: \n"
     ]
    },
    {
     "data": {
      "text/plain": [
       "array([[  2,  28,  57, 343,  30],\n",
       "       [ 39,  17,  18, 289,  41],\n",
       "       [ 72,  28,   2, 247,  30],\n",
       "       [219, 119, 165, 486,  70],\n",
       "       [ 24,  39,  14, 284,  26]], dtype=int64)"
      ]
     },
     "execution_count": 7,
     "metadata": {},
     "output_type": "execute_result"
    }
   ],
   "source": [
    "# Fit Random Forest model\n",
    "clf = RandomForestClassifier(n_estimators=100, max_features=\"auto\",random_state=0)\n",
    "clf.fit(X_train, y_train)\n",
    "y_pred = clf.predict(X_test)\n",
    "print('Acc:', accuracy_score(y_test, y_pred))\n",
    "print('Confusion Matrix: ')\n",
    "confusion_matrix (y_test, y_pred)"
   ]
  },
  {
   "cell_type": "markdown",
   "metadata": {},
   "source": [
    "### ADABoost Classifier Model"
   ]
  },
  {
   "cell_type": "code",
   "execution_count": 8,
   "metadata": {},
   "outputs": [
    {
     "data": {
      "text/plain": [
       "{'n_estimators': 100}"
      ]
     },
     "execution_count": 8,
     "metadata": {},
     "output_type": "execute_result"
    }
   ],
   "source": [
    "clf = AdaBoostClassifier()\n",
    "\n",
    "#determine best n_estimator hyperparameter\n",
    "grid_params = {'n_estimators': [100,200,300]}\n",
    "grid_object = GridSearchCV(estimator = clf, param_grid = grid_params, scoring = 'accuracy', cv = 20, n_jobs = -1)\n",
    "grid_object.fit(X_train, y_train)\n",
    "grid_object.best_params_"
   ]
  },
  {
   "cell_type": "code",
   "execution_count": 9,
   "metadata": {},
   "outputs": [
    {
     "name": "stdout",
     "output_type": "stream",
     "text": [
      "Acc:  0.37671997024916326\n",
      "Confusion Matrix: \n"
     ]
    },
    {
     "data": {
      "text/plain": [
       "array([[  7,   5,  11, 431,   6],\n",
       "       [  9,  12,   9, 362,  12],\n",
       "       [  9,   6,   7, 353,   4],\n",
       "       [ 26,  15,  20, 977,  21],\n",
       "       [  4,  10,  14, 349,  10]], dtype=int64)"
      ]
     },
     "execution_count": 9,
     "metadata": {},
     "output_type": "execute_result"
    }
   ],
   "source": [
    "# Fit AdaBoost model with best n_estimator\n",
    "\n",
    "clf = AdaBoostClassifier(n_estimators=100)\n",
    "clf.fit(X_train, y_train)\n",
    "y_pred = clf.predict(X_test)\n",
    "print('Acc: ', accuracy_score(y_test, y_pred))\n",
    "print('Confusion Matrix: ')\n",
    "confusion_matrix (y_test, y_pred)"
   ]
  },
  {
   "cell_type": "markdown",
   "metadata": {},
   "source": [
    "### GradientBoost Classifier Model"
   ]
  },
  {
   "cell_type": "code",
   "execution_count": 10,
   "metadata": {},
   "outputs": [
    {
     "data": {
      "text/plain": [
       "{'n_estimators': 100}"
      ]
     },
     "execution_count": 10,
     "metadata": {},
     "output_type": "execute_result"
    }
   ],
   "source": [
    "clf = GradientBoostingClassifier()\n",
    "\n",
    "#determine best n_estimator hyperparameter\n",
    "grid_params = {'n_estimators': [100,200,300]}\n",
    "grid_object = GridSearchCV(estimator = clf, param_grid = grid_params, scoring = 'accuracy', cv = 5, n_jobs = -1)\n",
    "grid_object.fit(X_train, y_train)\n",
    "grid_object.best_params_"
   ]
  },
  {
   "cell_type": "code",
   "execution_count": 11,
   "metadata": {},
   "outputs": [
    {
     "name": "stdout",
     "output_type": "stream",
     "text": [
      "Acc:  0.365563406470807\n",
      "Confusion Matrix: \n"
     ]
    },
    {
     "data": {
      "text/plain": [
       "array([[  1,   7,   8, 443,   1],\n",
       "       [  4,  11,   5, 374,  10],\n",
       "       [  7,   4,   0, 363,   5],\n",
       "       [ 33,  17,  34, 962,  13],\n",
       "       [  7,   6,   6, 359,   9]], dtype=int64)"
      ]
     },
     "execution_count": 11,
     "metadata": {},
     "output_type": "execute_result"
    }
   ],
   "source": [
    "# Fit Gradient Boosting model with best n_estimator\n",
    "\n",
    "clf = GradientBoostingClassifier(n_estimators=100)\n",
    "clf.fit(X_train, y_train)\n",
    "y_pred = clf.predict(X_test)\n",
    "print('Acc: ', accuracy_score(y_test, y_pred))\n",
    "print('Confusion Matrix: ')\n",
    "confusion_matrix (y_test, y_pred)"
   ]
  },
  {
   "cell_type": "markdown",
   "metadata": {},
   "source": [
    "### PCA"
   ]
  },
  {
   "cell_type": "markdown",
   "metadata": {},
   "source": [
    "The main purpose of Principal Component Analysis is to reduce the number of dimensions in modeling. The PCA application that follows is not expected to significantly change the accuracy of the models but it is included here as a workflow demonstration."
   ]
  },
  {
   "cell_type": "code",
   "execution_count": 12,
   "metadata": {},
   "outputs": [],
   "source": [
    "from sklearn.decomposition import PCA\n",
    "import matplotlib.pyplot as plt\n",
    "from matplotlib.pyplot import figure"
   ]
  },
  {
   "cell_type": "code",
   "execution_count": 13,
   "metadata": {},
   "outputs": [
    {
     "data": {
      "text/plain": [
       "PCA(n_components=40)"
      ]
     },
     "execution_count": 13,
     "metadata": {},
     "output_type": "execute_result"
    }
   ],
   "source": [
    "# take an initial 'Bird's eye view' with the first 40 PCs\n",
    "pca_view = PCA(n_components = 40)\n",
    "pca_view.fit(X_train)"
   ]
  },
  {
   "cell_type": "code",
   "execution_count": 14,
   "metadata": {},
   "outputs": [
    {
     "data": {
      "image/png": "[encoded data removed]",
      "text/plain": [
       "<Figure size 1152x936 with 1 Axes>"
      ]
     },
     "metadata": {
      "needs_background": "light"
     },
     "output_type": "display_data"
    }
   ],
   "source": [
    "fig= plt.figure(figsize=(16,13))\n",
    "features = range(pca_view.n_components_)\n",
    "plt.bar(features, pca_view.explained_variance_)\n",
    "plt.xticks(features)\n",
    "plt.ylabel('variance')\n",
    "plt.xlabel('PCA feature')\n",
    "plt.title(\"Principal Component Analysis\")\n",
    "plt.show()"
   ]
  },
  {
   "cell_type": "markdown",
   "metadata": {},
   "source": [
    "Using the 'Elbow technique' it appears there is a significant reduction in variance explained when going from 5 to 6 components."
   ]
  },
  {
   "cell_type": "code",
   "execution_count": 15,
   "metadata": {},
   "outputs": [
    {
     "name": "stdout",
     "output_type": "stream",
     "text": [
      "Explained variation per component: [0.14596018 0.08200333 0.06277542 0.0604428  0.05294877]\n",
      "Total Explained variation: 0.40413049555051517\n"
     ]
    }
   ],
   "source": [
    "pca = PCA(n_components = 5)\n",
    "pca_X_train = pca.fit_transform(X_train)\n",
    "pca_X_test = pca.transform(X_test)\n",
    "pca_X_df = pd.DataFrame(pca_X_train)\n",
    "print('Explained variation per component: {}'.format((pca.explained_variance_ratio_)))\n",
    "print('Total Explained variation: {}'.format((pca.explained_variance_ratio_.sum())))"
   ]
  },
  {
   "cell_type": "code",
   "execution_count": 16,
   "metadata": {},
   "outputs": [
    {
     "name": "stdout",
     "output_type": "stream",
     "text": [
      "0.38862030494607663\n",
      "Confusion Matrix: \n"
     ]
    },
    {
     "data": {
      "text/plain": [
       "array([[   2,    1,    2,  453,    2],\n",
       "       [   5,    1,    4,  387,    7],\n",
       "       [   2,    1,    3,  369,    4],\n",
       "       [   8,    3,    5, 1033,   10],\n",
       "       [   3,    5,    2,  371,    6]], dtype=int64)"
      ]
     },
     "execution_count": 16,
     "metadata": {},
     "output_type": "execute_result"
    }
   ],
   "source": [
    "# Fit a AdaBoost model with PCA components = 5\n",
    "clf = AdaBoostClassifier(n_estimators=100)\n",
    "clf.fit(pca_X_train, y_train)\n",
    "y_pred = clf.predict(pca_X_test)\n",
    "print(accuracy_score(y_test, y_pred))\n",
    "print('Confusion Matrix: ')\n",
    "confusion_matrix (y_test, y_pred)"
   ]
  },
  {
   "cell_type": "markdown",
   "metadata": {},
   "source": [
    "#### First 5 PCs explain about 40% of the variance with a 39% accuracy."
   ]
  },
  {
   "cell_type": "code",
   "execution_count": 17,
   "metadata": {},
   "outputs": [
    {
     "name": "stdout",
     "output_type": "stream",
     "text": [
      "Explained variation per component: [0.14596018 0.08200333 0.06277542 0.0604428  0.05294886 0.04143608\n",
      " 0.03961754 0.03647532 0.03483842 0.03062684 0.02979907 0.028269\n",
      " 0.02720788 0.02374564 0.02080158 0.02020324 0.01824489 0.01719945\n",
      " 0.01580032 0.01473218]\n",
      "Total Explained variation: 0.8031280403571072\n"
     ]
    }
   ],
   "source": [
    "pca = PCA(n_components = 20)\n",
    "pca_X_train = pca.fit_transform(X_train)\n",
    "pca_X_test = pca.transform(X_test)\n",
    "pca_X_df = pd.DataFrame(pca_X_train)\n",
    "print('Explained variation per component: {}'.format((pca.explained_variance_ratio_)))\n",
    "print('Total Explained variation: {}'.format((pca.explained_variance_ratio_.sum())))"
   ]
  },
  {
   "cell_type": "code",
   "execution_count": 18,
   "metadata": {},
   "outputs": [
    {
     "name": "stdout",
     "output_type": "stream",
     "text": [
      "0.3822982521383414\n",
      "Confusion Matrix: \n"
     ]
    },
    {
     "data": {
      "text/plain": [
       "array([[  6,   3,   7, 436,   8],\n",
       "       [  6,  15,   4, 375,   4],\n",
       "       [ 15,   6,   2, 349,   7],\n",
       "       [ 29,  14,   8, 997,  11],\n",
       "       [  7,   9,   3, 360,   8]], dtype=int64)"
      ]
     },
     "execution_count": 18,
     "metadata": {},
     "output_type": "execute_result"
    }
   ],
   "source": [
    "# Fit a AdaBoost model with PCA components = 20\n",
    "clf = AdaBoostClassifier(n_estimators=100)\n",
    "clf.fit(pca_X_train, y_train)\n",
    "y_pred = clf.predict(pca_X_test)\n",
    "print(accuracy_score(y_test, y_pred))\n",
    "print('Confusion Matrix: ')\n",
    "confusion_matrix (y_test, y_pred)"
   ]
  },
  {
   "cell_type": "markdown",
   "metadata": {},
   "source": [
    "#### It takes 20 PCs to explain about 80% of the variance with no significant change in accuracy."
   ]
  },
  {
   "cell_type": "markdown",
   "metadata": {},
   "source": [
    "## Support Vector Machine One-vs-One"
   ]
  },
  {
   "cell_type": "code",
   "execution_count": 30,
   "metadata": {},
   "outputs": [],
   "source": [
    "from sklearn import svm\n",
    "import time"
   ]
  },
  {
   "cell_type": "code",
   "execution_count": 31,
   "metadata": {},
   "outputs": [],
   "source": [
    "# fit PCA\n",
    "pca = PCA(n_components = 5)\n",
    "pca_X_train = pca.fit_transform(X_train)\n",
    "pca_X_test = pca.transform(X_test)"
   ]
  },
  {
   "cell_type": "code",
   "execution_count": 32,
   "metadata": {},
   "outputs": [],
   "source": [
    "# starting time\n",
    "start = time.time()\n",
    "\n",
    "#define grid for hypertuning\n",
    "param_grid = {'C':[0.1, 1, 10, 100], \n",
    "              'gamma': [1, 0.1, 0.001, 0.0001], \n",
    "              'kernel': ['linear', 'rbf', 'sigmoid'],\n",
    "              'decision_function_shape': ['ovo', 'ovr']}\n",
    "grid = GridSearchCV(svm.SVC() , param_grid, refit=True, verbose=3)\n",
    "grid.fit(pca_X_train, y_train)\n",
    "print(grid.best_params_)\n",
    "print(grid.best_estimator_)\n",
    "\n",
    "end = time.time()\n",
    "# total time taken\n",
    "print(f\"Runtime of this section is {end - start}\")"
   ]
  },
  {
   "cell_type": "code",
   "execution_count": null,
   "metadata": {},
   "outputs": [],
   "source": [
    "# starting time\n",
    "start = time.time()\n",
    "\n",
    "#define grid for hypertuning\n",
    "param_grid = {'C':[0.1, 1, 10, 100], \n",
    "              'gamma': [1, 0.1, 0.001, 0.0001], \n",
    "              'kernel': ['poly'],\n",
    "              'decision_function_shape': ['ovo', 'ovr']}\n",
    "grid = GridSearchCV(svm.SVC() , param_grid, refit=True, verbose=3)\n",
    "grid.fit(pca_X_train, y_train)\n",
    "print(grid.best_params_)\n",
    "print(grid.best_estimator_)\n",
    "\n",
    "end = time.time()\n",
    "# total time taken\n",
    "print(f\"Runtime of this section is {end - start}\")"
   ]
  },
  {
   "cell_type": "code",
   "execution_count": null,
   "metadata": {},
   "outputs": [],
   "source": [
    "# starting time\n",
    "start = time.time()\n",
    "\n",
    "#define grid for hypertuning\n",
    "param_grid = {'C':[0.1, 1, 10, 100], \n",
    "              'gamma': [1, 0.1, 0.001, 0.0001], \n",
    "              'kernel': ['sigmoid'],\n",
    "              'decision_function_shape': ['ovo', 'ovr']}\n",
    "grid = GridSearchCV(svm.SVC() , param_grid, refit=True, verbose=3)\n",
    "grid.fit(pca_X_train, y_train)\n",
    "print(grid.best_params_)\n",
    "print(grid.best_estimator_)\n",
    "\n",
    "end = time.time()\n",
    "# total time taken\n",
    "print(f\"Runtime of this section is {end - start}\")"
   ]
  },
  {
   "cell_type": "code",
   "execution_count": null,
   "metadata": {},
   "outputs": [],
   "source": [
    "linear = svm.SVC(kernel='linear', C=1, decision_function_shape='ovo').fit(pca_X_train, y_train)\n",
    "linear_pred = linear.predict(pca_X_test)\n",
    "accuracy_lin = linear.score(pca_X_test, y_test)"
   ]
  },
  {
   "cell_type": "code",
   "execution_count": null,
   "metadata": {},
   "outputs": [],
   "source": [
    "rbf = svm.SVC(kernel='rbf', gamma=1, C=1, decision_function_shape='ovo').fit(pca_X_train, y_train)\n",
    "poly_pred = rbf.predict(pca_X_test)\n",
    "accuracy_poly = rbf.score(pca_X_test, y_test)"
   ]
  },
  {
   "cell_type": "code",
   "execution_count": null,
   "metadata": {},
   "outputs": [],
   "source": [
    "poly = svm.SVC(kernel='poly', degree=3, C=1, decision_function_shape='ovo').fit(pca_X_train, y_train)\n",
    "rbf_pred = poly.predict(pca_X_test)\n",
    "accuracy_rbf = poly.score(pca_X_test, y_test)"
   ]
  },
  {
   "cell_type": "code",
   "execution_count": null,
   "metadata": {},
   "outputs": [],
   "source": [
    "sig = svm.SVC(kernel='sigmoid', C=1, decision_function_shape='ovo').fit(pca_X_train, y_train)\n",
    "sig_pred = sig.predict(pca_X_test)\n",
    "accuracy_sig = sig.score(pca_X_test, y_test)"
   ]
  },
  {
   "cell_type": "code",
   "execution_count": null,
   "metadata": {},
   "outputs": [],
   "source": [
    "print('Accuracy Linear Kernel: ', accuracy_lin)\n",
    "print('Accuracy Polynomial Kernel: ', accuracy_poly)\n",
    "print('Accuracy Radial Basis Kernel: ', accuracy_rbf)\n",
    "print('Accuracy Sigmoid Kernel: ', accuracy_sig)"
   ]
  },
  {
   "cell_type": "code",
   "execution_count": null,
   "metadata": {},
   "outputs": [],
   "source": [
    "cm_lin = confusion_matrix(y_test, linear_pred)\n",
    "cm_poly = confusion_matrix(y_test, poly_pred)\n",
    "cm_rbf = confusion_matrix(y_test, rbf_pred)\n",
    "cm_sig = confusion_matrix(y_test, sig_pred)\n",
    "print(cm_lin)\n",
    "print(cm_poly)\n",
    "print(cm_rbf)\n",
    "print(cm_sig)"
   ]
  },
  {
   "cell_type": "markdown",
   "metadata": {},
   "source": [
    "## Support Vector Machine One-vs-Rest"
   ]
  },
  {
   "cell_type": "code",
   "execution_count": null,
   "metadata": {},
   "outputs": [],
   "source": [
    "linear = svm.SVC(kernel='linear', C=1, decision_function_shape='ovr').fit(pca_X_train, y_train)\n",
    "linear_pred = linear.predict(pca_X_test)\n",
    "accuracy_lin = linear.score(pca_X_test, y_test)"
   ]
  },
  {
   "cell_type": "code",
   "execution_count": null,
   "metadata": {},
   "outputs": [],
   "source": [
    "rbf = svm.SVC(kernel='rbf', gamma=1, C=1, decision_function_shape='ovr').fit(pca_X_train, y_train)\n",
    "poly_pred = rbf.predict(pca_X_test)\n",
    "accuracy_poly = rbf.score(pca_X_test, y_test)"
   ]
  },
  {
   "cell_type": "code",
   "execution_count": null,
   "metadata": {},
   "outputs": [],
   "source": [
    "poly = svm.SVC(kernel='poly', degree=3, C=1, decision_function_shape='ovr').fit(pca_X_train, y_train)\n",
    "rbf_pred = poly.predict(pca_X_test)\n",
    "accuracy_rbf = poly.score(pca_X_test, y_test)"
   ]
  },
  {
   "cell_type": "code",
   "execution_count": null,
   "metadata": {},
   "outputs": [],
   "source": [
    "sig = svm.SVC(kernel='sigmoid', C=1, decision_function_shape='ovr').fit(pca_X_train, y_train)\n",
    "sig_pred = sig.predict(pca_X_test)\n",
    "accuracy_sig = sig.score(pca_X_test, y_test)"
   ]
  },
  {
   "cell_type": "code",
   "execution_count": null,
   "metadata": {},
   "outputs": [],
   "source": [
    "print('Accuracy Linear Kernel: ', accuracy_lin)\n",
    "print('Accuracy Polynomial Kernel: ', accuracy_poly)\n",
    "print('Accuracy Radial Basis Kernel: ', accuracy_rbf)\n",
    "print('Accuracy Sigmoid Kernel: ', accuracy_sig)"
   ]
  },
  {
   "cell_type": "code",
   "execution_count": null,
   "metadata": {},
   "outputs": [],
   "source": [
    "cm_lin = confusion_matrix(y_test, linear_pred)\n",
    "cm_poly = confusion_matrix(y_test, poly_pred)\n",
    "cm_rbf = confusion_matrix(y_test, rbf_pred)\n",
    "cm_sig = confusion_matrix(y_test, sig_pred)\n",
    "print(cm_lin)\n",
    "print(cm_poly)\n",
    "print(cm_rbf)\n",
    "print(cm_sig)"
   ]
  },
  {
   "cell_type": "code",
   "execution_count": null,
   "metadata": {},
   "outputs": [],
   "source": []
  }
 ],
 "metadata": {
  "kernelspec": {
   "display_name": "Python 3",
   "language": "python",
   "name": "python3"
  },
  "language_info": {
   "codemirror_mode": {
    "name": "ipython",
    "version": 3
   },
   "file_extension": ".py",
   "mimetype": "text/x-python",
   "name": "python",
   "nbconvert_exporter": "python",
   "pygments_lexer": "ipython3",
   "version": "3.8.5"
  }
 },
 "nbformat": 4,
 "nbformat_minor": 4
}
