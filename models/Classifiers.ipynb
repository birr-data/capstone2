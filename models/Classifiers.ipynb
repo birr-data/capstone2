{
 "cells": [
  {
   "cell_type": "code",
   "execution_count": 1,
   "metadata": {},
   "outputs": [],
   "source": [
    "# Load Library\n",
    "import pandas as pd\n",
    "import numpy as np\n",
    "from sklearn.metrics import accuracy_score, precision_score, confusion_matrix\n",
    "from sklearn.model_selection import train_test_split\n",
    "from sklearn.tree import DecisionTreeClassifier\n",
    "from sklearn.ensemble import RandomForestClassifier, AdaBoostClassifier, GradientBoostingClassifier\n"
   ]
  },
  {
   "cell_type": "code",
   "execution_count": 2,
   "metadata": {},
   "outputs": [],
   "source": [
    "pd.set_option('display.max_columns', None)\n",
    "pd.options.display.max_rows = 1000"
   ]
  },
  {
   "cell_type": "code",
   "execution_count": 3,
   "metadata": {},
   "outputs": [],
   "source": [
    "df = pd.read_csv('D:/cap/capstone2/data/processed/processed.csv')"
   ]
  },
  {
   "cell_type": "code",
   "execution_count": 4,
   "metadata": {},
   "outputs": [],
   "source": [
    "y = df.pop('event_coded')\n",
    "y = np.array(y)\n",
    "feature_list = list(df.columns)\n",
    "X = np.array(df)"
   ]
  },
  {
   "cell_type": "code",
   "execution_count": 5,
   "metadata": {},
   "outputs": [],
   "source": [
    "# Step2: Split the training test set\n",
    "X_train, X_test, y_train, y_test = train_test_split(X, y, test_size = 0.30, random_state = 42)"
   ]
  },
  {
   "cell_type": "code",
   "execution_count": 6,
   "metadata": {},
   "outputs": [
    {
     "name": "stdout",
     "output_type": "stream",
     "text": [
      "Acc:  0.13882863340563992\n",
      "Press weighted:  0.15861830560353907\n",
      "Press micro:  0.15861830560353907\n",
      "Confusion Matrix: \n"
     ]
    },
    {
     "data": {
      "text/plain": [
       "array([[ 45,  82, 125, 262,  46],\n",
       "       [126,  58,  60, 157,  79],\n",
       "       [165,  58,  20, 168,  42],\n",
       "       [436, 217, 204, 257, 149],\n",
       "       [103,  93,  53, 154,  68]], dtype=int64)"
      ]
     },
     "execution_count": 6,
     "metadata": {},
     "output_type": "execute_result"
    }
   ],
   "source": [
    "# Step 3: Fit a Decision Tree model as comparison\n",
    "clf = DecisionTreeClassifier()\n",
    "clf.fit(X_train, y_train)\n",
    "y_pred = clf.predict(X_test)\n",
    "print('Acc: ', accuracy_score(y_test, y_pred))\n",
    "print('Press weighted: ', precision_score(y_test, y_pred, average='weighted'))\n",
    "print('Press micro: ', precision_score(y_test, y_pred, average='weighted'))\n",
    "print('Confusion Matrix: ')\n",
    "confusion_matrix (y_test, y_pred)"
   ]
  },
  {
   "cell_type": "code",
   "execution_count": 7,
   "metadata": {},
   "outputs": [
    {
     "name": "stdout",
     "output_type": "stream",
     "text": [
      "0.20452432599938022\n",
      "Confusion Matrix: \n"
     ]
    },
    {
     "data": {
      "text/plain": [
       "array([[  2,  33,  70, 420,  35],\n",
       "       [ 49,  14,  15, 355,  47],\n",
       "       [ 82,  30,   4, 305,  32],\n",
       "       [250, 131, 183, 620,  79],\n",
       "       [ 37,  45,  22, 347,  20]], dtype=int64)"
      ]
     },
     "execution_count": 7,
     "metadata": {},
     "output_type": "execute_result"
    }
   ],
   "source": [
    "# Step 4: Fit a Random Forest model\n",
    "clf = RandomForestClassifier(n_estimators=100, max_features=\"auto\",random_state=0)\n",
    "clf.fit(X_train, y_train)\n",
    "y_pred = clf.predict(X_test)\n",
    "print(accuracy_score(y_test, y_pred))\n",
    "print('Confusion Matrix: ')\n",
    "confusion_matrix (y_test, y_pred)"
   ]
  },
  {
   "cell_type": "code",
   "execution_count": 8,
   "metadata": {},
   "outputs": [
    {
     "data": {
      "text/plain": [
       "{'n_estimators': 100}"
      ]
     },
     "execution_count": 8,
     "metadata": {},
     "output_type": "execute_result"
    }
   ],
   "source": [
    "from sklearn.model_selection import GridSearchCV\n",
    "\n",
    "clf = AdaBoostClassifier()\n",
    "#Creating a grid of hyperparameters\n",
    "grid_params = {'n_estimators': [100,200,300]}\n",
    "grid_object = GridSearchCV(estimator = clf, param_grid = grid_params, scoring = 'accuracy', cv = 20, n_jobs = -1)\n",
    "grid_object.fit(X_train, y_train)\n",
    "grid_object.best_params_"
   ]
  },
  {
   "cell_type": "code",
   "execution_count": 9,
   "metadata": {},
   "outputs": [
    {
     "name": "stdout",
     "output_type": "stream",
     "text": [
      "0.3780601177564301\n",
      "Confusion Matrix: \n"
     ]
    },
    {
     "data": {
      "text/plain": [
       "array([[  10,    8,    8,  529,    5],\n",
       "       [   8,   13,   11,  437,   11],\n",
       "       [  15,    8,    7,  417,    6],\n",
       "       [  30,   12,   23, 1178,   20],\n",
       "       [  11,    8,   13,  427,   12]], dtype=int64)"
      ]
     },
     "execution_count": 9,
     "metadata": {},
     "output_type": "execute_result"
    }
   ],
   "source": [
    "# Step 5: Fit a AdaBoost model\n",
    "clf = AdaBoostClassifier(n_estimators=100)\n",
    "clf.fit(X_train, y_train)\n",
    "y_pred = clf.predict(X_test)\n",
    "print(accuracy_score(y_test, y_pred))\n",
    "print('Confusion Matrix: ')\n",
    "confusion_matrix (y_test, y_pred)"
   ]
  },
  {
   "cell_type": "code",
   "execution_count": 10,
   "metadata": {},
   "outputs": [
    {
     "data": {
      "text/plain": [
       "{'n_estimators': 100}"
      ]
     },
     "execution_count": 10,
     "metadata": {},
     "output_type": "execute_result"
    }
   ],
   "source": [
    "clf = GradientBoostingClassifier()\n",
    "#Creating a grid of hyperparameters\n",
    "grid_params = {'n_estimators': [100,200,300]}\n",
    "grid_object = GridSearchCV(estimator = clf, param_grid = grid_params, scoring = 'accuracy', cv = 5, n_jobs = -1)\n",
    "grid_object.fit(X_train, y_train)\n",
    "grid_object.best_params_"
   ]
  },
  {
   "cell_type": "code",
   "execution_count": 11,
   "metadata": {},
   "outputs": [
    {
     "name": "stdout",
     "output_type": "stream",
     "text": [
      "0.36163619460799507\n",
      "Confusion Matrix: \n"
     ]
    },
    {
     "data": {
      "text/plain": [
       "array([[   2,    7,   11,  534,    6],\n",
       "       [   6,    9,    8,  446,   11],\n",
       "       [  11,    4,    4,  428,    6],\n",
       "       [  45,   20,   41, 1138,   19],\n",
       "       [   9,   11,    6,  431,   14]], dtype=int64)"
      ]
     },
     "execution_count": 11,
     "metadata": {},
     "output_type": "execute_result"
    }
   ],
   "source": [
    "# Step 6: Fit a Gradient Boosting model\n",
    "clf = GradientBoostingClassifier(n_estimators=100)\n",
    "clf.fit(X_train, y_train)\n",
    "y_pred = clf.predict(X_test)\n",
    "print(accuracy_score(y_test, y_pred))\n",
    "print('Confusion Matrix: ')\n",
    "confusion_matrix (y_test, y_pred)"
   ]
  },
  {
   "cell_type": "markdown",
   "metadata": {},
   "source": [
    "### PCA"
   ]
  },
  {
   "cell_type": "code",
   "execution_count": 29,
   "metadata": {},
   "outputs": [],
   "source": [
    "from sklearn.decomposition import PCA\n",
    "import matplotlib.pyplot as plt"
   ]
  },
  {
   "cell_type": "code",
   "execution_count": 30,
   "metadata": {},
   "outputs": [],
   "source": [
    "from matplotlib.pyplot import figure"
   ]
  },
  {
   "cell_type": "code",
   "execution_count": 31,
   "metadata": {},
   "outputs": [
    {
     "data": {
      "text/plain": [
       "PCA(n_components=40)"
      ]
     },
     "execution_count": 31,
     "metadata": {},
     "output_type": "execute_result"
    }
   ],
   "source": [
    "pca_view = PCA(n_components = 40)\n",
    "pca_view.fit(X_train)"
   ]
  },
  {
   "cell_type": "code",
   "execution_count": 32,
   "metadata": {},
   "outputs": [
    {
     "data": {
      "image/png": "[encoded data removed]",
      "text/plain": [
       "<Figure size 1152x936 with 1 Axes>"
      ]
     },
     "metadata": {
      "needs_background": "light"
     },
     "output_type": "display_data"
    }
   ],
   "source": [
    "\n",
    "fig= plt.figure(figsize=(16,13))\n",
    "features = range(pca_view.n_components_)\n",
    "plt.bar(features, pca_view.explained_variance_)\n",
    "plt.xticks(features)\n",
    "plt.ylabel('variance')\n",
    "plt.xlabel('PCA feature')\n",
    "plt.show()\n"
   ]
  },
  {
   "cell_type": "code",
   "execution_count": 33,
   "metadata": {},
   "outputs": [
    {
     "data": {
      "text/html": [
       "<div>\n",
       "<style scoped>\n",
       "    .dataframe tbody tr th:only-of-type {\n",
       "        vertical-align: middle;\n",
       "    }\n",
       "\n",
       "    .dataframe tbody tr th {\n",
       "        vertical-align: top;\n",
       "    }\n",
       "\n",
       "    .dataframe thead th {\n",
       "        text-align: right;\n",
       "    }\n",
       "</style>\n",
       "<table border=\"1\" class=\"dataframe\">\n",
       "  <thead>\n",
       "    <tr style=\"text-align: right;\">\n",
       "      <th></th>\n",
       "      <th>0</th>\n",
       "      <th>1</th>\n",
       "      <th>2</th>\n",
       "      <th>3</th>\n",
       "      <th>4</th>\n",
       "      <th>5</th>\n",
       "      <th>6</th>\n",
       "      <th>7</th>\n",
       "      <th>8</th>\n",
       "      <th>9</th>\n",
       "      <th>10</th>\n",
       "      <th>11</th>\n",
       "      <th>12</th>\n",
       "      <th>13</th>\n",
       "      <th>14</th>\n",
       "      <th>15</th>\n",
       "      <th>16</th>\n",
       "      <th>17</th>\n",
       "      <th>18</th>\n",
       "      <th>19</th>\n",
       "    </tr>\n",
       "  </thead>\n",
       "  <tbody>\n",
       "    <tr>\n",
       "      <th>7523</th>\n",
       "      <td>-1.178246</td>\n",
       "      <td>0.196310</td>\n",
       "      <td>0.281742</td>\n",
       "      <td>-0.171562</td>\n",
       "      <td>0.045828</td>\n",
       "      <td>0.067476</td>\n",
       "      <td>-0.037571</td>\n",
       "      <td>0.105696</td>\n",
       "      <td>0.218637</td>\n",
       "      <td>-0.537891</td>\n",
       "      <td>0.519981</td>\n",
       "      <td>0.057219</td>\n",
       "      <td>-0.284188</td>\n",
       "      <td>0.056738</td>\n",
       "      <td>0.240887</td>\n",
       "      <td>0.092095</td>\n",
       "      <td>0.370930</td>\n",
       "      <td>-0.161069</td>\n",
       "      <td>-0.283779</td>\n",
       "      <td>-0.111881</td>\n",
       "    </tr>\n",
       "    <tr>\n",
       "      <th>7524</th>\n",
       "      <td>-1.102547</td>\n",
       "      <td>-0.530778</td>\n",
       "      <td>0.687564</td>\n",
       "      <td>0.770362</td>\n",
       "      <td>-0.191658</td>\n",
       "      <td>-0.441767</td>\n",
       "      <td>0.394350</td>\n",
       "      <td>0.017347</td>\n",
       "      <td>-0.509301</td>\n",
       "      <td>0.050969</td>\n",
       "      <td>0.328465</td>\n",
       "      <td>-0.006085</td>\n",
       "      <td>-0.278533</td>\n",
       "      <td>-0.158063</td>\n",
       "      <td>0.492986</td>\n",
       "      <td>0.395302</td>\n",
       "      <td>0.440734</td>\n",
       "      <td>-1.810714</td>\n",
       "      <td>0.716598</td>\n",
       "      <td>-1.093763</td>\n",
       "    </tr>\n",
       "    <tr>\n",
       "      <th>7525</th>\n",
       "      <td>-1.097487</td>\n",
       "      <td>-0.342011</td>\n",
       "      <td>0.429459</td>\n",
       "      <td>0.725847</td>\n",
       "      <td>2.711868</td>\n",
       "      <td>-1.066561</td>\n",
       "      <td>0.161571</td>\n",
       "      <td>0.951588</td>\n",
       "      <td>-0.857435</td>\n",
       "      <td>0.413098</td>\n",
       "      <td>-0.095733</td>\n",
       "      <td>0.266692</td>\n",
       "      <td>0.535060</td>\n",
       "      <td>-0.390510</td>\n",
       "      <td>-0.276956</td>\n",
       "      <td>0.487463</td>\n",
       "      <td>0.124822</td>\n",
       "      <td>0.188314</td>\n",
       "      <td>-0.451749</td>\n",
       "      <td>0.582591</td>\n",
       "    </tr>\n",
       "    <tr>\n",
       "      <th>7526</th>\n",
       "      <td>-1.244525</td>\n",
       "      <td>-0.313812</td>\n",
       "      <td>0.711484</td>\n",
       "      <td>0.693814</td>\n",
       "      <td>-0.103665</td>\n",
       "      <td>-0.194768</td>\n",
       "      <td>0.028570</td>\n",
       "      <td>0.033072</td>\n",
       "      <td>0.325681</td>\n",
       "      <td>0.184242</td>\n",
       "      <td>-0.133517</td>\n",
       "      <td>-0.304546</td>\n",
       "      <td>-0.515443</td>\n",
       "      <td>0.531494</td>\n",
       "      <td>0.321972</td>\n",
       "      <td>0.113747</td>\n",
       "      <td>0.209401</td>\n",
       "      <td>-0.484161</td>\n",
       "      <td>-0.160124</td>\n",
       "      <td>-0.560414</td>\n",
       "    </tr>\n",
       "    <tr>\n",
       "      <th>7527</th>\n",
       "      <td>-1.535893</td>\n",
       "      <td>0.602965</td>\n",
       "      <td>0.544362</td>\n",
       "      <td>-0.364640</td>\n",
       "      <td>0.119387</td>\n",
       "      <td>0.157727</td>\n",
       "      <td>0.077364</td>\n",
       "      <td>0.073816</td>\n",
       "      <td>0.131922</td>\n",
       "      <td>-0.048532</td>\n",
       "      <td>0.069950</td>\n",
       "      <td>0.057703</td>\n",
       "      <td>-0.003218</td>\n",
       "      <td>0.076635</td>\n",
       "      <td>-0.022575</td>\n",
       "      <td>0.025533</td>\n",
       "      <td>0.193997</td>\n",
       "      <td>0.159442</td>\n",
       "      <td>-0.206028</td>\n",
       "      <td>0.167761</td>\n",
       "    </tr>\n",
       "  </tbody>\n",
       "</table>\n",
       "</div>"
      ],
      "text/plain": [
       "             0         1         2         3         4         5         6  \\\n",
       "7523 -1.178246  0.196310  0.281742 -0.171562  0.045828  0.067476 -0.037571   \n",
       "7524 -1.102547 -0.530778  0.687564  0.770362 -0.191658 -0.441767  0.394350   \n",
       "7525 -1.097487 -0.342011  0.429459  0.725847  2.711868 -1.066561  0.161571   \n",
       "7526 -1.244525 -0.313812  0.711484  0.693814 -0.103665 -0.194768  0.028570   \n",
       "7527 -1.535893  0.602965  0.544362 -0.364640  0.119387  0.157727  0.077364   \n",
       "\n",
       "             7         8         9        10        11        12        13  \\\n",
       "7523  0.105696  0.218637 -0.537891  0.519981  0.057219 -0.284188  0.056738   \n",
       "7524  0.017347 -0.509301  0.050969  0.328465 -0.006085 -0.278533 -0.158063   \n",
       "7525  0.951588 -0.857435  0.413098 -0.095733  0.266692  0.535060 -0.390510   \n",
       "7526  0.033072  0.325681  0.184242 -0.133517 -0.304546 -0.515443  0.531494   \n",
       "7527  0.073816  0.131922 -0.048532  0.069950  0.057703 -0.003218  0.076635   \n",
       "\n",
       "            14        15        16        17        18        19  \n",
       "7523  0.240887  0.092095  0.370930 -0.161069 -0.283779 -0.111881  \n",
       "7524  0.492986  0.395302  0.440734 -1.810714  0.716598 -1.093763  \n",
       "7525 -0.276956  0.487463  0.124822  0.188314 -0.451749  0.582591  \n",
       "7526  0.321972  0.113747  0.209401 -0.484161 -0.160124 -0.560414  \n",
       "7527 -0.022575  0.025533  0.193997  0.159442 -0.206028  0.167761  "
      ]
     },
     "execution_count": 33,
     "metadata": {},
     "output_type": "execute_result"
    }
   ],
   "source": [
    "pca = PCA(n_components = 20)\n",
    "pca_X_train = pca.fit_transform(X_train)\n",
    "pca_X_test = pca.transform(X_test)\n",
    "pca_X_df = pd.DataFrame(pca_X_train)\n",
    "pca_X_df.tail()"
   ]
  },
  {
   "cell_type": "code",
   "execution_count": 34,
   "metadata": {},
   "outputs": [
    {
     "name": "stdout",
     "output_type": "stream",
     "text": [
      "Explained variation per component: [0.15430341 0.08137103 0.06672442 0.0592121  0.04605168 0.04312547\n",
      " 0.03935353 0.03827297 0.03353759 0.03272863 0.0311406  0.02991838\n",
      " 0.0254923  0.02191428 0.02041803 0.01962405 0.01823206 0.0163359\n",
      " 0.0150234  0.0138364 ]\n",
      "Total Explained variation: 0.8066162338082489\n"
     ]
    }
   ],
   "source": [
    "print('Explained variation per component: {}'.format((pca.explained_variance_ratio_)))\n",
    "print('Total Explained variation: {}'.format((pca.explained_variance_ratio_.sum())))"
   ]
  },
  {
   "cell_type": "code",
   "execution_count": 48,
   "metadata": {},
   "outputs": [
    {
     "name": "stdout",
     "output_type": "stream",
     "text": [
      "0.3796095444685466\n",
      "Confusion Matrix: \n"
     ]
    },
    {
     "data": {
      "text/plain": [
       "array([[  12,    6,    8,  523,   11],\n",
       "       [  12,   17,    3,  438,   10],\n",
       "       [  16,   10,    2,  418,    7],\n",
       "       [  25,   16,   12, 1186,   24],\n",
       "       [   6,   11,    3,  443,    8]], dtype=int64)"
      ]
     },
     "execution_count": 48,
     "metadata": {},
     "output_type": "execute_result"
    }
   ],
   "source": [
    "# Step 5: Fit a AdaBoost model\n",
    "clf = AdaBoostClassifier(n_estimators=100)\n",
    "clf.fit(pca_X_train, y_train)\n",
    "y_pred = clf.predict(pca_X_test)\n",
    "print(accuracy_score(y_test, y_pred))\n",
    "print('Confusion Matrix: ')\n",
    "confusion_matrix (y_test, y_pred)"
   ]
  },
  {
   "cell_type": "markdown",
   "metadata": {},
   "source": [
    "## SVM OVO"
   ]
  },
  {
   "cell_type": "code",
   "execution_count": 36,
   "metadata": {},
   "outputs": [],
   "source": [
    "from sklearn import svm"
   ]
  },
  {
   "cell_type": "code",
   "execution_count": 55,
   "metadata": {},
   "outputs": [],
   "source": [
    "linear = svm.SVC(kernel='linear', C=1, decision_function_shape='ovo').fit(pca_X_train, y_train)\n",
    "linear_pred = linear.predict(pca_X_test)\n",
    "accuracy_lin = linear.score(pca_X_test, y_test)"
   ]
  },
  {
   "cell_type": "code",
   "execution_count": 40,
   "metadata": {},
   "outputs": [],
   "source": [
    "rbf = svm.SVC(kernel='rbf', gamma=1, C=1, decision_function_shape='ovo').fit(pca_X_train, y_train)\n",
    "poly_pred = rbf.predict(pca_X_test)\n",
    "accuracy_poly = rbf.score(pca_X_test, y_test)"
   ]
  },
  {
   "cell_type": "code",
   "execution_count": 41,
   "metadata": {},
   "outputs": [],
   "source": [
    "poly = svm.SVC(kernel='poly', degree=3, C=1, decision_function_shape='ovo').fit(pca_X_train, y_train)\n",
    "rbf_pred = poly.predict(pca_X_test)\n",
    "accuracy_rbf = poly.score(pca_X_test, y_test)"
   ]
  },
  {
   "cell_type": "code",
   "execution_count": 42,
   "metadata": {},
   "outputs": [],
   "source": [
    "sig = svm.SVC(kernel='sigmoid', C=1, decision_function_shape='ovo').fit(pca_X_train, y_train)\n",
    "sig_pred = sig.predict(pca_X_test)\n",
    "accuracy_sig = sig.score(pca_X_test, y_test)"
   ]
  },
  {
   "cell_type": "code",
   "execution_count": 56,
   "metadata": {},
   "outputs": [
    {
     "name": "stdout",
     "output_type": "stream",
     "text": [
      "Accuracy Linear Kernel:  0.39107530213820885\n",
      "Accuracy Polynomial Kernel:  0.341183762008057\n",
      "Accuracy Radial Basis Kernel:  0.3805392004958165\n",
      "Accuracy Sigmoid Kernel:  0.35512860241710564\n"
     ]
    }
   ],
   "source": [
    "print('Accuracy Linear Kernel: ', accuracy_lin)\n",
    "print('Accuracy Polynomial Kernel: ', accuracy_poly)\n",
    "print('Accuracy Radial Basis Kernel: ', accuracy_rbf)\n",
    "print('Accuracy Sigmoid Kernel: ', accuracy_sig)"
   ]
  },
  {
   "cell_type": "code",
   "execution_count": 46,
   "metadata": {},
   "outputs": [
    {
     "name": "stdout",
     "output_type": "stream",
     "text": [
      "[[   0    0    0  560    0]\n",
      " [   0    0    0  480    0]\n",
      " [   0    0    0  453    0]\n",
      " [   0    0    0 1262    1]\n",
      " [   0    0    0  471    0]]\n",
      "[[   0    8   10  534    8]\n",
      " [   7    4    3  455   11]\n",
      " [  19    6    1  422    5]\n",
      " [  85   27   41 1096   14]\n",
      " [   7    8    2  454    0]]\n",
      "[[   4    2    4  547    3]\n",
      " [   4    8    7  454    7]\n",
      " [   9    2    1  440    1]\n",
      " [  20    8   16 1212    7]\n",
      " [   5   10    4  449    3]]\n",
      "[[  32   27    2  483   16]\n",
      " [  36   23    4  391   26]\n",
      " [  34   25    0  379   15]\n",
      " [  90   62    2 1073   36]\n",
      " [  22   17    2  412   18]]\n"
     ]
    }
   ],
   "source": [
    "cm_lin = confusion_matrix(y_test, linear_pred)\n",
    "cm_poly = confusion_matrix(y_test, poly_pred)\n",
    "cm_rbf = confusion_matrix(y_test, rbf_pred)\n",
    "cm_sig = confusion_matrix(y_test, sig_pred)\n",
    "print(cm_lin)\n",
    "print(cm_poly)\n",
    "print(cm_rbf)\n",
    "print(cm_sig)"
   ]
  },
  {
   "cell_type": "markdown",
   "metadata": {},
   "source": [
    "## SVM OVR"
   ]
  },
  {
   "cell_type": "code",
   "execution_count": 49,
   "metadata": {},
   "outputs": [],
   "source": [
    "linear = svm.SVC(kernel='linear', C=1, decision_function_shape='ovr').fit(pca_X_train, y_train)\n",
    "linear_pred = linear.predict(pca_X_test)\n",
    "accuracy_lin = linear.score(pca_X_test, y_test)"
   ]
  },
  {
   "cell_type": "code",
   "execution_count": 50,
   "metadata": {},
   "outputs": [],
   "source": [
    "rbf = svm.SVC(kernel='rbf', gamma=1, C=1, decision_function_shape='ovr').fit(pca_X_train, y_train)\n",
    "poly_pred = rbf.predict(pca_X_test)\n",
    "accuracy_poly = rbf.score(pca_X_test, y_test)"
   ]
  },
  {
   "cell_type": "code",
   "execution_count": 51,
   "metadata": {},
   "outputs": [],
   "source": [
    "poly = svm.SVC(kernel='poly', degree=3, C=1, decision_function_shape='ovr').fit(pca_X_train, y_train)\n",
    "rbf_pred = poly.predict(pca_X_test)\n",
    "accuracy_rbf = poly.score(pca_X_test, y_test)"
   ]
  },
  {
   "cell_type": "code",
   "execution_count": 52,
   "metadata": {},
   "outputs": [],
   "source": [
    "sig = svm.SVC(kernel='sigmoid', C=1, decision_function_shape='ovr').fit(pca_X_train, y_train)\n",
    "sig_pred = sig.predict(pca_X_test)\n",
    "accuracy_sig = sig.score(pca_X_test, y_test)"
   ]
  },
  {
   "cell_type": "code",
   "execution_count": 53,
   "metadata": {},
   "outputs": [
    {
     "name": "stdout",
     "output_type": "stream",
     "text": [
      "Accuracy Linear Kernel:  0.39107530213820885\n",
      "Accuracy Polynomial Kernel:  0.341183762008057\n",
      "Accuracy Radial Basis Kernel:  0.3805392004958165\n",
      "Accuracy Sigmoid Kernel:  0.35512860241710564\n"
     ]
    }
   ],
   "source": [
    "print('Accuracy Linear Kernel: ', accuracy_lin)\n",
    "print('Accuracy Polynomial Kernel: ', accuracy_poly)\n",
    "print('Accuracy Radial Basis Kernel: ', accuracy_rbf)\n",
    "print('Accuracy Sigmoid Kernel: ', accuracy_sig)"
   ]
  },
  {
   "cell_type": "code",
   "execution_count": 54,
   "metadata": {},
   "outputs": [
    {
     "name": "stdout",
     "output_type": "stream",
     "text": [
      "[[   0    0    0  560    0]\n",
      " [   0    0    0  480    0]\n",
      " [   0    0    0  453    0]\n",
      " [   0    0    0 1262    1]\n",
      " [   0    0    0  471    0]]\n",
      "[[   0    8   10  534    8]\n",
      " [   7    4    3  455   11]\n",
      " [  19    6    1  422    5]\n",
      " [  85   27   41 1096   14]\n",
      " [   7    8    2  454    0]]\n",
      "[[   4    2    4  547    3]\n",
      " [   4    8    7  454    7]\n",
      " [   9    2    1  440    1]\n",
      " [  20    8   16 1212    7]\n",
      " [   5   10    4  449    3]]\n",
      "[[  32   27    2  483   16]\n",
      " [  36   23    4  391   26]\n",
      " [  34   25    0  379   15]\n",
      " [  90   62    2 1073   36]\n",
      " [  22   17    2  412   18]]\n"
     ]
    }
   ],
   "source": [
    "cm_lin = confusion_matrix(y_test, linear_pred)\n",
    "cm_poly = confusion_matrix(y_test, poly_pred)\n",
    "cm_rbf = confusion_matrix(y_test, rbf_pred)\n",
    "cm_sig = confusion_matrix(y_test, sig_pred)\n",
    "print(cm_lin)\n",
    "print(cm_poly)\n",
    "print(cm_rbf)\n",
    "print(cm_sig)"
   ]
  },
  {
   "cell_type": "code",
   "execution_count": null,
   "metadata": {},
   "outputs": [],
   "source": []
  }
 ],
 "metadata": {
  "kernelspec": {
   "display_name": "Python 3",
   "language": "python",
   "name": "python3"
  },
  "language_info": {
   "codemirror_mode": {
    "name": "ipython",
    "version": 3
   },
   "file_extension": ".py",
   "mimetype": "text/x-python",
   "name": "python",
   "nbconvert_exporter": "python",
   "pygments_lexer": "ipython3",
   "version": "3.8.5"
  }
 },
 "nbformat": 4,
 "nbformat_minor": 4
}
