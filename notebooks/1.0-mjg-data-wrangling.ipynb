{
 "cells": [
  {
   "cell_type": "markdown",
   "metadata": {},
   "source": [
    "The data source for this project is the National Transportation Safety Board Aviation Accident database available at \n",
    "https://app.ntsb.gov/avdata/Access/\n",
    "\n",
    "This is a MS Access formated database composed of 20 tables. \n",
    "\n",
    "For the purpose of this project an initial subset of the data was filtered out of MS Access using that program's query utilities. This initial definition was meant to be broad in scope to make the dataset for the project more manageable.\n",
    "This was done by avoiding to export columns that clearly would not contribute to the analysis of the problem and only selecting records pertinent to the project (i.e. commercial flight operations were left out of the export.)\n",
    "\n",
    "\n",
    "The following tables were condensed and exported to csv files:\n",
    "- aircraft: condensed from 93 to 34 columns and from 85337 records to 69071.\n",
    "- crew_flt_time: condensed from 8 to 6 columns.\n",
    "- crew: condensed from 33 to 17 columns.\n",
    "- crew_ratings: condensed from 7 to 5 columns.\n",
    "- events: condensed from 71 to 33 columns.\n",
    "- findings: condensed from 13 to 11 columns."
   ]
  },
  {
   "cell_type": "code",
   "execution_count": 1,
   "metadata": {},
   "outputs": [],
   "source": [
    "import pandas as pd\n",
    "import numpy as np\n",
    "from pandas_profiling import ProfileReport\n",
    "import missingno as msno\n",
    "import matplotlib.pyplot as plt"
   ]
  },
  {
   "cell_type": "code",
   "execution_count": 2,
   "metadata": {},
   "outputs": [],
   "source": [
    "def generate_profile(df):\n",
    "    '''generate pandas profile'''\n",
    "    \n",
    "    profile = ProfileReport(df)\n",
    "    profile.to_widgets()"
   ]
  },
  {
   "cell_type": "markdown",
   "metadata": {},
   "source": [
    "The aircraft dataset contains information on the aircraft involved in the accident. The column 'far_part' will be used to determine under what code the flight was operating. This is were the data can be filter to include only General Aviation records and exclude commercial aviation. The column 'second_pilot' will be use to filter the data to include only single pilot operations (scope of analysis). Other remaining fields may be useful in analysis."
   ]
  },
  {
   "cell_type": "code",
   "execution_count": 3,
   "metadata": {},
   "outputs": [],
   "source": [
    "file = 'D:/cap/capstone2/data/raw/aircraft.csv'\n",
    "aircraft = pd.read_csv(file, encoding = 'Windows-1252', low_memory = False)   "
   ]
  },
  {
   "cell_type": "code",
   "execution_count": 4,
   "metadata": {},
   "outputs": [
    {
     "data": {
      "application/vnd.jupyter.widget-view+json": {
       "model_id": "64db2cdd5182493ca328edaaeae43060",
       "version_major": 2,
       "version_minor": 0
      },
      "text/plain": [
       "HBox(children=(FloatProgress(value=0.0, description='Summarize dataset', max=52.0, style=ProgressStyle(descrip…"
      ]
     },
     "metadata": {},
     "output_type": "display_data"
    },
    {
     "name": "stdout",
     "output_type": "stream",
     "text": [
      "\n"
     ]
    },
    {
     "data": {
      "application/vnd.jupyter.widget-view+json": {
       "model_id": "cfc7b31bf6364e57a7d76cf90e3653ea",
       "version_major": 2,
       "version_minor": 0
      },
      "text/plain": [
       "HBox(children=(FloatProgress(value=0.0, description='Generate report structure', max=1.0, style=ProgressStyle(…"
      ]
     },
     "metadata": {},
     "output_type": "display_data"
    },
    {
     "name": "stderr",
     "output_type": "stream",
     "text": [
      "D:\\Anaconda\\envs\\Capstone2\\lib\\site-packages\\pandas_profiling\\visualisation\\plot.py:160: MatplotlibDeprecationWarning: You are modifying the state of a globally registered colormap. In future versions, you will not be able to modify a registered colormap in-place. To remove this warning, you can make a copy of the colormap first. cmap = copy.copy(mpl.cm.get_cmap(\"RdBu\"))\n",
      "  cmap.set_bad(cmap_bad)\n",
      "D:\\Anaconda\\envs\\Capstone2\\lib\\site-packages\\pandas_profiling\\visualisation\\plot.py:160: MatplotlibDeprecationWarning: You are modifying the state of a globally registered colormap. In future versions, you will not be able to modify a registered colormap in-place. To remove this warning, you can make a copy of the colormap first. cmap = copy.copy(mpl.cm.get_cmap(\"RdBu\"))\n",
      "  cmap.set_bad(cmap_bad)\n",
      "D:\\Anaconda\\envs\\Capstone2\\lib\\site-packages\\pandas_profiling\\visualisation\\plot.py:160: MatplotlibDeprecationWarning: You are modifying the state of a globally registered colormap. In future versions, you will not be able to modify a registered colormap in-place. To remove this warning, you can make a copy of the colormap first. cmap = copy.copy(mpl.cm.get_cmap(\"RdBu\"))\n",
      "  cmap.set_bad(cmap_bad)\n"
     ]
    },
    {
     "name": "stdout",
     "output_type": "stream",
     "text": [
      "\n"
     ]
    },
    {
     "data": {
      "application/vnd.jupyter.widget-view+json": {
       "model_id": "",
       "version_major": 2,
       "version_minor": 0
      },
      "text/plain": [
       "HBox(children=(FloatProgress(value=0.0, description='Render widgets', max=1.0, style=ProgressStyle(description…"
      ]
     },
     "metadata": {},
     "output_type": "display_data"
    },
    {
     "data": {
      "application/vnd.jupyter.widget-view+json": {
       "model_id": "f10221961e734ce984059a467de29416",
       "version_major": 2,
       "version_minor": 0
      },
      "text/plain": [
       "VBox(children=(Tab(children=(Tab(children=(GridBox(children=(VBox(children=(GridspecLayout(children=(HTML(valu…"
      ]
     },
     "metadata": {},
     "output_type": "display_data"
    }
   ],
   "source": [
    "#initial profile\n",
    "generate_profile(aircraft)"
   ]
  },
  {
   "cell_type": "markdown",
   "metadata": {},
   "source": [
    "An initial review of this dataset indicates several columns have a large number of missing values while others are not germane to the scope of the analysis. These columns will be dropped. "
   ]
  },
  {
   "cell_type": "code",
   "execution_count": 5,
   "metadata": {},
   "outputs": [
    {
     "name": "stdout",
     "output_type": "stream",
     "text": [
      "(85337, 38)\n",
      "(0, 38)\n",
      "59792\n"
     ]
    }
   ],
   "source": [
    "# These columns have no usable data or are missing too many values to be of use\n",
    "print(aircraft.shape)\n",
    "\n",
    "ifr = aircraft[aircraft.ifr_equipped_cert != 0]\n",
    "print(ifr.shape)\n",
    "\n",
    "flt_plan = aircraft.flight_plan_activated.isnull().sum()\n",
    "print(flt_plan)\n",
    "\n",
    "# column has no usable data\n",
    "aircraft.drop(columns=['ifr_equipped_cert', 'flight_plan_activated'], inplace=True)"
   ]
  },
  {
   "cell_type": "code",
   "execution_count": 6,
   "metadata": {},
   "outputs": [
    {
     "name": "stdout",
     "output_type": "stream",
     "text": [
      "Index(['ev_id', 'Aircraft_Key', 'far_part', 'flt_plan_filed', 'acft_make',\n",
      "       'acft_model', 'fixed_retractable', 'total_seats', 'num_eng', 'type_fly',\n",
      "       'second_pilot', 'phase_flt_spec'],\n",
      "      dtype='object')\n"
     ]
    }
   ],
   "source": [
    "#drop columns not applicable to analysis\n",
    "to_drop = ['damage', 'acft_serial_no', 'cert_max_gr_wt', 'acft_category', 'homebuilt', \n",
    "           'type_last_insp', 'date_last_insp', 'afm_hrs_last_insp', 'acft_reg_cls', 'afm_hrs', 'dprt_pt_same_ev', 'dprt_apt_id',\n",
    "           'dprt_time', 'dprt_timezn', 'dest_same_local', 'dest_apt_id', 'afm_hrs_since', 'rwy_num', 'rwy_len', \n",
    "           'rwy_width', 'site_seeing', 'air_medical', 'med_type_flight', 'acft_year']\n",
    "           \n",
    "aircraft.drop(columns = to_drop, inplace=True)\n",
    "print(aircraft.columns)"
   ]
  },
  {
   "cell_type": "code",
   "execution_count": 7,
   "metadata": {},
   "outputs": [
    {
     "name": "stdout",
     "output_type": "stream",
     "text": [
      "85337\n"
     ]
    },
    {
     "data": {
      "text/plain": [
       "array(['91', '129', 'UNK ', '137', 'NUSN', nan, '135', 'NUSC', 'PUBU',\n",
       "       '121', '133', '103', '091F', 'ARMF', '125', '091K', '107', '437'],\n",
       "      dtype=object)"
      ]
     },
     "execution_count": 7,
     "metadata": {},
     "output_type": "execute_result"
    }
   ],
   "source": [
    "print(len(aircraft))\n",
    "aircraft.far_part.unique()"
   ]
  },
  {
   "cell_type": "markdown",
   "metadata": {},
   "source": [
    "Categorical values for operational code (far_part) are consistent.\n",
    "\n",
    "Task: Filter dataset by 'far_part' column to retain only non-commercial aviation cases.\n",
    "\n",
    "Retained records: 091, 091F, 091K - General Aviation\n",
    "                  103             - Ultralight aircraft\n",
    "                  UNK             - to check if record is GA by other means"
   ]
  },
  {
   "cell_type": "code",
   "execution_count": 8,
   "metadata": {},
   "outputs": [
    {
     "name": "stdout",
     "output_type": "stream",
     "text": [
      "(68705, 12)\n"
     ]
    },
    {
     "data": {
      "text/plain": [
       "array(['91', '103', '091F', '091K'], dtype=object)"
      ]
     },
     "execution_count": 8,
     "metadata": {},
     "output_type": "execute_result"
    }
   ],
   "source": [
    "aircraft_ga = aircraft[aircraft['far_part'].isin(['91', '091F', '091K', '103', 'UNK'])]\n",
    "print(aircraft_ga.shape)\n",
    "aircraft_ga.far_part.unique()"
   ]
  },
  {
   "cell_type": "markdown",
   "metadata": {},
   "source": [
    "Column 'second_pilot' indicates whether flight was conducted by a single pilot or crew. The scope of this analysis is limited to single pilot operations. Will discard records indicating a second pilot was present. Will retain null entries and those markes as 'U' (unknown) and will attempt to derive its value indirectly. \n",
    "\n",
    "Task: Filter dataset to include only single pilot operations."
   ]
  },
  {
   "cell_type": "code",
   "execution_count": 9,
   "metadata": {},
   "outputs": [
    {
     "name": "stdout",
     "output_type": "stream",
     "text": [
      "['N' nan 'U']\n",
      "(59482, 12)\n"
     ]
    }
   ],
   "source": [
    "aircraft_ga_single = aircraft_ga[aircraft_ga['second_pilot'] != 'Y']\n",
    "print(aircraft_ga_single['second_pilot'].unique())\n",
    "print(aircraft_ga_single.shape)"
   ]
  },
  {
   "cell_type": "code",
   "execution_count": 10,
   "metadata": {},
   "outputs": [
    {
     "name": "stdout",
     "output_type": "stream",
     "text": [
      "[570. 560. 520.  nan   0. 522. 571. 565. 572. 580. 513. 540. 541. 530.\n",
      " 550. 500. 553. 523. 564. 573. 610. 521. 574. 576. 510. 600. 568. 531.\n",
      " 502. 582. 581. 563. 514. 590. 591. 551. 575. 512. 503. 561. 583. 566.\n",
      " 504. 552. 562. 567. 569. 592. 505. 501. 400. 250. 542.]\n"
     ]
    }
   ],
   "source": [
    "print(aircraft_ga_single['phase_flt_spec'].unique())"
   ]
  },
  {
   "cell_type": "markdown",
   "metadata": {},
   "source": [
    "Phase of flight is categorical data inputed as codes. \n",
    "\n",
    "Task: Map descriptibe text to categorical codes for column 'phase_flt_spec\" to improve readability."
   ]
  },
  {
   "cell_type": "code",
   "execution_count": 11,
   "metadata": {},
   "outputs": [
    {
     "name": "stdout",
     "output_type": "stream",
     "text": [
      "['Landing' 'Approach' 'Takeoff' None 'Takeoff - initial climb'\n",
      " 'Landing - flare/touchdown' 'Go-around (VFR)' 'Landing - roll'\n",
      " 'Maneuvering' 'Taxi - from landing' 'Cruise' 'Cruise - normal' 'Climb'\n",
      " 'Descent' 'Standing' 'Descent - uncontrolled' 'Takeoff - aborted'\n",
      " 'Approach - VFR pattern - final approach' 'Landing - aborted' 'Unknown'\n",
      " 'Takeoff - roll/run' 'Emergency landing' 'Emergency descent/landing'\n",
      " 'Taxi' 'Other' 'Approach - circling (IFR)' 'Climb - to cruise'\n",
      " 'Standing - starting engine(s)' 'Maneuvering - turn to reverse direction'\n",
      " 'Maneuvering - aerial application'\n",
      " 'Approach - VFR pattern - base leg/base to final' 'Taxi - aerial' 'Hover'\n",
      " 'Hover - in ground effect' 'Descent - normal'\n",
      " 'Emergency landing after takeoff' 'Taxi - to takeoff'\n",
      " 'Standing - engine(s) operating' 'Approach - VFR pattern - downwind'\n",
      " 'Maneuvering - turn to landing area (emergency)'\n",
      " 'Approach - Initial approach fix (IAF) to final approach fix (FAF)/outer marker (IFR)'\n",
      " 'Standing - engine(s) not operating' 'Descent - emergency'\n",
      " 'Approach - VFR pattern - turn to base'\n",
      " 'Approach - final approach fix (FAF)/outer marker to threshold (IFR)'\n",
      " 'Missed approach (IFR)' 'Hover - out of ground effect'\n",
      " 'Standing - idling rotors' 'Standing - pre-flight' nan\n",
      " 'Maneuvering - holding (IFR)']\n"
     ]
    },
    {
     "name": "stderr",
     "output_type": "stream",
     "text": [
      "D:\\Anaconda\\envs\\Capstone2\\lib\\site-packages\\pandas\\core\\series.py:4517: SettingWithCopyWarning: \n",
      "A value is trying to be set on a copy of a slice from a DataFrame\n",
      "\n",
      "See the caveats in the documentation: https://pandas.pydata.org/pandas-docs/stable/user_guide/indexing.html#returning-a-view-versus-a-copy\n",
      "  return super().fillna(\n",
      "<ipython-input-11-0b90fb269170>:22: SettingWithCopyWarning: \n",
      "A value is trying to be set on a copy of a slice from a DataFrame.\n",
      "Try using .loc[row_indexer,col_indexer] = value instead\n",
      "\n",
      "See the caveats in the documentation: https://pandas.pydata.org/pandas-docs/stable/user_guide/indexing.html#returning-a-view-versus-a-copy\n",
      "  aircraft_ga_single['phase_flt_spec'] = aircraft_ga_single['phase_flt_spec'].map(phase_codes)\n"
     ]
    }
   ],
   "source": [
    "aircraft_ga_single['phase_flt_spec'].fillna(0, inplace=True)\n",
    "aircraft_ga_single['phase_flt_spec'].astype(int)\n",
    "\n",
    "phase_codes ={ 500:'Standing', 501:'Standing - pre-flight', 502: 'Standing - starting engine(s)', \n",
    "               503: 'Standing - engine(s) operating', 504:'Standing - engine(s) not operating',\n",
    "               505: 'Standing - idling rotors', 510: 'Taxi', 511: 'Taxi - pushback/tow', 512: 'Taxi - to takeoff',\n",
    "               513: 'Taxi - from landing', 514: 'Taxi - aerial', 520:'Takeoff', 521: 'Takeoff - roll/run',\n",
    "               522: 'Takeoff - initial climb', 523: 'Takeoff - aborted', 530: 'Climb', 531: 'Climb - to cruise',\n",
    "               540: 'Cruise', 541: 'Cruise - normal', 542: 'Maneuvering - holding (IFR)', 550: 'Descent',\n",
    "               551: 'Descent - normal', 552: 'Descent - emergency', 553: 'Descent - uncontrolled', 560: 'Approach',\n",
    "               561: 'Approach - VFR pattern - downwind', 562: 'Approach - VFR pattern - turn to base', \n",
    "               563: 'Approach - VFR pattern - base leg/base to final', 564: 'Approach - VFR pattern - final approach',\n",
    "               565: 'Go-around (VFR)', 566: 'Approach - Initial approach fix (IAF) to final approach fix (FAF)/outer marker (IFR)',\n",
    "               567: 'Approach - final approach fix (FAF)/outer marker to threshold (IFR)',\n",
    "               568: 'Approach - circling (IFR)', 569: 'Missed approach (IFR)', 570: 'Landing', 571: 'Landing - flare/touchdown',\n",
    "               572: 'Landing - roll', 573: 'Landing - aborted', 574: 'Emergency landing', 575: 'Emergency landing after takeoff',\n",
    "               576: 'Emergency descent/landing', 580: 'Maneuvering', 581: 'Maneuvering - aerial application', \n",
    "               582: 'Maneuvering - turn to reverse direction', 583: 'Maneuvering - turn to landing area (emergency)',\n",
    "               590: 'Hover', 591: 'Hover - in ground effect', 592: 'Hover - out of ground effect', 600: 'Other', 610:'Unknown',\n",
    "               0: None}\n",
    "\n",
    "aircraft_ga_single['phase_flt_spec'] = aircraft_ga_single['phase_flt_spec'].map(phase_codes)\n",
    "print(aircraft_ga_single['phase_flt_spec'].unique())"
   ]
  },
  {
   "cell_type": "code",
   "execution_count": 12,
   "metadata": {},
   "outputs": [
    {
     "name": "stdout",
     "output_type": "stream",
     "text": [
      "Landing                                                                                 15888\n",
      "Takeoff                                                                                  5336\n",
      "Descent                                                                                  3696\n",
      "Maneuvering                                                                              3551\n",
      "Cruise                                                                                   3413\n",
      "Approach                                                                                 3126\n",
      "Taxi                                                                                     1136\n",
      "Landing - roll                                                                           1073\n",
      "Takeoff - initial climb                                                                   861\n",
      "Emergency landing                                                                         856\n",
      "Landing - flare/touchdown                                                                 778\n",
      "Climb                                                                                     738\n",
      "Unknown                                                                                   391\n",
      "Standing                                                                                  341\n",
      "Approach - VFR pattern - final approach                                                   304\n",
      "Emergency descent/landing                                                                 245\n",
      "Hover                                                                                     232\n",
      "Takeoff - roll/run                                                                        225\n",
      "Go-around (VFR)                                                                           217\n",
      "Cruise - normal                                                                           206\n",
      "Descent - uncontrolled                                                                    186\n",
      "Landing - aborted                                                                         119\n",
      "Takeoff - aborted                                                                         113\n",
      "Taxi - from landing                                                                        90\n",
      "Climb - to cruise                                                                          85\n",
      "Other                                                                                      78\n",
      "Approach - VFR pattern - downwind                                                          72\n",
      "Emergency landing after takeoff                                                            66\n",
      "Taxi - to takeoff                                                                          61\n",
      "Descent - emergency                                                                        60\n",
      "Descent - normal                                                                           51\n",
      "Approach - VFR pattern - base leg/base to final                                            49\n",
      "Standing - engine(s) operating                                                             44\n",
      "Approach - final approach fix (FAF)/outer marker to threshold (IFR)                        37\n",
      "Standing - starting engine(s)                                                              35\n",
      "Hover - in ground effect                                                                   29\n",
      "Maneuvering - turn to landing area (emergency)                                             25\n",
      "Maneuvering - turn to reverse direction                                                    25\n",
      "Missed approach (IFR)                                                                      23\n",
      "Approach - VFR pattern - turn to base                                                      22\n",
      "Maneuvering - aerial application                                                           16\n",
      "Hover - out of ground effect                                                               15\n",
      "Approach - Initial approach fix (IAF) to final approach fix (FAF)/outer marker (IFR)       13\n",
      "Standing - idling rotors                                                                   12\n",
      "Approach - circling (IFR)                                                                  11\n",
      "Taxi - aerial                                                                               4\n",
      "Standing - engine(s) not operating                                                          3\n",
      "Standing - pre-flight                                                                       1\n",
      "Maneuvering - holding (IFR)                                                                 1\n",
      "Name: phase_flt_spec, dtype: int64\n"
     ]
    }
   ],
   "source": [
    "print(aircraft_ga_single['phase_flt_spec'].value_counts())"
   ]
  },
  {
   "cell_type": "code",
   "execution_count": 13,
   "metadata": {},
   "outputs": [
    {
     "data": {
      "application/vnd.jupyter.widget-view+json": {
       "model_id": "4542ac823e4d429db82d11c58e43ce63",
       "version_major": 2,
       "version_minor": 0
      },
      "text/plain": [
       "HBox(children=(FloatProgress(value=0.0, description='Summarize dataset', max=27.0, style=ProgressStyle(descrip…"
      ]
     },
     "metadata": {},
     "output_type": "display_data"
    },
    {
     "name": "stdout",
     "output_type": "stream",
     "text": [
      "\n"
     ]
    },
    {
     "data": {
      "application/vnd.jupyter.widget-view+json": {
       "model_id": "dd7ec8de0c0b4f9d86e9a97015cb79b6",
       "version_major": 2,
       "version_minor": 0
      },
      "text/plain": [
       "HBox(children=(FloatProgress(value=0.0, description='Generate report structure', max=1.0, style=ProgressStyle(…"
      ]
     },
     "metadata": {},
     "output_type": "display_data"
    },
    {
     "name": "stderr",
     "output_type": "stream",
     "text": [
      "D:\\Anaconda\\envs\\Capstone2\\lib\\site-packages\\pandas_profiling\\visualisation\\plot.py:160: MatplotlibDeprecationWarning: You are modifying the state of a globally registered colormap. In future versions, you will not be able to modify a registered colormap in-place. To remove this warning, you can make a copy of the colormap first. cmap = copy.copy(mpl.cm.get_cmap(\"RdBu\"))\n",
      "  cmap.set_bad(cmap_bad)\n",
      "D:\\Anaconda\\envs\\Capstone2\\lib\\site-packages\\pandas_profiling\\visualisation\\plot.py:160: MatplotlibDeprecationWarning: You are modifying the state of a globally registered colormap. In future versions, you will not be able to modify a registered colormap in-place. To remove this warning, you can make a copy of the colormap first. cmap = copy.copy(mpl.cm.get_cmap(\"RdBu\"))\n",
      "  cmap.set_bad(cmap_bad)\n",
      "D:\\Anaconda\\envs\\Capstone2\\lib\\site-packages\\pandas_profiling\\visualisation\\plot.py:160: MatplotlibDeprecationWarning: You are modifying the state of a globally registered colormap. In future versions, you will not be able to modify a registered colormap in-place. To remove this warning, you can make a copy of the colormap first. cmap = copy.copy(mpl.cm.get_cmap(\"RdBu\"))\n",
      "  cmap.set_bad(cmap_bad)\n"
     ]
    },
    {
     "name": "stdout",
     "output_type": "stream",
     "text": [
      "\n"
     ]
    },
    {
     "data": {
      "application/vnd.jupyter.widget-view+json": {
       "model_id": "",
       "version_major": 2,
       "version_minor": 0
      },
      "text/plain": [
       "HBox(children=(FloatProgress(value=0.0, description='Render widgets', max=1.0, style=ProgressStyle(description…"
      ]
     },
     "metadata": {},
     "output_type": "display_data"
    },
    {
     "data": {
      "application/vnd.jupyter.widget-view+json": {
       "model_id": "4eb8791de4484610bdd31893901ab2c6",
       "version_major": 2,
       "version_minor": 0
      },
      "text/plain": [
       "VBox(children=(Tab(children=(Tab(children=(GridBox(children=(VBox(children=(GridspecLayout(children=(HTML(valu…"
      ]
     },
     "metadata": {},
     "output_type": "display_data"
    }
   ],
   "source": [
    "#final profile\n",
    "generate_profile(aircraft_ga_single)"
   ]
  },
  {
   "cell_type": "code",
   "execution_count": 14,
   "metadata": {},
   "outputs": [
    {
     "data": {
      "image/png": "[encoded data removed]",
      "text/plain": [
       "<Figure size 1800x720 with 2 Axes>"
      ]
     },
     "metadata": {
      "needs_background": "light"
     },
     "output_type": "display_data"
    }
   ],
   "source": [
    "msno.matrix(aircraft_ga_single)\n",
    "plt.show()"
   ]
  },
  {
   "cell_type": "markdown",
   "metadata": {},
   "source": [
    "##### aircraft dataset current state:\n",
    "\n",
    "- 'fixed_retractable' column is missing 65% of its values. It is possible to derive this information from the aircraf make and model. However, given that the analysis is to model pilot information to accidents this information is not critical. If aircraft complexity wants to be evaluated (a retractable gear is an indicator of a complex aircraft) in the future this information can be filled in. \n",
    "\n",
    "- 'Second_pilot' is missing about 4% of its data. As the analysis concentrates on single pilot operations, it is important to try to derive the missing entries from other tables.\n",
    "\n",
    "- 'phase_flt_spec' is missing 26% of values. It is yet to be determined if this column is needed for modeling. Will attempt to derive missing values.\n",
    "\n",
    "\n",
    "\n"
   ]
  },
  {
   "cell_type": "code",
   "execution_count": null,
   "metadata": {},
   "outputs": [],
   "source": []
  }
 ],
 "metadata": {
  "kernelspec": {
   "display_name": "Python 3",
   "language": "python",
   "name": "python3"
  },
  "language_info": {
   "codemirror_mode": {
    "name": "ipython",
    "version": 3
   },
   "file_extension": ".py",
   "mimetype": "text/x-python",
   "name": "python",
   "nbconvert_exporter": "python",
   "pygments_lexer": "ipython3",
   "version": "3.8.5"
  }
 },
 "nbformat": 4,
 "nbformat_minor": 4
}
