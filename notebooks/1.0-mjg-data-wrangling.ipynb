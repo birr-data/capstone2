{
 "cells": [
  {
   "cell_type": "markdown",
   "metadata": {},
   "source": [
    "The data source for this project is the National Transportation Safety Board Aviation Accident database available at \n",
    "https://app.ntsb.gov/avdata/Access/\n",
    "\n",
    "This is a MS Access formated database composed of 20 tables. \n",
    "\n",
    "For the purpose of this project an initial subset of the data was filtered out of MS Access using that program's query utilities. This initial definition was meant to be broad in scope to make the dataset for the project more manageable.\n",
    "This was done by avoiding to export columns that clearly would not contribute to the analysis of the problem and only selecting records pertinent to the project (i.e. commercial flight operations were left out of the export.)\n",
    "\n",
    "\n",
    "The following tables were condensed and exported to csv files:\n",
    "- aircraft: condensed from 93 to 34 columns and from 85337 records to 69071.\n",
    "- crew_flt_time: condensed from 8 to 6 columns.\n",
    "- crew: condensed from 33 to 17 columns.\n",
    "- crew_ratings: condensed from 7 to 5 columns.\n",
    "- events: condensed from 71 to 33 columns.\n",
    "- findings: condensed from 13 to 11 columns."
   ]
  },
  {
   "cell_type": "code",
   "execution_count": 1,
   "metadata": {},
   "outputs": [],
   "source": [
    "import pandas as pd\n",
    "import numpy as np\n",
    "from pandas_profiling import ProfileReport\n",
    "import missingno as msno\n",
    "import matplotlib.pyplot as plt"
   ]
  },
  {
   "cell_type": "code",
   "execution_count": 2,
   "metadata": {},
   "outputs": [],
   "source": [
    "def generate_profile(df):\n",
    "    '''generate pandas profile'''\n",
    "    \n",
    "    profile = ProfileReport(df)\n",
    "    profile.to_widgets()"
   ]
  },
  {
   "cell_type": "markdown",
   "metadata": {},
   "source": [
    "# Aircraft Dataset\n",
    "\n",
    "The aircraft dataset contains information on the aircraft involved in the accident. The column 'far_part' will be used to determine under what code the flight was operating. This is were the data can be filter to include only General Aviation records and exclude commercial aviation. The column 'second_pilot' will be use to filter the data to include only single pilot operations (scope of analysis). Other remaining fields may be useful in analysis."
   ]
  },
  {
   "cell_type": "code",
   "execution_count": 3,
   "metadata": {},
   "outputs": [
    {
     "data": {
      "text/html": [
       "<div>\n",
       "<style scoped>\n",
       "    .dataframe tbody tr th:only-of-type {\n",
       "        vertical-align: middle;\n",
       "    }\n",
       "\n",
       "    .dataframe tbody tr th {\n",
       "        vertical-align: top;\n",
       "    }\n",
       "\n",
       "    .dataframe thead th {\n",
       "        text-align: right;\n",
       "    }\n",
       "</style>\n",
       "<table border=\"1\" class=\"dataframe\">\n",
       "  <thead>\n",
       "    <tr style=\"text-align: right;\">\n",
       "      <th></th>\n",
       "      <th>Aircraft_Key</th>\n",
       "      <th>far_part</th>\n",
       "      <th>flt_plan_filed</th>\n",
       "      <th>flight_plan_activated</th>\n",
       "      <th>damage</th>\n",
       "      <th>acft_make</th>\n",
       "      <th>acft_model</th>\n",
       "      <th>fixed_retractable</th>\n",
       "      <th>acft_serial_no</th>\n",
       "      <th>cert_max_gr_wt</th>\n",
       "      <th>...</th>\n",
       "      <th>phase_flt_spec</th>\n",
       "      <th>afm_hrs_since</th>\n",
       "      <th>rwy_num</th>\n",
       "      <th>rwy_len</th>\n",
       "      <th>rwy_width</th>\n",
       "      <th>site_seeing</th>\n",
       "      <th>air_medical</th>\n",
       "      <th>med_type_flight</th>\n",
       "      <th>acft_year</th>\n",
       "      <th>ifr_equipped_cert</th>\n",
       "    </tr>\n",
       "    <tr>\n",
       "      <th>ev_id</th>\n",
       "      <th></th>\n",
       "      <th></th>\n",
       "      <th></th>\n",
       "      <th></th>\n",
       "      <th></th>\n",
       "      <th></th>\n",
       "      <th></th>\n",
       "      <th></th>\n",
       "      <th></th>\n",
       "      <th></th>\n",
       "      <th></th>\n",
       "      <th></th>\n",
       "      <th></th>\n",
       "      <th></th>\n",
       "      <th></th>\n",
       "      <th></th>\n",
       "      <th></th>\n",
       "      <th></th>\n",
       "      <th></th>\n",
       "      <th></th>\n",
       "      <th></th>\n",
       "    </tr>\n",
       "  </thead>\n",
       "  <tbody>\n",
       "    <tr>\n",
       "      <th>20051031X01758</th>\n",
       "      <td>1</td>\n",
       "      <td>91</td>\n",
       "      <td>NONE</td>\n",
       "      <td>NaN</td>\n",
       "      <td>SUBS</td>\n",
       "      <td>1200</td>\n",
       "      <td>G103</td>\n",
       "      <td>NaN</td>\n",
       "      <td>3603</td>\n",
       "      <td>1200.0</td>\n",
       "      <td>...</td>\n",
       "      <td>570.0</td>\n",
       "      <td>NaN</td>\n",
       "      <td>NaN</td>\n",
       "      <td>NaN</td>\n",
       "      <td>NaN</td>\n",
       "      <td>N</td>\n",
       "      <td>N</td>\n",
       "      <td>NaN</td>\n",
       "      <td>NaN</td>\n",
       "      <td>0</td>\n",
       "    </tr>\n",
       "    <tr>\n",
       "      <th>20001211X11538</th>\n",
       "      <td>1</td>\n",
       "      <td>129</td>\n",
       "      <td>UNK</td>\n",
       "      <td>NaN</td>\n",
       "      <td>UNK</td>\n",
       "      <td></td>\n",
       "      <td>A330</td>\n",
       "      <td>NaN</td>\n",
       "      <td></td>\n",
       "      <td>NaN</td>\n",
       "      <td>...</td>\n",
       "      <td>0.0</td>\n",
       "      <td>NaN</td>\n",
       "      <td>0</td>\n",
       "      <td>NaN</td>\n",
       "      <td>NaN</td>\n",
       "      <td>N</td>\n",
       "      <td>N</td>\n",
       "      <td>NaN</td>\n",
       "      <td>NaN</td>\n",
       "      <td>0</td>\n",
       "    </tr>\n",
       "    <tr>\n",
       "      <th>20020917X04814</th>\n",
       "      <td>1</td>\n",
       "      <td>91</td>\n",
       "      <td>NONE</td>\n",
       "      <td>NaN</td>\n",
       "      <td>SUBS</td>\n",
       "      <td></td>\n",
       "      <td>HOBBS B8M</td>\n",
       "      <td>NaN</td>\n",
       "      <td>JOH1</td>\n",
       "      <td>550.0</td>\n",
       "      <td>...</td>\n",
       "      <td>560.0</td>\n",
       "      <td>NaN</td>\n",
       "      <td>20</td>\n",
       "      <td>3900.0</td>\n",
       "      <td>60.0</td>\n",
       "      <td>N</td>\n",
       "      <td>N</td>\n",
       "      <td>NaN</td>\n",
       "      <td>NaN</td>\n",
       "      <td>0</td>\n",
       "    </tr>\n",
       "    <tr>\n",
       "      <th>20020917X02887</th>\n",
       "      <td>1</td>\n",
       "      <td>91</td>\n",
       "      <td>NONE</td>\n",
       "      <td>NaN</td>\n",
       "      <td>DEST</td>\n",
       "      <td></td>\n",
       "      <td>KR-2</td>\n",
       "      <td>NaN</td>\n",
       "      <td>13650715</td>\n",
       "      <td>900.0</td>\n",
       "      <td>...</td>\n",
       "      <td>570.0</td>\n",
       "      <td>NaN</td>\n",
       "      <td>0</td>\n",
       "      <td>0.0</td>\n",
       "      <td>0.0</td>\n",
       "      <td>N</td>\n",
       "      <td>N</td>\n",
       "      <td>NaN</td>\n",
       "      <td>NaN</td>\n",
       "      <td>0</td>\n",
       "    </tr>\n",
       "    <tr>\n",
       "      <th>20020917X03618</th>\n",
       "      <td>1</td>\n",
       "      <td>91</td>\n",
       "      <td>NONE</td>\n",
       "      <td>NaN</td>\n",
       "      <td>DEST</td>\n",
       "      <td></td>\n",
       "      <td>MIDGET MUSTANG</td>\n",
       "      <td>NaN</td>\n",
       "      <td>411GH</td>\n",
       "      <td>1500.0</td>\n",
       "      <td>...</td>\n",
       "      <td>570.0</td>\n",
       "      <td>NaN</td>\n",
       "      <td>0</td>\n",
       "      <td>0.0</td>\n",
       "      <td>0.0</td>\n",
       "      <td>N</td>\n",
       "      <td>N</td>\n",
       "      <td>NaN</td>\n",
       "      <td>NaN</td>\n",
       "      <td>0</td>\n",
       "    </tr>\n",
       "  </tbody>\n",
       "</table>\n",
       "<p>5 rows × 37 columns</p>\n",
       "</div>"
      ],
      "text/plain": [
       "                Aircraft_Key far_part flt_plan_filed flight_plan_activated  \\\n",
       "ev_id                                                                        \n",
       "20051031X01758             1       91           NONE                   NaN   \n",
       "20001211X11538             1      129           UNK                    NaN   \n",
       "20020917X04814             1       91           NONE                   NaN   \n",
       "20020917X02887             1       91           NONE                   NaN   \n",
       "20020917X03618             1       91           NONE                   NaN   \n",
       "\n",
       "               damage                       acft_make            acft_model  \\\n",
       "ev_id                                                                         \n",
       "20051031X01758   SUBS                            1200                  G103   \n",
       "20001211X11538   UNK                                   A330                   \n",
       "20020917X04814   SUBS                                  HOBBS B8M              \n",
       "20020917X02887   DEST                                  KR-2                   \n",
       "20020917X03618   DEST                                  MIDGET MUSTANG         \n",
       "\n",
       "               fixed_retractable acft_serial_no  cert_max_gr_wt  ...  \\\n",
       "ev_id                                                            ...   \n",
       "20051031X01758               NaN           3603          1200.0  ...   \n",
       "20001211X11538               NaN                            NaN  ...   \n",
       "20020917X04814               NaN   JOH1                   550.0  ...   \n",
       "20020917X02887               NaN       13650715           900.0  ...   \n",
       "20020917X03618               NaN   411GH                 1500.0  ...   \n",
       "\n",
       "               phase_flt_spec afm_hrs_since rwy_num  rwy_len  rwy_width  \\\n",
       "ev_id                                                                     \n",
       "20051031X01758          570.0           NaN     NaN      NaN        NaN   \n",
       "20001211X11538            0.0           NaN       0      NaN        NaN   \n",
       "20020917X04814          560.0           NaN      20   3900.0       60.0   \n",
       "20020917X02887          570.0           NaN       0      0.0        0.0   \n",
       "20020917X03618          570.0           NaN       0      0.0        0.0   \n",
       "\n",
       "               site_seeing air_medical  med_type_flight  acft_year  \\\n",
       "ev_id                                                                \n",
       "20051031X01758           N           N              NaN        NaN   \n",
       "20001211X11538           N           N              NaN        NaN   \n",
       "20020917X04814           N           N              NaN        NaN   \n",
       "20020917X02887           N           N              NaN        NaN   \n",
       "20020917X03618           N           N              NaN        NaN   \n",
       "\n",
       "               ifr_equipped_cert  \n",
       "ev_id                             \n",
       "20051031X01758                 0  \n",
       "20001211X11538                 0  \n",
       "20020917X04814                 0  \n",
       "20020917X02887                 0  \n",
       "20020917X03618                 0  \n",
       "\n",
       "[5 rows x 37 columns]"
      ]
     },
     "execution_count": 3,
     "metadata": {},
     "output_type": "execute_result"
    }
   ],
   "source": [
    "file = 'D:/cap/capstone2/data/raw/aircraft.csv'\n",
    "aircraft = pd.read_csv(file, encoding = 'Windows-1252', index_col = 0, low_memory = False)   \n",
    "aircraft.head()"
   ]
  },
  {
   "cell_type": "code",
   "execution_count": 4,
   "metadata": {},
   "outputs": [],
   "source": [
    "#initial profile\n",
    "#generate_profile(aircraft)"
   ]
  },
  {
   "cell_type": "markdown",
   "metadata": {},
   "source": [
    "An initial review of this dataset indicates several columns have a large number of missing values while others are not germane to the scope of the analysis. These columns will be dropped. "
   ]
  },
  {
   "cell_type": "code",
   "execution_count": 5,
   "metadata": {},
   "outputs": [
    {
     "name": "stdout",
     "output_type": "stream",
     "text": [
      "(85337, 37)\n",
      "(0, 37)\n",
      "59792\n"
     ]
    }
   ],
   "source": [
    "# These columns have no usable data or are missing too many values to be of use\n",
    "print(aircraft.shape)\n",
    "\n",
    "ifr = aircraft[aircraft.ifr_equipped_cert != 0]\n",
    "print(ifr.shape)\n",
    "\n",
    "flt_plan = aircraft.flight_plan_activated.isnull().sum()\n",
    "print(flt_plan)\n",
    "\n",
    "# column has no usable data\n",
    "aircraft.drop(columns=['ifr_equipped_cert', 'flight_plan_activated'], inplace=True)"
   ]
  },
  {
   "cell_type": "code",
   "execution_count": 6,
   "metadata": {},
   "outputs": [
    {
     "name": "stdout",
     "output_type": "stream",
     "text": [
      "Index(['Aircraft_Key', 'far_part', 'flt_plan_filed', 'acft_make', 'acft_model',\n",
      "       'fixed_retractable', 'total_seats', 'num_eng', 'type_fly',\n",
      "       'second_pilot', 'phase_flt_spec'],\n",
      "      dtype='object')\n"
     ]
    }
   ],
   "source": [
    "#drop columns not applicable to analysis\n",
    "to_drop = ['damage', 'acft_serial_no', 'cert_max_gr_wt', 'acft_category', 'homebuilt', \n",
    "           'type_last_insp', 'date_last_insp', 'afm_hrs_last_insp', 'acft_reg_cls', 'afm_hrs', 'dprt_pt_same_ev', 'dprt_apt_id',\n",
    "           'dprt_time', 'dprt_timezn', 'dest_same_local', 'dest_apt_id', 'afm_hrs_since', 'rwy_num', 'rwy_len', \n",
    "           'rwy_width', 'site_seeing', 'air_medical', 'med_type_flight', 'acft_year']\n",
    "           \n",
    "aircraft.drop(columns = to_drop, inplace=True)\n",
    "print(aircraft.columns)"
   ]
  },
  {
   "cell_type": "code",
   "execution_count": 7,
   "metadata": {},
   "outputs": [
    {
     "name": "stdout",
     "output_type": "stream",
     "text": [
      "85337\n"
     ]
    },
    {
     "data": {
      "text/plain": [
       "array(['91', '129', 'UNK ', '137', 'NUSN', nan, '135', 'NUSC', 'PUBU',\n",
       "       '121', '133', '103', '091F', 'ARMF', '125', '091K', '107', '437'],\n",
       "      dtype=object)"
      ]
     },
     "execution_count": 7,
     "metadata": {},
     "output_type": "execute_result"
    }
   ],
   "source": [
    "print(len(aircraft))\n",
    "aircraft.far_part.unique()"
   ]
  },
  {
   "cell_type": "markdown",
   "metadata": {},
   "source": [
    "Categorical values for operational code (far_part) are consistent.\n",
    "\n",
    "Task: Filter dataset by 'far_part' column to retain only non-commercial aviation cases.\n",
    "\n",
    "Retained records: 091, 091F, 091K - General Aviation\n",
    "                  103             - Ultralight aircraft\n",
    "                  UNK             - to check if record is GA by other means"
   ]
  },
  {
   "cell_type": "code",
   "execution_count": 23,
   "metadata": {},
   "outputs": [
    {
     "name": "stdout",
     "output_type": "stream",
     "text": [
      "(68705, 11)\n"
     ]
    },
    {
     "data": {
      "text/plain": [
       "array(['91', '103', '091F', '091K'], dtype=object)"
      ]
     },
     "execution_count": 23,
     "metadata": {},
     "output_type": "execute_result"
    }
   ],
   "source": [
    "aircraft_ga = aircraft[aircraft['far_part'].isin(['91', '091F', '091K', '103', 'UNK'])]\n",
    "print(aircraft_ga.shape)\n",
    "aircraft_ga.far_part.unique()"
   ]
  },
  {
   "cell_type": "markdown",
   "metadata": {},
   "source": [
    "Column 'second_pilot' indicates whether flight was conducted by a single pilot or crew. The scope of this analysis is limited to single pilot operations. Will discard records indicating a second pilot was present. Will retain null entries and those markes as 'U' (unknown) and will attempt to derive its value indirectly. \n",
    "\n",
    "Task: Filter dataset to include only single pilot operations."
   ]
  },
  {
   "cell_type": "markdown",
   "metadata": {},
   "source": [
    "### Task: cleanup flt_plan_file column\n",
    "\n",
    "Aicraft may operate under Visual Flight rules (VFR), Instrument flight rules (IFR) or a combination of both (VFIF).\n",
    "\n",
    "Simplifly categories - condense MVFR and CVFR under VFR flight plans."
   ]
  },
  {
   "cell_type": "code",
   "execution_count": 24,
   "metadata": {},
   "outputs": [
    {
     "name": "stdout",
     "output_type": "stream",
     "text": [
      "['NONE' 'VFR' 'IFR' 'UNK' 'CVFR' nan 'VFIF' 'MVFR']\n",
      "NONE    54786\n",
      "IFR      5781\n",
      "VFR      5010\n",
      "UNK      1333\n",
      "CVFR     1286\n",
      "VFIF      141\n",
      "MVFR       48\n",
      "Name: flt_plan_filed, dtype: int64\n"
     ]
    },
    {
     "name": "stderr",
     "output_type": "stream",
     "text": [
      "<ipython-input-24-574fa783d75b>:1: SettingWithCopyWarning: \n",
      "A value is trying to be set on a copy of a slice from a DataFrame.\n",
      "Try using .loc[row_indexer,col_indexer] = value instead\n",
      "\n",
      "See the caveats in the documentation: https://pandas.pydata.org/pandas-docs/stable/user_guide/indexing.html#returning-a-view-versus-a-copy\n",
      "  aircraft_ga['flt_plan_filed'] = aircraft_ga['flt_plan_filed'].str.strip()\n"
     ]
    }
   ],
   "source": [
    "aircraft_ga['flt_plan_filed'] = aircraft_ga['flt_plan_filed'].str.strip()\n",
    "print(aircraft_ga['flt_plan_filed'] .unique())\n",
    "print(aircraft_ga['flt_plan_filed'] .value_counts())"
   ]
  },
  {
   "cell_type": "code",
   "execution_count": 25,
   "metadata": {},
   "outputs": [
    {
     "name": "stdout",
     "output_type": "stream",
     "text": [
      "['NONE' 'VFR' 'IFR' 'UNK' 'VFIF']\n",
      "NONE    54786\n",
      "VFR      6344\n",
      "IFR      5781\n",
      "UNK      1653\n",
      "VFIF      141\n",
      "Name: flt_plan_filed, dtype: int64\n"
     ]
    },
    {
     "name": "stderr",
     "output_type": "stream",
     "text": [
      "D:\\Anaconda\\envs\\Capstone2\\lib\\site-packages\\pandas\\core\\series.py:4517: SettingWithCopyWarning: \n",
      "A value is trying to be set on a copy of a slice from a DataFrame\n",
      "\n",
      "See the caveats in the documentation: https://pandas.pydata.org/pandas-docs/stable/user_guide/indexing.html#returning-a-view-versus-a-copy\n",
      "  return super().fillna(\n",
      "<ipython-input-25-82e463b908dc>:2: SettingWithCopyWarning: \n",
      "A value is trying to be set on a copy of a slice from a DataFrame.\n",
      "Try using .loc[row_indexer,col_indexer] = value instead\n",
      "\n",
      "See the caveats in the documentation: https://pandas.pydata.org/pandas-docs/stable/user_guide/indexing.html#returning-a-view-versus-a-copy\n",
      "  aircraft_ga['flt_plan_filed'] = aircraft_ga['flt_plan_filed'].replace(['MVFR', 'CVFR'], 'VFR')\n"
     ]
    }
   ],
   "source": [
    "aircraft_ga['flt_plan_filed'].fillna('UNK', inplace=True)\n",
    "aircraft_ga['flt_plan_filed'] = aircraft_ga['flt_plan_filed'].replace(['MVFR', 'CVFR'], 'VFR')\n",
    "print(aircraft_ga['flt_plan_filed'] .unique())\n",
    "print(aircraft_ga['flt_plan_filed'] .value_counts())"
   ]
  },
  {
   "cell_type": "code",
   "execution_count": 11,
   "metadata": {},
   "outputs": [
    {
     "name": "stdout",
     "output_type": "stream",
     "text": [
      "['N' nan 'U']\n",
      "(59482, 11)\n"
     ]
    }
   ],
   "source": [
    "aircraft_ga_single = aircraft_ga[aircraft_ga['second_pilot'] != 'Y']\n",
    "print(aircraft_ga_single['second_pilot'].unique())\n",
    "print(aircraft_ga_single.shape)"
   ]
  },
  {
   "cell_type": "code",
   "execution_count": 12,
   "metadata": {},
   "outputs": [
    {
     "name": "stdout",
     "output_type": "stream",
     "text": [
      "[570. 560. 520.  nan   0. 522. 571. 565. 572. 580. 513. 540. 541. 530.\n",
      " 550. 500. 553. 523. 564. 573. 610. 521. 574. 576. 510. 600. 568. 531.\n",
      " 502. 582. 581. 563. 514. 590. 591. 551. 575. 512. 503. 561. 583. 566.\n",
      " 504. 552. 562. 567. 569. 592. 505. 501. 400. 250. 542.]\n"
     ]
    }
   ],
   "source": [
    "print(aircraft_ga_single['phase_flt_spec'].unique())"
   ]
  },
  {
   "cell_type": "markdown",
   "metadata": {},
   "source": [
    "Phase of flight is categorical data inputed as codes. \n",
    "\n",
    "Task: Map descriptibe text to categorical codes for column 'phase_flt_spec\" to improve readability."
   ]
  },
  {
   "cell_type": "code",
   "execution_count": 13,
   "metadata": {},
   "outputs": [
    {
     "name": "stdout",
     "output_type": "stream",
     "text": [
      "['Landing' 'Approach' 'Takeoff' None 'Takeoff - initial climb'\n",
      " 'Landing - flare/touchdown' 'Go-around (VFR)' 'Landing - roll'\n",
      " 'Maneuvering' 'Taxi - from landing' 'Cruise' 'Cruise - normal' 'Climb'\n",
      " 'Descent' 'Standing' 'Descent - uncontrolled' 'Takeoff - aborted'\n",
      " 'Approach - VFR pattern - final approach' 'Landing - aborted' 'Unknown'\n",
      " 'Takeoff - roll/run' 'Emergency landing' 'Emergency descent/landing'\n",
      " 'Taxi' 'Other' 'Approach - circling (IFR)' 'Climb - to cruise'\n",
      " 'Standing - starting engine(s)' 'Maneuvering - turn to reverse direction'\n",
      " 'Maneuvering - aerial application'\n",
      " 'Approach - VFR pattern - base leg/base to final' 'Taxi - aerial' 'Hover'\n",
      " 'Hover - in ground effect' 'Descent - normal'\n",
      " 'Emergency landing after takeoff' 'Taxi - to takeoff'\n",
      " 'Standing - engine(s) operating' 'Approach - VFR pattern - downwind'\n",
      " 'Maneuvering - turn to landing area (emergency)'\n",
      " 'Approach - Initial approach fix (IAF) to final approach fix (FAF)/outer marker (IFR)'\n",
      " 'Standing - engine(s) not operating' 'Descent - emergency'\n",
      " 'Approach - VFR pattern - turn to base'\n",
      " 'Approach - final approach fix (FAF)/outer marker to threshold (IFR)'\n",
      " 'Missed approach (IFR)' 'Hover - out of ground effect'\n",
      " 'Standing - idling rotors' 'Standing - pre-flight' nan\n",
      " 'Maneuvering - holding (IFR)']\n"
     ]
    },
    {
     "name": "stderr",
     "output_type": "stream",
     "text": [
      "D:\\Anaconda\\envs\\Capstone2\\lib\\site-packages\\pandas\\core\\series.py:4517: SettingWithCopyWarning: \n",
      "A value is trying to be set on a copy of a slice from a DataFrame\n",
      "\n",
      "See the caveats in the documentation: https://pandas.pydata.org/pandas-docs/stable/user_guide/indexing.html#returning-a-view-versus-a-copy\n",
      "  return super().fillna(\n",
      "<ipython-input-13-2855c7eb398a>:22: SettingWithCopyWarning: \n",
      "A value is trying to be set on a copy of a slice from a DataFrame.\n",
      "Try using .loc[row_indexer,col_indexer] = value instead\n",
      "\n",
      "See the caveats in the documentation: https://pandas.pydata.org/pandas-docs/stable/user_guide/indexing.html#returning-a-view-versus-a-copy\n",
      "  aircraft_ga_single['phase_flt_spec'] = aircraft_ga_single['phase_flt_spec'].map(phase_codes)\n"
     ]
    }
   ],
   "source": [
    "aircraft_ga_single['phase_flt_spec'].fillna(0, inplace=True)\n",
    "aircraft_ga_single['phase_flt_spec'].astype(int)\n",
    "\n",
    "phase_codes = {500:'Standing', 501:'Standing - pre-flight', 502: 'Standing - starting engine(s)', \n",
    "               503: 'Standing - engine(s) operating', 504:'Standing - engine(s) not operating',\n",
    "               505: 'Standing - idling rotors', 510: 'Taxi', 511: 'Taxi - pushback/tow', 512: 'Taxi - to takeoff',\n",
    "               513: 'Taxi - from landing', 514: 'Taxi - aerial', 520:'Takeoff', 521: 'Takeoff - roll/run',\n",
    "               522: 'Takeoff - initial climb', 523: 'Takeoff - aborted', 530: 'Climb', 531: 'Climb - to cruise',\n",
    "               540: 'Cruise', 541: 'Cruise - normal', 542: 'Maneuvering - holding (IFR)', 550: 'Descent',\n",
    "               551: 'Descent - normal', 552: 'Descent - emergency', 553: 'Descent - uncontrolled', 560: 'Approach',\n",
    "               561: 'Approach - VFR pattern - downwind', 562: 'Approach - VFR pattern - turn to base', \n",
    "               563: 'Approach - VFR pattern - base leg/base to final', 564: 'Approach - VFR pattern - final approach',\n",
    "               565: 'Go-around (VFR)', 566: 'Approach - Initial approach fix (IAF) to final approach fix (FAF)/outer marker (IFR)',\n",
    "               567: 'Approach - final approach fix (FAF)/outer marker to threshold (IFR)',\n",
    "               568: 'Approach - circling (IFR)', 569: 'Missed approach (IFR)', 570: 'Landing', 571: 'Landing - flare/touchdown',\n",
    "               572: 'Landing - roll', 573: 'Landing - aborted', 574: 'Emergency landing', 575: 'Emergency landing after takeoff',\n",
    "               576: 'Emergency descent/landing', 580: 'Maneuvering', 581: 'Maneuvering - aerial application', \n",
    "               582: 'Maneuvering - turn to reverse direction', 583: 'Maneuvering - turn to landing area (emergency)',\n",
    "               590: 'Hover', 591: 'Hover - in ground effect', 592: 'Hover - out of ground effect', 600: 'Other', 610:'Unknown',\n",
    "               0: None}\n",
    "\n",
    "aircraft_ga_single['phase_flt_spec'] = aircraft_ga_single['phase_flt_spec'].map(phase_codes)\n",
    "print(aircraft_ga_single['phase_flt_spec'].unique())"
   ]
  },
  {
   "cell_type": "code",
   "execution_count": 14,
   "metadata": {},
   "outputs": [
    {
     "data": {
      "image/png": "[encoded data removed]",
      "text/plain": [
       "<Figure size 1800x720 with 2 Axes>"
      ]
     },
     "metadata": {
      "needs_background": "light"
     },
     "output_type": "display_data"
    }
   ],
   "source": [
    "msno.matrix(aircraft_ga_single)\n",
    "plt.show()"
   ]
  },
  {
   "cell_type": "markdown",
   "metadata": {},
   "source": [
    "##### aircraft dataset current state:\n",
    "\n",
    "- 'fixed_retractable' column is missing 65% of its values. It is possible to derive this information from the aircraf make and model. However, given that the analysis is to model pilot information to accidents this information is not critical. If aircraft complexity wants to be evaluated (a retractable gear is an indicator of a complex aircraft) in the future this information can be filled in. \n",
    "\n",
    "- 'Second_pilot' is missing about 4% of its data. As the analysis concentrates on single pilot operations, it is important to try to derive the missing entries from other tables.\n",
    "\n",
    "- 'phase_flt_spec' is missing 26% of values. It is yet to be determined if this column is needed for modeling. Will attempt to derive missing values.\n",
    "\n",
    "\n",
    "\n"
   ]
  },
  {
   "cell_type": "markdown",
   "metadata": {},
   "source": [
    "### Import additional datasets\n",
    "\n",
    "The filtered aircraft_ga_single dataframe index will serve as the anchor to merge the additional datasets. In this way only applicable records - General Aviation and Single (or unknown) pilot(s) -  will be merged."
   ]
  },
  {
   "cell_type": "markdown",
   "metadata": {},
   "source": [
    "### Merge Crew Dataset"
   ]
  },
  {
   "cell_type": "code",
   "execution_count": 15,
   "metadata": {},
   "outputs": [],
   "source": [
    "file = 'D:/cap/capstone2/data/raw/crew.csv'\n",
    "crew = pd.read_csv(file, encoding = 'Windows-1252', index_col = 0, low_memory = False) "
   ]
  },
  {
   "cell_type": "code",
   "execution_count": 16,
   "metadata": {},
   "outputs": [],
   "source": [
    "aircraft_crew = pd.merge(aircraft_ga_single, crew, on = 'ev_id', how = 'left' )"
   ]
  },
  {
   "cell_type": "markdown",
   "metadata": {},
   "source": [
    "Task: Analyse 'Crew Category\" column and filter out unwanted records"
   ]
  },
  {
   "cell_type": "code",
   "execution_count": 17,
   "metadata": {},
   "outputs": [
    {
     "name": "stdout",
     "output_type": "stream",
     "text": [
      "['PLT  ' 'DSTU ' 'FLTI ' nan 'PASS ' 'OTHR ' 'KPLT ' 'PRPS ' 'CPLT '\n",
      " 'CABN ' 'FENG ']\n"
     ]
    },
    {
     "data": {
      "text/plain": [
       "(62355, 27)"
      ]
     },
     "execution_count": 17,
     "metadata": {},
     "output_type": "execute_result"
    }
   ],
   "source": [
    "print(aircraft_crew['crew_category'].unique())\n",
    "aircraft_crew.shape"
   ]
  },
  {
   "cell_type": "code",
   "execution_count": 18,
   "metadata": {},
   "outputs": [
    {
     "name": "stdout",
     "output_type": "stream",
     "text": [
      "['PLT  ' 'DSTU ' nan]\n"
     ]
    }
   ],
   "source": [
    "#filter out unwanted pilot categories - retain pilot, student, and empty\n",
    "\n",
    "aircraft_crew = aircraft_crew[~aircraft_crew['crew_category'].isin(['FLTI ', 'PASS ', 'OTHR ', 'KPLT ', 'PRPS ', 'CPLT ', 'CABN ', 'FENG '])]\n",
    "print(aircraft_crew['crew_category'].unique())"
   ]
  },
  {
   "cell_type": "code",
   "execution_count": 19,
   "metadata": {},
   "outputs": [
    {
     "name": "stdout",
     "output_type": "stream",
     "text": [
      "['pilot' 'student' 'unkn']\n"
     ]
    }
   ],
   "source": [
    "aircraft_crew['crew_category'].fillna('unkn', inplace=True)\n",
    "aircraft_crew['crew_category'] = aircraft_crew['crew_category'].str.strip()\n",
    "aircraft_crew['crew_category'] = aircraft_crew['crew_category'].replace(['PLT', 'DSTU'], ['pilot','student'])\n",
    "print(aircraft_crew['crew_category'].unique())"
   ]
  },
  {
   "cell_type": "markdown",
   "metadata": {},
   "source": [
    "Task: eliminate records containing more than one crew pilot based on crew_number column"
   ]
  },
  {
   "cell_type": "code",
   "execution_count": 20,
   "metadata": {},
   "outputs": [
    {
     "name": "stdout",
     "output_type": "stream",
     "text": [
      "[ 1.  2. nan  3.  4.  5.]\n",
      "[1. 2. 0. 3. 4. 5.]\n",
      "1.0    60371\n",
      "2.0      385\n",
      "0.0      136\n",
      "3.0       11\n",
      "5.0        2\n",
      "4.0        2\n",
      "Name: crew_no, dtype: int64\n"
     ]
    }
   ],
   "source": [
    "print(aircraft_crew['crew_no'] .unique())\n",
    "\n",
    "aircraft_crew['crew_no'].fillna(0, inplace=True)\n",
    "aircraft_crew['crew_no'].astype(int)\n",
    "print(aircraft_crew['crew_no'] .unique())\n",
    "print(aircraft_crew['crew_no'] .value_counts())"
   ]
  },
  {
   "cell_type": "code",
   "execution_count": 21,
   "metadata": {},
   "outputs": [
    {
     "name": "stdout",
     "output_type": "stream",
     "text": [
      "[1. 0.]\n",
      "1.0    60371\n",
      "0.0      136\n",
      "Name: crew_no, dtype: int64\n"
     ]
    }
   ],
   "source": [
    "multi_crew = aircraft_crew[aircraft_crew['crew_no'] > 1]\n",
    "aircraft_crew = aircraft_crew[~aircraft_crew.crew_no.isin(multi_crew.crew_no)]\n",
    "\n",
    "print(aircraft_crew['crew_no'] .unique())\n",
    "print(aircraft_crew['crew_no'] .value_counts())"
   ]
  },
  {
   "cell_type": "code",
   "execution_count": 22,
   "metadata": {},
   "outputs": [],
   "source": [
    "#initial profile\n",
    "#generate_profile(aircraft_crew)"
   ]
  },
  {
   "cell_type": "code",
   "execution_count": null,
   "metadata": {},
   "outputs": [],
   "source": []
  },
  {
   "cell_type": "markdown",
   "metadata": {},
   "source": [
    "Initial look at missing values:\n",
    "   - Crew age is missing 6% of values. Missing values could be approximated by applying median age with flight hours as the determining variable (higher flight hours usually mean a more experienced and older pilot.)\n",
    "   - crew sex is missing 7% of values. Will attempt to derive missing values in proportion to resulting dataset once filtered for non-commercial operations.\n",
    "   - Crew country of recidence is missing 57% of values. USA recidence can be derived from State of Recidence information. For our analysis, couuntry of recidence can be simplified to two categories (USA vs. Non-USA.)\n",
    "   - Crew injury level is missing 58% of values. Will attempt to derive data from accident type i.e. incident vs accident where incidents are always non-fatal and event narratives.\n",
    "   - biannual flight review (bfr) and bfr_date appear to be missing values in a complementary fashion. biannual flight review data can be derived by referencing bfr_date (if bfr_date is within valid range from completion to date of incident the bfr column should indicate 'Y')"
   ]
  },
  {
   "cell_type": "code",
   "execution_count": null,
   "metadata": {},
   "outputs": [],
   "source": []
  },
  {
   "cell_type": "code",
   "execution_count": null,
   "metadata": {},
   "outputs": [],
   "source": []
  }
 ],
 "metadata": {
  "kernelspec": {
   "display_name": "Python 3",
   "language": "python",
   "name": "python3"
  },
  "language_info": {
   "codemirror_mode": {
    "name": "ipython",
    "version": 3
   },
   "file_extension": ".py",
   "mimetype": "text/x-python",
   "name": "python",
   "nbconvert_exporter": "python",
   "pygments_lexer": "ipython3",
   "version": "3.8.5"
  }
 },
 "nbformat": 4,
 "nbformat_minor": 4
}
