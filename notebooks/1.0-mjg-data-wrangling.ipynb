{
 "cells": [
  {
   "cell_type": "markdown",
   "metadata": {},
   "source": [
    "The data source for this project is the National Transportation Safety Board Aviation Accident database available at \n",
    "https://app.ntsb.gov/avdata/Access/\n",
    "\n",
    "This is a MS Access formated database composed of 20 tables. \n",
    "\n",
    "For the purpose of this project an initial subset of the data was filtered out of MS Access using that program's query utilities. This initial definition was meant to be broad in scope to make the dataset for the project more manageable.\n",
    "This was done by avoiding to export columns that clearly would not contribute to the analysis of the problem and only selecting records pertinent to the project (i.e. commercial flight operations were left out of the export.)\n",
    "\n",
    "\n",
    "The following tables were condensed and exported to csv files:\n",
    "- aircraft: condensed from 93 to 34 columns and from 85337 records to 69071.\n",
    "- crew_flt_time: condensed from 8 to 6 columns.\n",
    "- crew: condensed from 33 to 17 columns.\n",
    "- crew_ratings: condensed from 7 to 5 columns.\n",
    "- events: condensed from 71 to 33 columns.\n",
    "- findings: condensed from 13 to 11 columns."
   ]
  },
  {
   "cell_type": "code",
   "execution_count": 2,
   "metadata": {},
   "outputs": [],
   "source": [
    "import pandas as pd"
   ]
  },
  {
   "cell_type": "code",
   "execution_count": 3,
   "metadata": {},
   "outputs": [
    {
     "name": "stdout",
     "output_type": "stream",
     "text": [
      "   eADMS Data  aircraft  acft_category  ct_acft_cat   AIR    Airplane  char  \\\n",
      "0  eADMS Data  aircraft  acft_category  ct_acft_cat  BALL     Balloon  char   \n",
      "1  eADMS Data  aircraft  acft_category  ct_acft_cat  BLIM       Blimp  char   \n",
      "2  eADMS Data  aircraft  acft_category  ct_acft_cat   GLI      Glider  char   \n",
      "3  eADMS Data  aircraft  acft_category  ct_acft_cat  GYRO   Gyrocraft  char   \n",
      "4  eADMS Data  aircraft  acft_category  ct_acft_cat  HELI  Helicopter  char   \n",
      "\n",
      "   4.00  Aircraft Category  \\\n",
      "0   4.0  Aircraft Category   \n",
      "1   4.0  Aircraft Category   \n",
      "2   4.0  Aircraft Category   \n",
      "3   4.0  Aircraft Category   \n",
      "4   4.0  Aircraft Category   \n",
      "\n",
      "  The category of the involved aircraft. In this case, the definition of aircraft category is the same as that used with respect to the certification, ratings, privileges, and limitations of airmen. Also note that there is some overlap of category and class in the available choices.  \\\n",
      "0  The category of the involved aircraft. In this...                                                                                                                                                                                                                                          \n",
      "1  The category of the involved aircraft. In this...                                                                                                                                                                                                                                          \n",
      "2  The category of the involved aircraft. In this...                                                                                                                                                                                                                                          \n",
      "3  The category of the involved aircraft. In this...                                                                                                                                                                                                                                          \n",
      "4  The category of the involved aircraft. In this...                                                                                                                                                                                                                                          \n",
      "\n",
      "  Unnamed: 10 Unnamed: 11 Unnamed: 12  \n",
      "0         NaN         NaN         NaN  \n",
      "1         NaN         NaN         NaN  \n",
      "2         NaN         NaN         NaN  \n",
      "3         NaN         NaN         NaN  \n",
      "4         NaN         NaN         NaN  \n"
     ]
    }
   ],
   "source": [
    "definitions = pd.read_csv('D:/cap/capstone2/data/raw/data_dic.csv',  encoding = 'Windows-1252')\n",
    "print (definitions.head())"
   ]
  },
  {
   "cell_type": "code",
   "execution_count": null,
   "metadata": {},
   "outputs": [],
   "source": [
    "\n"
   ]
  },
  {
   "cell_type": "code",
   "execution_count": null,
   "metadata": {},
   "outputs": [],
   "source": []
  }
 ],
 "metadata": {
  "kernelspec": {
   "display_name": "Python 3",
   "language": "python",
   "name": "python3"
  },
  "language_info": {
   "codemirror_mode": {
    "name": "ipython",
    "version": 3
   },
   "file_extension": ".py",
   "mimetype": "text/x-python",
   "name": "python",
   "nbconvert_exporter": "python",
   "pygments_lexer": "ipython3",
   "version": "3.8.5"
  }
 },
 "nbformat": 4,
 "nbformat_minor": 4
}
