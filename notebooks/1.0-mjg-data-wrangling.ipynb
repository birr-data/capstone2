{
 "cells": [
  {
   "cell_type": "markdown",
   "metadata": {},
   "source": [
    "The data source for this project is the National Transportation Safety Board Aviation Accident database available at \n",
    "https://app.ntsb.gov/avdata/Access/\n",
    "\n",
    "This is a MS Access formated database composed of 20 tables. \n",
    "\n",
    "For the purpose of this project an initial subset of the data was filtered out of MS Access using that program's query utilities. This initial definition was meant to be broad in scope to make the dataset for the project more manageable.\n",
    "This was done by avoiding to export columns that clearly would not contribute to the analysis of the problem and only selecting records pertinent to the project (i.e. commercial flight operations were left out of the export.)\n",
    "\n",
    "\n",
    "The following tables were condensed and exported to csv files:\n",
    "- aircraft: condensed from 93 to 34 columns and from 85337 records to 69071.\n",
    "- crew_flt_time: condensed from 8 to 6 columns.\n",
    "- crew: condensed from 33 to 17 columns.\n",
    "- crew_ratings: condensed from 7 to 5 columns.\n",
    "- events: condensed from 71 to 33 columns.\n",
    "- findings: condensed from 13 to 11 columns."
   ]
  },
  {
   "cell_type": "code",
   "execution_count": 1,
   "metadata": {},
   "outputs": [],
   "source": [
    "import pandas as pd\n",
    "import numpy as np\n",
    "from pandas_profiling import ProfileReport\n",
    "import missingno as msno\n",
    "import matplotlib.pyplot as plt\n",
    "\n",
    "import sys\n",
    "from os.path import dirname\n",
    "sys.path.append(dirname('D:\\cap\\capstone2\\src\\dicts.py'))\n",
    "\n",
    "# external dictionaries\n",
    "import dicts\n",
    "import phase_codes\n",
    "\n"
   ]
  },
  {
   "cell_type": "code",
   "execution_count": 2,
   "metadata": {},
   "outputs": [],
   "source": [
    "def generate_profile(df):\n",
    "    '''generate pandas profile'''\n",
    "    \n",
    "    profile = ProfileReport(df)\n",
    "    profile.to_widgets()\n",
    "    \n",
    "def info (df, column):\n",
    "    '''return several descriptive items'''\n",
    "    if column != '':\n",
    "        print(\"UNIQUE VALUES & COUNTS IN \" + column)\n",
    "        print(df[column] .unique())\n",
    "        print(df[column] .value_counts())\n",
    "        \n",
    "    print(\"df shape: \")\n",
    "    print(df.shape)"
   ]
  },
  {
   "cell_type": "markdown",
   "metadata": {},
   "source": [
    "# Aircraft Dataset\n",
    "\n",
    "The aircraft dataset contains information on the aircraft involved in the accident. The column 'far_part' will be used to determine under what code the flight was operating. This is were the data can be filter to include only General Aviation records and exclude commercial aviation. The column 'second_pilot' will be use to filter the data to include only single pilot operations (scope of analysis). Other remaining fields may be useful in analysis."
   ]
  },
  {
   "cell_type": "code",
   "execution_count": 3,
   "metadata": {},
   "outputs": [
    {
     "data": {
      "text/html": [
       "<div>\n",
       "<style scoped>\n",
       "    .dataframe tbody tr th:only-of-type {\n",
       "        vertical-align: middle;\n",
       "    }\n",
       "\n",
       "    .dataframe tbody tr th {\n",
       "        vertical-align: top;\n",
       "    }\n",
       "\n",
       "    .dataframe thead th {\n",
       "        text-align: right;\n",
       "    }\n",
       "</style>\n",
       "<table border=\"1\" class=\"dataframe\">\n",
       "  <thead>\n",
       "    <tr style=\"text-align: right;\">\n",
       "      <th></th>\n",
       "      <th>Aircraft_Key</th>\n",
       "      <th>far_part</th>\n",
       "      <th>flt_plan_filed</th>\n",
       "      <th>flight_plan_activated</th>\n",
       "      <th>damage</th>\n",
       "      <th>acft_make</th>\n",
       "      <th>acft_model</th>\n",
       "      <th>fixed_retractable</th>\n",
       "      <th>acft_serial_no</th>\n",
       "      <th>cert_max_gr_wt</th>\n",
       "      <th>...</th>\n",
       "      <th>phase_flt_spec</th>\n",
       "      <th>afm_hrs_since</th>\n",
       "      <th>rwy_num</th>\n",
       "      <th>rwy_len</th>\n",
       "      <th>rwy_width</th>\n",
       "      <th>site_seeing</th>\n",
       "      <th>air_medical</th>\n",
       "      <th>med_type_flight</th>\n",
       "      <th>acft_year</th>\n",
       "      <th>ifr_equipped_cert</th>\n",
       "    </tr>\n",
       "    <tr>\n",
       "      <th>ev_id</th>\n",
       "      <th></th>\n",
       "      <th></th>\n",
       "      <th></th>\n",
       "      <th></th>\n",
       "      <th></th>\n",
       "      <th></th>\n",
       "      <th></th>\n",
       "      <th></th>\n",
       "      <th></th>\n",
       "      <th></th>\n",
       "      <th></th>\n",
       "      <th></th>\n",
       "      <th></th>\n",
       "      <th></th>\n",
       "      <th></th>\n",
       "      <th></th>\n",
       "      <th></th>\n",
       "      <th></th>\n",
       "      <th></th>\n",
       "      <th></th>\n",
       "      <th></th>\n",
       "    </tr>\n",
       "  </thead>\n",
       "  <tbody>\n",
       "    <tr>\n",
       "      <th>20051031X01758</th>\n",
       "      <td>1</td>\n",
       "      <td>91</td>\n",
       "      <td>NONE</td>\n",
       "      <td>NaN</td>\n",
       "      <td>SUBS</td>\n",
       "      <td>1200</td>\n",
       "      <td>G103</td>\n",
       "      <td>NaN</td>\n",
       "      <td>3603</td>\n",
       "      <td>1200.0</td>\n",
       "      <td>...</td>\n",
       "      <td>570.0</td>\n",
       "      <td>NaN</td>\n",
       "      <td>NaN</td>\n",
       "      <td>NaN</td>\n",
       "      <td>NaN</td>\n",
       "      <td>N</td>\n",
       "      <td>N</td>\n",
       "      <td>NaN</td>\n",
       "      <td>NaN</td>\n",
       "      <td>0</td>\n",
       "    </tr>\n",
       "    <tr>\n",
       "      <th>20001211X11538</th>\n",
       "      <td>1</td>\n",
       "      <td>129</td>\n",
       "      <td>UNK</td>\n",
       "      <td>NaN</td>\n",
       "      <td>UNK</td>\n",
       "      <td></td>\n",
       "      <td>A330</td>\n",
       "      <td>NaN</td>\n",
       "      <td></td>\n",
       "      <td>NaN</td>\n",
       "      <td>...</td>\n",
       "      <td>0.0</td>\n",
       "      <td>NaN</td>\n",
       "      <td>0</td>\n",
       "      <td>NaN</td>\n",
       "      <td>NaN</td>\n",
       "      <td>N</td>\n",
       "      <td>N</td>\n",
       "      <td>NaN</td>\n",
       "      <td>NaN</td>\n",
       "      <td>0</td>\n",
       "    </tr>\n",
       "    <tr>\n",
       "      <th>20020917X04814</th>\n",
       "      <td>1</td>\n",
       "      <td>91</td>\n",
       "      <td>NONE</td>\n",
       "      <td>NaN</td>\n",
       "      <td>SUBS</td>\n",
       "      <td></td>\n",
       "      <td>HOBBS B8M</td>\n",
       "      <td>NaN</td>\n",
       "      <td>JOH1</td>\n",
       "      <td>550.0</td>\n",
       "      <td>...</td>\n",
       "      <td>560.0</td>\n",
       "      <td>NaN</td>\n",
       "      <td>20</td>\n",
       "      <td>3900.0</td>\n",
       "      <td>60.0</td>\n",
       "      <td>N</td>\n",
       "      <td>N</td>\n",
       "      <td>NaN</td>\n",
       "      <td>NaN</td>\n",
       "      <td>0</td>\n",
       "    </tr>\n",
       "    <tr>\n",
       "      <th>20020917X02887</th>\n",
       "      <td>1</td>\n",
       "      <td>91</td>\n",
       "      <td>NONE</td>\n",
       "      <td>NaN</td>\n",
       "      <td>DEST</td>\n",
       "      <td></td>\n",
       "      <td>KR-2</td>\n",
       "      <td>NaN</td>\n",
       "      <td>13650715</td>\n",
       "      <td>900.0</td>\n",
       "      <td>...</td>\n",
       "      <td>570.0</td>\n",
       "      <td>NaN</td>\n",
       "      <td>0</td>\n",
       "      <td>0.0</td>\n",
       "      <td>0.0</td>\n",
       "      <td>N</td>\n",
       "      <td>N</td>\n",
       "      <td>NaN</td>\n",
       "      <td>NaN</td>\n",
       "      <td>0</td>\n",
       "    </tr>\n",
       "    <tr>\n",
       "      <th>20020917X03618</th>\n",
       "      <td>1</td>\n",
       "      <td>91</td>\n",
       "      <td>NONE</td>\n",
       "      <td>NaN</td>\n",
       "      <td>DEST</td>\n",
       "      <td></td>\n",
       "      <td>MIDGET MUSTANG</td>\n",
       "      <td>NaN</td>\n",
       "      <td>411GH</td>\n",
       "      <td>1500.0</td>\n",
       "      <td>...</td>\n",
       "      <td>570.0</td>\n",
       "      <td>NaN</td>\n",
       "      <td>0</td>\n",
       "      <td>0.0</td>\n",
       "      <td>0.0</td>\n",
       "      <td>N</td>\n",
       "      <td>N</td>\n",
       "      <td>NaN</td>\n",
       "      <td>NaN</td>\n",
       "      <td>0</td>\n",
       "    </tr>\n",
       "  </tbody>\n",
       "</table>\n",
       "<p>5 rows × 37 columns</p>\n",
       "</div>"
      ],
      "text/plain": [
       "                Aircraft_Key far_part flt_plan_filed flight_plan_activated  \\\n",
       "ev_id                                                                        \n",
       "20051031X01758             1       91           NONE                   NaN   \n",
       "20001211X11538             1      129           UNK                    NaN   \n",
       "20020917X04814             1       91           NONE                   NaN   \n",
       "20020917X02887             1       91           NONE                   NaN   \n",
       "20020917X03618             1       91           NONE                   NaN   \n",
       "\n",
       "               damage                       acft_make            acft_model  \\\n",
       "ev_id                                                                         \n",
       "20051031X01758   SUBS                            1200                  G103   \n",
       "20001211X11538   UNK                                   A330                   \n",
       "20020917X04814   SUBS                                  HOBBS B8M              \n",
       "20020917X02887   DEST                                  KR-2                   \n",
       "20020917X03618   DEST                                  MIDGET MUSTANG         \n",
       "\n",
       "               fixed_retractable acft_serial_no  cert_max_gr_wt  ...  \\\n",
       "ev_id                                                            ...   \n",
       "20051031X01758               NaN           3603          1200.0  ...   \n",
       "20001211X11538               NaN                            NaN  ...   \n",
       "20020917X04814               NaN   JOH1                   550.0  ...   \n",
       "20020917X02887               NaN       13650715           900.0  ...   \n",
       "20020917X03618               NaN   411GH                 1500.0  ...   \n",
       "\n",
       "               phase_flt_spec afm_hrs_since rwy_num  rwy_len  rwy_width  \\\n",
       "ev_id                                                                     \n",
       "20051031X01758          570.0           NaN     NaN      NaN        NaN   \n",
       "20001211X11538            0.0           NaN       0      NaN        NaN   \n",
       "20020917X04814          560.0           NaN      20   3900.0       60.0   \n",
       "20020917X02887          570.0           NaN       0      0.0        0.0   \n",
       "20020917X03618          570.0           NaN       0      0.0        0.0   \n",
       "\n",
       "               site_seeing air_medical  med_type_flight  acft_year  \\\n",
       "ev_id                                                                \n",
       "20051031X01758           N           N              NaN        NaN   \n",
       "20001211X11538           N           N              NaN        NaN   \n",
       "20020917X04814           N           N              NaN        NaN   \n",
       "20020917X02887           N           N              NaN        NaN   \n",
       "20020917X03618           N           N              NaN        NaN   \n",
       "\n",
       "               ifr_equipped_cert  \n",
       "ev_id                             \n",
       "20051031X01758                 0  \n",
       "20001211X11538                 0  \n",
       "20020917X04814                 0  \n",
       "20020917X02887                 0  \n",
       "20020917X03618                 0  \n",
       "\n",
       "[5 rows x 37 columns]"
      ]
     },
     "execution_count": 3,
     "metadata": {},
     "output_type": "execute_result"
    }
   ],
   "source": [
    "file = 'D:/cap/capstone2/data/raw/aircraft.csv'\n",
    "aircraft = pd.read_csv(file, encoding = 'Windows-1252', index_col = 0, low_memory = False)   \n",
    "aircraft.head()"
   ]
  },
  {
   "cell_type": "code",
   "execution_count": 4,
   "metadata": {},
   "outputs": [],
   "source": [
    "#initial profile\n",
    "#generate_profile(aircraft)"
   ]
  },
  {
   "cell_type": "markdown",
   "metadata": {},
   "source": [
    "An initial review of this dataset indicates several columns have a large number of missing values while others are not germane to the scope of the analysis. These columns will be dropped. "
   ]
  },
  {
   "cell_type": "code",
   "execution_count": 5,
   "metadata": {},
   "outputs": [
    {
     "name": "stdout",
     "output_type": "stream",
     "text": [
      "(85337, 37)\n",
      "(0, 37)\n",
      "59792\n"
     ]
    }
   ],
   "source": [
    "# These columns have no usable data or are missing too many values to be of use\n",
    "print(aircraft.shape)\n",
    "\n",
    "ifr = aircraft[aircraft.ifr_equipped_cert != 0]\n",
    "print(ifr.shape)\n",
    "\n",
    "flt_plan = aircraft.flight_plan_activated.isnull().sum()\n",
    "print(flt_plan)\n",
    "\n",
    "# column has no usable data\n",
    "aircraft.drop(columns=['ifr_equipped_cert', 'flight_plan_activated'], inplace=True)"
   ]
  },
  {
   "cell_type": "code",
   "execution_count": 6,
   "metadata": {},
   "outputs": [
    {
     "name": "stdout",
     "output_type": "stream",
     "text": [
      "Index(['Aircraft_Key', 'far_part', 'flt_plan_filed', 'acft_make', 'acft_model',\n",
      "       'fixed_retractable', 'total_seats', 'num_eng', 'type_fly',\n",
      "       'second_pilot', 'phase_flt_spec'],\n",
      "      dtype='object')\n"
     ]
    }
   ],
   "source": [
    "#drop columns not applicable to analysis\n",
    "to_drop = ['damage', 'acft_serial_no', 'cert_max_gr_wt', 'acft_category', 'homebuilt', \n",
    "           'type_last_insp', 'date_last_insp', 'afm_hrs_last_insp', 'acft_reg_cls', 'afm_hrs', 'dprt_pt_same_ev', 'dprt_apt_id',\n",
    "           'dprt_time', 'dprt_timezn', 'dest_same_local', 'dest_apt_id', 'afm_hrs_since', 'rwy_num', 'rwy_len', \n",
    "           'rwy_width', 'site_seeing', 'air_medical', 'med_type_flight', 'acft_year']\n",
    "           \n",
    "aircraft.drop(columns = to_drop, inplace=True)\n",
    "print(aircraft.columns)"
   ]
  },
  {
   "cell_type": "code",
   "execution_count": 7,
   "metadata": {},
   "outputs": [
    {
     "name": "stdout",
     "output_type": "stream",
     "text": [
      "85337\n"
     ]
    },
    {
     "data": {
      "text/plain": [
       "array(['91', '129', 'UNK ', '137', 'NUSN', nan, '135', 'NUSC', 'PUBU',\n",
       "       '121', '133', '103', '091F', 'ARMF', '125', '091K', '107', '437'],\n",
       "      dtype=object)"
      ]
     },
     "execution_count": 7,
     "metadata": {},
     "output_type": "execute_result"
    }
   ],
   "source": [
    "print(len(aircraft))\n",
    "aircraft.far_part.unique()"
   ]
  },
  {
   "cell_type": "markdown",
   "metadata": {},
   "source": [
    "Categorical values for operational code (far_part) are consistent.\n",
    "\n",
    "Task: Filter dataset by 'far_part' column to retain only non-commercial aviation cases.\n",
    "\n",
    "Retained records: 091, 091F, 091K - General Aviation\n",
    "                  103             - Ultralight aircraft\n",
    "                  UNK             - to check if record is GA by other means"
   ]
  },
  {
   "cell_type": "code",
   "execution_count": 8,
   "metadata": {},
   "outputs": [
    {
     "name": "stdout",
     "output_type": "stream",
     "text": [
      "UNIQUE VALUES & COUNTS IN far_part\n",
      "['91' '103' '091F' '091K']\n",
      "91      68460\n",
      "103       194\n",
      "091F       37\n",
      "091K       14\n",
      "Name: far_part, dtype: int64\n",
      "df shape: \n",
      "(68705, 11)\n"
     ]
    }
   ],
   "source": [
    "aircraft_ga = aircraft[aircraft['far_part'].isin(['91', '091F', '091K', '103', 'UNK'])]\n",
    "info(aircraft_ga, 'far_part')"
   ]
  },
  {
   "cell_type": "markdown",
   "metadata": {},
   "source": [
    "### Task: cleanup flt_plan_file column\n",
    "\n",
    "Aicraft may operate under Visual Flight rules (VFR), Instrument flight rules (IFR) or a combination of both (VFIF).\n",
    "\n",
    "Simplifly categories - condense MVFR and CVFR under VFR flight plans."
   ]
  },
  {
   "cell_type": "code",
   "execution_count": 9,
   "metadata": {},
   "outputs": [
    {
     "name": "stdout",
     "output_type": "stream",
     "text": [
      "UNIQUE VALUES & COUNTS IN flt_plan_filed\n",
      "['NONE' 'VFR' 'IFR' 'UNK' 'CVFR' nan 'VFIF' 'MVFR']\n",
      "NONE    54786\n",
      "IFR      5781\n",
      "VFR      5010\n",
      "UNK      1333\n",
      "CVFR     1286\n",
      "VFIF      141\n",
      "MVFR       48\n",
      "Name: flt_plan_filed, dtype: int64\n",
      "df shape: \n",
      "(68705, 11)\n"
     ]
    },
    {
     "name": "stderr",
     "output_type": "stream",
     "text": [
      "<ipython-input-9-bad9ba6cd009>:1: SettingWithCopyWarning: \n",
      "A value is trying to be set on a copy of a slice from a DataFrame.\n",
      "Try using .loc[row_indexer,col_indexer] = value instead\n",
      "\n",
      "See the caveats in the documentation: https://pandas.pydata.org/pandas-docs/stable/user_guide/indexing.html#returning-a-view-versus-a-copy\n",
      "  aircraft_ga['flt_plan_filed'] = aircraft_ga['flt_plan_filed'].str.strip()\n"
     ]
    }
   ],
   "source": [
    "aircraft_ga['flt_plan_filed'] = aircraft_ga['flt_plan_filed'].str.strip()\n",
    "info(aircraft_ga, 'flt_plan_filed')"
   ]
  },
  {
   "cell_type": "code",
   "execution_count": 10,
   "metadata": {},
   "outputs": [
    {
     "name": "stdout",
     "output_type": "stream",
     "text": [
      "UNIQUE VALUES & COUNTS IN flt_plan_filed\n",
      "['NONE' 'VFR' 'IFR' 'UNK' 'VFIF']\n",
      "NONE    54786\n",
      "VFR      6344\n",
      "IFR      5781\n",
      "UNK      1653\n",
      "VFIF      141\n",
      "Name: flt_plan_filed, dtype: int64\n",
      "df shape: \n",
      "(68705, 11)\n"
     ]
    },
    {
     "name": "stderr",
     "output_type": "stream",
     "text": [
      "D:\\Anaconda\\envs\\Capstone2\\lib\\site-packages\\pandas\\core\\series.py:4517: SettingWithCopyWarning: \n",
      "A value is trying to be set on a copy of a slice from a DataFrame\n",
      "\n",
      "See the caveats in the documentation: https://pandas.pydata.org/pandas-docs/stable/user_guide/indexing.html#returning-a-view-versus-a-copy\n",
      "  return super().fillna(\n",
      "<ipython-input-10-564ee3b9efec>:2: SettingWithCopyWarning: \n",
      "A value is trying to be set on a copy of a slice from a DataFrame.\n",
      "Try using .loc[row_indexer,col_indexer] = value instead\n",
      "\n",
      "See the caveats in the documentation: https://pandas.pydata.org/pandas-docs/stable/user_guide/indexing.html#returning-a-view-versus-a-copy\n",
      "  aircraft_ga['flt_plan_filed'] = aircraft_ga['flt_plan_filed'].replace(['MVFR', 'CVFR'], 'VFR')\n"
     ]
    }
   ],
   "source": [
    "aircraft_ga['flt_plan_filed'].fillna('UNK', inplace=True)\n",
    "aircraft_ga['flt_plan_filed'] = aircraft_ga['flt_plan_filed'].replace(['MVFR', 'CVFR'], 'VFR')\n",
    "info(aircraft_ga, 'flt_plan_filed')"
   ]
  },
  {
   "cell_type": "markdown",
   "metadata": {},
   "source": [
    "###### Task: Filter dataset to include only single pilot operations.\n",
    "\n",
    "Column 'second_pilot' indicates whether flight was conducted by a single pilot or crew. The scope of this analysis is limited to single pilot operations. Will discard records indicating a second pilot was present. Will retain null entries and those markes as 'U' (unknown) and will attempt to derive its value indirectly. \n",
    "\n"
   ]
  },
  {
   "cell_type": "code",
   "execution_count": 11,
   "metadata": {},
   "outputs": [
    {
     "name": "stdout",
     "output_type": "stream",
     "text": [
      "UNIQUE VALUES & COUNTS IN second_pilot\n",
      "['N' nan 'U']\n",
      "N    56037\n",
      "U     1194\n",
      "Name: second_pilot, dtype: int64\n",
      "df shape: \n",
      "(59482, 11)\n"
     ]
    }
   ],
   "source": [
    "#filter out df where second pilot is present\n",
    "aircraft_ga_single = aircraft_ga[aircraft_ga['second_pilot'] != 'Y']\n",
    "info(aircraft_ga_single, 'second_pilot')"
   ]
  },
  {
   "cell_type": "markdown",
   "metadata": {},
   "source": [
    "###### Task: Map Phase of Flight to improve readeability.\n",
    "\n",
    "Phase of flight is categorical data entered as codes. "
   ]
  },
  {
   "cell_type": "code",
   "execution_count": 12,
   "metadata": {},
   "outputs": [
    {
     "name": "stdout",
     "output_type": "stream",
     "text": [
      "[570. 560. 520.  nan   0. 522. 571. 565. 572. 580. 513. 540. 541. 530.\n",
      " 550. 500. 553. 523. 564. 573. 610. 521. 574. 576. 510. 600. 568. 531.\n",
      " 502. 582. 581. 563. 514. 590. 591. 551. 575. 512. 503. 561. 583. 566.\n",
      " 504. 552. 562. 567. 569. 592. 505. 501. 400. 250. 542.]\n"
     ]
    }
   ],
   "source": [
    "print(aircraft_ga_single['phase_flt_spec'].unique())"
   ]
  },
  {
   "cell_type": "code",
   "execution_count": 13,
   "metadata": {},
   "outputs": [
    {
     "name": "stdout",
     "output_type": "stream",
     "text": [
      "UNIQUE VALUES & COUNTS IN phase_flt_spec\n",
      "['Landing' 'Approach' 'Takeoff' None 'Takeoff - initial climb'\n",
      " 'Landing - flare/touchdown' 'Go-around (VFR)' 'Landing - roll'\n",
      " 'Maneuvering' 'Taxi - from landing' 'Cruise' 'Cruise - normal' 'Climb'\n",
      " 'Descent' 'Standing' 'Descent - uncontrolled' 'Takeoff - aborted'\n",
      " 'Approach - VFR pattern - final approach' 'Landing - aborted' 'Unknown'\n",
      " 'Takeoff - roll/run' 'Emergency landing' 'Emergency descent/landing'\n",
      " 'Taxi' 'Other' 'Approach - circling (IFR)' 'Climb - to cruise'\n",
      " 'Standing - starting engine(s)' 'Maneuvering - turn to reverse direction'\n",
      " 'Maneuvering - aerial application'\n",
      " 'Approach - VFR pattern - base leg/base to final' 'Taxi - aerial' 'Hover'\n",
      " 'Hover - in ground effect' 'Descent - normal'\n",
      " 'Emergency landing after takeoff' 'Taxi - to takeoff'\n",
      " 'Standing - engine(s) operating' 'Approach - VFR pattern - downwind'\n",
      " 'Maneuvering - turn to landing area (emergency)'\n",
      " 'Approach - Initial approach fix (IAF) to final approach fix (FAF)/outer marker (IFR)'\n",
      " 'Standing - engine(s) not operating' 'Descent - emergency'\n",
      " 'Approach - VFR pattern - turn to base'\n",
      " 'Approach - final approach fix (FAF)/outer marker to threshold (IFR)'\n",
      " 'Missed approach (IFR)' 'Hover - out of ground effect'\n",
      " 'Standing - idling rotors' 'Standing - pre-flight' nan\n",
      " 'Maneuvering - holding (IFR)']\n",
      "Landing                                                                                 15888\n",
      "Takeoff                                                                                  5336\n",
      "Descent                                                                                  3696\n",
      "Maneuvering                                                                              3551\n",
      "Cruise                                                                                   3413\n",
      "Approach                                                                                 3126\n",
      "Taxi                                                                                     1136\n",
      "Landing - roll                                                                           1073\n",
      "Takeoff - initial climb                                                                   861\n",
      "Emergency landing                                                                         856\n",
      "Landing - flare/touchdown                                                                 778\n",
      "Climb                                                                                     738\n",
      "Unknown                                                                                   391\n",
      "Standing                                                                                  341\n",
      "Approach - VFR pattern - final approach                                                   304\n",
      "Emergency descent/landing                                                                 245\n",
      "Hover                                                                                     232\n",
      "Takeoff - roll/run                                                                        225\n",
      "Go-around (VFR)                                                                           217\n",
      "Cruise - normal                                                                           206\n",
      "Descent - uncontrolled                                                                    186\n",
      "Landing - aborted                                                                         119\n",
      "Takeoff - aborted                                                                         113\n",
      "Taxi - from landing                                                                        90\n",
      "Climb - to cruise                                                                          85\n",
      "Other                                                                                      78\n",
      "Approach - VFR pattern - downwind                                                          72\n",
      "Emergency landing after takeoff                                                            66\n",
      "Taxi - to takeoff                                                                          61\n",
      "Descent - emergency                                                                        60\n",
      "Descent - normal                                                                           51\n",
      "Approach - VFR pattern - base leg/base to final                                            49\n",
      "Standing - engine(s) operating                                                             44\n",
      "Approach - final approach fix (FAF)/outer marker to threshold (IFR)                        37\n",
      "Standing - starting engine(s)                                                              35\n",
      "Hover - in ground effect                                                                   29\n",
      "Maneuvering - turn to landing area (emergency)                                             25\n",
      "Maneuvering - turn to reverse direction                                                    25\n",
      "Missed approach (IFR)                                                                      23\n",
      "Approach - VFR pattern - turn to base                                                      22\n",
      "Maneuvering - aerial application                                                           16\n",
      "Hover - out of ground effect                                                               15\n",
      "Approach - Initial approach fix (IAF) to final approach fix (FAF)/outer marker (IFR)       13\n",
      "Standing - idling rotors                                                                   12\n",
      "Approach - circling (IFR)                                                                  11\n",
      "Taxi - aerial                                                                               4\n",
      "Standing - engine(s) not operating                                                          3\n",
      "Standing - pre-flight                                                                       1\n",
      "Maneuvering - holding (IFR)                                                                 1\n",
      "Name: phase_flt_spec, dtype: int64\n",
      "df shape: \n",
      "(59482, 11)\n"
     ]
    },
    {
     "name": "stderr",
     "output_type": "stream",
     "text": [
      "<ipython-input-13-d6b1f3fe7f66>:6: SettingWithCopyWarning: \n",
      "A value is trying to be set on a copy of a slice from a DataFrame.\n",
      "Try using .loc[row_indexer,col_indexer] = value instead\n",
      "\n",
      "See the caveats in the documentation: https://pandas.pydata.org/pandas-docs/stable/user_guide/indexing.html#returning-a-view-versus-a-copy\n",
      "  aircraft_ga_single['phase_flt_spec'] = aircraft_ga_single['phase_flt_spec'].map(phase_codes)\n"
     ]
    }
   ],
   "source": [
    "aircraft_ga_single['phase_flt_spec'].fillna(0, inplace=True)\n",
    "aircraft_ga_single['phase_flt_spec'].astype(int)\n",
    "\n",
    "phase_codes = phase_codes.phase_codes\n",
    "\n",
    "aircraft_ga_single['phase_flt_spec'] = aircraft_ga_single['phase_flt_spec'].map(phase_codes)\n",
    "info(aircraft_ga_single, 'phase_flt_spec')"
   ]
  },
  {
   "cell_type": "code",
   "execution_count": 14,
   "metadata": {},
   "outputs": [
    {
     "data": {
      "image/png": "[encoded data removed]",
      "text/plain": [
       "<Figure size 1800x720 with 2 Axes>"
      ]
     },
     "metadata": {
      "needs_background": "light"
     },
     "output_type": "display_data"
    }
   ],
   "source": [
    "msno.matrix(aircraft_ga_single)\n",
    "plt.show()"
   ]
  },
  {
   "cell_type": "markdown",
   "metadata": {},
   "source": [
    "##### aircraft dataset current state:\n",
    "\n",
    "- 'fixed_retractable' column is missing 65% of its values. It is possible to derive this information from the aircraf make and model. However, given that the analysis is to model pilot information to accidents this information is not critical. If aircraft complexity wants to be evaluated (a retractable gear is an indicator of a complex aircraft) in the future this information can be filled in. \n",
    "\n",
    "- 'Second_pilot' is missing about 4% of its data. As the analysis concentrates on single pilot operations, it is important to try to derive the missing entries from other tables.\n",
    "\n",
    "- 'phase_flt_spec' is missing 26% of values. It is yet to be determined if this column is needed for modeling. Will attempt to derive missing values.\n",
    "\n",
    "\n",
    "\n"
   ]
  },
  {
   "cell_type": "markdown",
   "metadata": {},
   "source": [
    "### Import additional datasets\n",
    "\n",
    "The filtered aircraft_ga_single dataframe index will serve as the anchor to merge the additional datasets. In this way only applicable records - General Aviation and Single (or unknown) pilot(s) -  will be merged."
   ]
  },
  {
   "cell_type": "markdown",
   "metadata": {},
   "source": [
    "### Merge Crew Dataset"
   ]
  },
  {
   "cell_type": "code",
   "execution_count": 15,
   "metadata": {},
   "outputs": [],
   "source": [
    "file = 'D:/cap/capstone2/data/raw/crew.csv'\n",
    "crew = pd.read_csv(file, encoding = 'Windows-1252', index_col = 0, low_memory = False) "
   ]
  },
  {
   "cell_type": "code",
   "execution_count": 16,
   "metadata": {},
   "outputs": [],
   "source": [
    "aircraft_crew = pd.merge(aircraft_ga_single, crew, on = 'ev_id', how = 'left' )"
   ]
  },
  {
   "cell_type": "markdown",
   "metadata": {},
   "source": [
    "###### Task: Analyse 'Crew Category\" column and filter out unwanted records"
   ]
  },
  {
   "cell_type": "code",
   "execution_count": 17,
   "metadata": {},
   "outputs": [
    {
     "name": "stdout",
     "output_type": "stream",
     "text": [
      "UNIQUE VALUES & COUNTS IN crew_category\n",
      "['PLT  ' 'DSTU ' 'FLTI ' nan 'PASS ' 'OTHR ' 'KPLT ' 'PRPS ' 'CPLT '\n",
      " 'CABN ' 'FENG ']\n",
      "PLT      59159\n",
      "DSTU      1516\n",
      "PASS       917\n",
      "FLTI       372\n",
      "CPLT        54\n",
      "PRPS        45\n",
      "OTHR        45\n",
      "KPLT        13\n",
      "CABN         1\n",
      "FENG         1\n",
      "Name: crew_category, dtype: int64\n",
      "df shape: \n",
      "(62355, 27)\n"
     ]
    }
   ],
   "source": [
    "info(aircraft_crew, 'crew_category')"
   ]
  },
  {
   "cell_type": "code",
   "execution_count": 18,
   "metadata": {},
   "outputs": [
    {
     "name": "stdout",
     "output_type": "stream",
     "text": [
      "UNIQUE VALUES & COUNTS IN crew_category\n",
      "['PLT  ' 'DSTU ' nan]\n",
      "PLT      59159\n",
      "DSTU      1516\n",
      "Name: crew_category, dtype: int64\n",
      "df shape: \n",
      "(60907, 27)\n"
     ]
    }
   ],
   "source": [
    "#filter out unwanted pilot categories - retain pilot, student, and empty\n",
    "aircraft_crew = aircraft_crew[~aircraft_crew['crew_category'].isin(['FLTI ', 'PASS ', 'OTHR ', 'KPLT ', 'PRPS ', 'CPLT ', 'CABN ', 'FENG '])]\n",
    "info(aircraft_crew, 'crew_category')"
   ]
  },
  {
   "cell_type": "code",
   "execution_count": 19,
   "metadata": {},
   "outputs": [
    {
     "name": "stdout",
     "output_type": "stream",
     "text": [
      "UNIQUE VALUES & COUNTS IN crew_category\n",
      "['pilot' 'student' 'unkn']\n",
      "pilot      59159\n",
      "student     1516\n",
      "unkn         232\n",
      "Name: crew_category, dtype: int64\n",
      "df shape: \n",
      "(60907, 27)\n"
     ]
    }
   ],
   "source": [
    "#standardize unkn entry, replace codes with pilot, student for readeability\n",
    "aircraft_crew['crew_category'].fillna('unkn', inplace=True)\n",
    "aircraft_crew['crew_category'] = aircraft_crew['crew_category'].str.strip()\n",
    "aircraft_crew['crew_category'] = aircraft_crew['crew_category'].replace(['PLT', 'DSTU'], ['pilot','student'])\n",
    "info(aircraft_crew, 'crew_category')"
   ]
  },
  {
   "cell_type": "markdown",
   "metadata": {},
   "source": [
    "###### Task: eliminate records containing more than one pilot based on crew_number column"
   ]
  },
  {
   "cell_type": "code",
   "execution_count": 20,
   "metadata": {},
   "outputs": [
    {
     "name": "stdout",
     "output_type": "stream",
     "text": [
      "UNIQUE VALUES & COUNTS IN crew_no\n",
      "[ 1.  2. nan  3.  4.  5.]\n",
      "1.0    60371\n",
      "2.0      385\n",
      "3.0       11\n",
      "5.0        2\n",
      "4.0        2\n",
      "Name: crew_no, dtype: int64\n",
      "df shape: \n",
      "(60907, 27)\n"
     ]
    }
   ],
   "source": [
    "info(aircraft_crew, 'crew_no')"
   ]
  },
  {
   "cell_type": "code",
   "execution_count": 21,
   "metadata": {},
   "outputs": [
    {
     "name": "stdout",
     "output_type": "stream",
     "text": [
      "UNIQUE VALUES & COUNTS IN crew_no\n",
      "[1. 0.]\n",
      "1.0    60371\n",
      "0.0      136\n",
      "Name: crew_no, dtype: int64\n",
      "df shape: \n",
      "(60507, 27)\n"
     ]
    }
   ],
   "source": [
    "aircraft_crew['crew_no'].fillna(0, inplace=True)\n",
    "aircraft_crew['crew_no'].astype(int)\n",
    "\n",
    "#substract multi-crew records from df\n",
    "multi_crew = aircraft_crew[aircraft_crew['crew_no'] > 1]\n",
    "aircraft_crew = aircraft_crew[~aircraft_crew.crew_no.isin(multi_crew.crew_no)]\n",
    "\n",
    "info(aircraft_crew, 'crew_no')"
   ]
  },
  {
   "cell_type": "code",
   "execution_count": 22,
   "metadata": {},
   "outputs": [],
   "source": [
    "#drop columns not applicable to analysis\n",
    "to_drop = ['crew_city', 'crew_res_state', 'crew_res_country', 'crew_inj_level', 'seat_occ_pic']         \n",
    "aircraft_crew.drop(columns = to_drop, inplace=True)"
   ]
  },
  {
   "cell_type": "markdown",
   "metadata": {},
   "source": [
    "Initial look at missing values:\n",
    "   - Crew age is missing 6% of values. Missing values could be approximated by applying median age with flight hours as the determining variable (higher flight hours usually mean a more experienced and older pilot.)\n",
    "   - crew sex is missing 7% of values. Will attempt to derive missing values in proportion to resulting dataset once filtered for non-commercial operations.\n",
    "   - Crew country of recidence is missing 57% of values. USA recidence can be derived from State of Recidence information. For our analysis, couuntry of recidence can be simplified to two categories (USA vs. Non-USA.)\n",
    "   - Crew injury level is missing 58% of values. Will attempt to derive data from accident type i.e. incident vs accident where incidents are always non-fatal and event narratives.\n",
    "   - biannual flight review (bfr) and bfr_date appear to be missing values in a complementary fashion. biannual flight review data can be derived by referencing bfr_date (if bfr_date is within valid range from completion to date of incident the bfr column should indicate 'Y')"
   ]
  },
  {
   "cell_type": "code",
   "execution_count": 23,
   "metadata": {},
   "outputs": [],
   "source": [
    "file = 'D:/cap/capstone2/data/raw/crew_time.csv'\n",
    "crew_time = pd.read_csv(file, encoding = 'Windows-1252', index_col = 0, low_memory = False)   "
   ]
  },
  {
   "cell_type": "code",
   "execution_count": 24,
   "metadata": {},
   "outputs": [
    {
     "data": {
      "text/html": [
       "<div>\n",
       "<style scoped>\n",
       "    .dataframe tbody tr th:only-of-type {\n",
       "        vertical-align: middle;\n",
       "    }\n",
       "\n",
       "    .dataframe tbody tr th {\n",
       "        vertical-align: top;\n",
       "    }\n",
       "\n",
       "    .dataframe thead th {\n",
       "        text-align: right;\n",
       "    }\n",
       "</style>\n",
       "<table border=\"1\" class=\"dataframe\">\n",
       "  <thead>\n",
       "    <tr style=\"text-align: right;\">\n",
       "      <th></th>\n",
       "      <th>Aircraft_Key_x</th>\n",
       "      <th>far_part</th>\n",
       "      <th>flt_plan_filed</th>\n",
       "      <th>acft_make</th>\n",
       "      <th>acft_model</th>\n",
       "      <th>fixed_retractable</th>\n",
       "      <th>total_seats</th>\n",
       "      <th>num_eng</th>\n",
       "      <th>type_fly</th>\n",
       "      <th>second_pilot</th>\n",
       "      <th>...</th>\n",
       "      <th>med_certf</th>\n",
       "      <th>med_crtf_vldty</th>\n",
       "      <th>date_lst_med</th>\n",
       "      <th>pc_profession</th>\n",
       "      <th>bfr</th>\n",
       "      <th>bfr_date</th>\n",
       "      <th>Aircraft_Key</th>\n",
       "      <th>flight_type</th>\n",
       "      <th>flight_craft</th>\n",
       "      <th>flight_hours</th>\n",
       "    </tr>\n",
       "    <tr>\n",
       "      <th>ev_id</th>\n",
       "      <th></th>\n",
       "      <th></th>\n",
       "      <th></th>\n",
       "      <th></th>\n",
       "      <th></th>\n",
       "      <th></th>\n",
       "      <th></th>\n",
       "      <th></th>\n",
       "      <th></th>\n",
       "      <th></th>\n",
       "      <th></th>\n",
       "      <th></th>\n",
       "      <th></th>\n",
       "      <th></th>\n",
       "      <th></th>\n",
       "      <th></th>\n",
       "      <th></th>\n",
       "      <th></th>\n",
       "      <th></th>\n",
       "      <th></th>\n",
       "      <th></th>\n",
       "    </tr>\n",
       "  </thead>\n",
       "  <tbody>\n",
       "    <tr>\n",
       "      <th>20001204X00003</th>\n",
       "      <td>1</td>\n",
       "      <td>91</td>\n",
       "      <td>NONE</td>\n",
       "      <td>Cessna</td>\n",
       "      <td>172</td>\n",
       "      <td>NaN</td>\n",
       "      <td>4.0</td>\n",
       "      <td>1.0</td>\n",
       "      <td>PERS</td>\n",
       "      <td>N</td>\n",
       "      <td>...</td>\n",
       "      <td>CL3</td>\n",
       "      <td>VNOW</td>\n",
       "      <td>10/29/1997 0:00:00</td>\n",
       "      <td>UNK</td>\n",
       "      <td>Y</td>\n",
       "      <td>NaN</td>\n",
       "      <td>1.0</td>\n",
       "      <td>L30D</td>\n",
       "      <td>ALL</td>\n",
       "      <td>9.0</td>\n",
       "    </tr>\n",
       "    <tr>\n",
       "      <th>20001204X00003</th>\n",
       "      <td>1</td>\n",
       "      <td>91</td>\n",
       "      <td>NONE</td>\n",
       "      <td>Cessna</td>\n",
       "      <td>172</td>\n",
       "      <td>NaN</td>\n",
       "      <td>4.0</td>\n",
       "      <td>1.0</td>\n",
       "      <td>PERS</td>\n",
       "      <td>N</td>\n",
       "      <td>...</td>\n",
       "      <td>CL3</td>\n",
       "      <td>VNOW</td>\n",
       "      <td>10/29/1997 0:00:00</td>\n",
       "      <td>UNK</td>\n",
       "      <td>Y</td>\n",
       "      <td>NaN</td>\n",
       "      <td>1.0</td>\n",
       "      <td>L30D</td>\n",
       "      <td>MAKE</td>\n",
       "      <td>9.0</td>\n",
       "    </tr>\n",
       "    <tr>\n",
       "      <th>20001204X00003</th>\n",
       "      <td>1</td>\n",
       "      <td>91</td>\n",
       "      <td>NONE</td>\n",
       "      <td>Cessna</td>\n",
       "      <td>172</td>\n",
       "      <td>NaN</td>\n",
       "      <td>4.0</td>\n",
       "      <td>1.0</td>\n",
       "      <td>PERS</td>\n",
       "      <td>N</td>\n",
       "      <td>...</td>\n",
       "      <td>CL3</td>\n",
       "      <td>VNOW</td>\n",
       "      <td>10/29/1997 0:00:00</td>\n",
       "      <td>UNK</td>\n",
       "      <td>Y</td>\n",
       "      <td>NaN</td>\n",
       "      <td>1.0</td>\n",
       "      <td>L30D</td>\n",
       "      <td>NGHT</td>\n",
       "      <td>2.0</td>\n",
       "    </tr>\n",
       "    <tr>\n",
       "      <th>20001204X00003</th>\n",
       "      <td>1</td>\n",
       "      <td>91</td>\n",
       "      <td>NONE</td>\n",
       "      <td>Cessna</td>\n",
       "      <td>172</td>\n",
       "      <td>NaN</td>\n",
       "      <td>4.0</td>\n",
       "      <td>1.0</td>\n",
       "      <td>PERS</td>\n",
       "      <td>N</td>\n",
       "      <td>...</td>\n",
       "      <td>CL3</td>\n",
       "      <td>VNOW</td>\n",
       "      <td>10/29/1997 0:00:00</td>\n",
       "      <td>UNK</td>\n",
       "      <td>Y</td>\n",
       "      <td>NaN</td>\n",
       "      <td>1.0</td>\n",
       "      <td>L30D</td>\n",
       "      <td>SENG</td>\n",
       "      <td>9.0</td>\n",
       "    </tr>\n",
       "    <tr>\n",
       "      <th>20001204X00003</th>\n",
       "      <td>1</td>\n",
       "      <td>91</td>\n",
       "      <td>NONE</td>\n",
       "      <td>Cessna</td>\n",
       "      <td>172</td>\n",
       "      <td>NaN</td>\n",
       "      <td>4.0</td>\n",
       "      <td>1.0</td>\n",
       "      <td>PERS</td>\n",
       "      <td>N</td>\n",
       "      <td>...</td>\n",
       "      <td>CL3</td>\n",
       "      <td>VNOW</td>\n",
       "      <td>10/29/1997 0:00:00</td>\n",
       "      <td>UNK</td>\n",
       "      <td>Y</td>\n",
       "      <td>NaN</td>\n",
       "      <td>1.0</td>\n",
       "      <td>L90D</td>\n",
       "      <td>ALL</td>\n",
       "      <td>13.0</td>\n",
       "    </tr>\n",
       "  </tbody>\n",
       "</table>\n",
       "<p>5 rows × 26 columns</p>\n",
       "</div>"
      ],
      "text/plain": [
       "                Aircraft_Key_x far_part flt_plan_filed  \\\n",
       "ev_id                                                    \n",
       "20001204X00003               1       91           NONE   \n",
       "20001204X00003               1       91           NONE   \n",
       "20001204X00003               1       91           NONE   \n",
       "20001204X00003               1       91           NONE   \n",
       "20001204X00003               1       91           NONE   \n",
       "\n",
       "                                     acft_make acft_model fixed_retractable  \\\n",
       "ev_id                                                                         \n",
       "20001204X00003  Cessna                                172               NaN   \n",
       "20001204X00003  Cessna                                172               NaN   \n",
       "20001204X00003  Cessna                                172               NaN   \n",
       "20001204X00003  Cessna                                172               NaN   \n",
       "20001204X00003  Cessna                                172               NaN   \n",
       "\n",
       "                total_seats  num_eng type_fly second_pilot  ... med_certf  \\\n",
       "ev_id                                                       ...             \n",
       "20001204X00003          4.0      1.0     PERS            N  ...      CL3    \n",
       "20001204X00003          4.0      1.0     PERS            N  ...      CL3    \n",
       "20001204X00003          4.0      1.0     PERS            N  ...      CL3    \n",
       "20001204X00003          4.0      1.0     PERS            N  ...      CL3    \n",
       "20001204X00003          4.0      1.0     PERS            N  ...      CL3    \n",
       "\n",
       "                med_crtf_vldty        date_lst_med pc_profession  bfr  \\\n",
       "ev_id                                                                   \n",
       "20001204X00003            VNOW  10/29/1997 0:00:00          UNK     Y   \n",
       "20001204X00003            VNOW  10/29/1997 0:00:00          UNK     Y   \n",
       "20001204X00003            VNOW  10/29/1997 0:00:00          UNK     Y   \n",
       "20001204X00003            VNOW  10/29/1997 0:00:00          UNK     Y   \n",
       "20001204X00003            VNOW  10/29/1997 0:00:00          UNK     Y   \n",
       "\n",
       "               bfr_date Aircraft_Key flight_type flight_craft flight_hours  \n",
       "ev_id                                                                       \n",
       "20001204X00003      NaN          1.0        L30D         ALL           9.0  \n",
       "20001204X00003      NaN          1.0        L30D         MAKE          9.0  \n",
       "20001204X00003      NaN          1.0        L30D         NGHT          2.0  \n",
       "20001204X00003      NaN          1.0        L30D         SENG          9.0  \n",
       "20001204X00003      NaN          1.0        L90D         ALL          13.0  \n",
       "\n",
       "[5 rows x 26 columns]"
      ]
     },
     "execution_count": 24,
     "metadata": {},
     "output_type": "execute_result"
    }
   ],
   "source": [
    "ac_crew_time = pd.merge(aircraft_crew, crew_time,  how='left', left_on=['ev_id','Aircraft_Key_x', 'crew_no'], right_on = ['ev_id','Aircraft_Key', 'crew_no'])\n",
    "ac_crew_time.sort_values(by=['ev_id','Aircraft_Key_x', 'crew_no'], inplace=True)\n",
    "ac_crew_time.head()\n",
    "#info(df, '')"
   ]
  },
  {
   "cell_type": "code",
   "execution_count": 25,
   "metadata": {},
   "outputs": [
    {
     "name": "stdout",
     "output_type": "stream",
     "text": [
      "df shape: \n",
      "(809432, 58)\n"
     ]
    }
   ],
   "source": [
    "file = 'D:/cap/capstone2/data/raw/event.csv'\n",
    "events = pd.read_csv(file, encoding = 'Windows-1252', index_col = 0, low_memory = False) \n",
    "ac_crew_event = pd.merge(ac_crew_time, events, how='left', left_on='ev_id', right_on='ev_id')\n",
    "ac_crew_event.sort_values(by=['ev_id','Aircraft_Key_x', 'crew_no'], inplace=True)\n",
    "info(ac_crew_event, '')"
   ]
  },
  {
   "cell_type": "code",
   "execution_count": 26,
   "metadata": {},
   "outputs": [
    {
     "ename": "ValueError",
     "evalue": "The column label 'Aircraft_Key_x' is not unique.",
     "output_type": "error",
     "traceback": [
      "\u001b[1;31m---------------------------------------------------------------------------\u001b[0m",
      "\u001b[1;31mValueError\u001b[0m                                Traceback (most recent call last)",
      "\u001b[1;32m<ipython-input-26-38d2cde5f244>\u001b[0m in \u001b[0;36m<module>\u001b[1;34m\u001b[0m\n\u001b[0;32m      2\u001b[0m \u001b[0mfindings\u001b[0m \u001b[1;33m=\u001b[0m \u001b[0mpd\u001b[0m\u001b[1;33m.\u001b[0m\u001b[0mread_csv\u001b[0m\u001b[1;33m(\u001b[0m\u001b[0mfile\u001b[0m\u001b[1;33m,\u001b[0m \u001b[0mencoding\u001b[0m \u001b[1;33m=\u001b[0m \u001b[1;34m'Windows-1252'\u001b[0m\u001b[1;33m,\u001b[0m \u001b[0mindex_col\u001b[0m \u001b[1;33m=\u001b[0m \u001b[1;36m0\u001b[0m\u001b[1;33m,\u001b[0m \u001b[0mlow_memory\u001b[0m \u001b[1;33m=\u001b[0m \u001b[1;32mFalse\u001b[0m\u001b[1;33m)\u001b[0m\u001b[1;33m\u001b[0m\u001b[1;33m\u001b[0m\u001b[0m\n\u001b[0;32m      3\u001b[0m \u001b[0mac_crew_event_findings\u001b[0m \u001b[1;33m=\u001b[0m \u001b[0mpd\u001b[0m\u001b[1;33m.\u001b[0m\u001b[0mmerge\u001b[0m\u001b[1;33m(\u001b[0m\u001b[0mac_crew_event\u001b[0m\u001b[1;33m,\u001b[0m \u001b[0mfindings\u001b[0m\u001b[1;33m,\u001b[0m \u001b[0mhow\u001b[0m\u001b[1;33m=\u001b[0m\u001b[1;34m'left'\u001b[0m\u001b[1;33m,\u001b[0m \u001b[0mleft_on\u001b[0m\u001b[1;33m=\u001b[0m\u001b[1;33m[\u001b[0m\u001b[1;34m'ev_id'\u001b[0m\u001b[1;33m,\u001b[0m\u001b[1;34m'Aircraft_Key_x'\u001b[0m\u001b[1;33m]\u001b[0m\u001b[1;33m,\u001b[0m \u001b[0mright_on\u001b[0m \u001b[1;33m=\u001b[0m \u001b[1;33m[\u001b[0m\u001b[1;34m'ev_id'\u001b[0m\u001b[1;33m,\u001b[0m\u001b[1;34m'Aircraft_Key'\u001b[0m\u001b[1;33m]\u001b[0m\u001b[1;33m)\u001b[0m\u001b[1;33m\u001b[0m\u001b[1;33m\u001b[0m\u001b[0m\n\u001b[1;32m----> 4\u001b[1;33m \u001b[0mac_crew_event_findings\u001b[0m\u001b[1;33m.\u001b[0m\u001b[0msort_values\u001b[0m\u001b[1;33m(\u001b[0m\u001b[0mby\u001b[0m\u001b[1;33m=\u001b[0m\u001b[1;33m[\u001b[0m\u001b[1;34m'ev_id'\u001b[0m\u001b[1;33m,\u001b[0m\u001b[1;34m'Aircraft_Key_x'\u001b[0m\u001b[1;33m,\u001b[0m \u001b[1;34m'finding_no'\u001b[0m\u001b[1;33m]\u001b[0m\u001b[1;33m,\u001b[0m \u001b[0minplace\u001b[0m\u001b[1;33m=\u001b[0m\u001b[1;32mTrue\u001b[0m\u001b[1;33m)\u001b[0m\u001b[1;33m\u001b[0m\u001b[1;33m\u001b[0m\u001b[0m\n\u001b[0m\u001b[0;32m      5\u001b[0m \u001b[0minfo\u001b[0m\u001b[1;33m(\u001b[0m\u001b[0mac_crew_event_findings\u001b[0m\u001b[1;33m,\u001b[0m \u001b[1;34m''\u001b[0m\u001b[1;33m)\u001b[0m\u001b[1;33m\u001b[0m\u001b[1;33m\u001b[0m\u001b[0m\n\u001b[0;32m      6\u001b[0m \u001b[0mac_crew_event_findings\u001b[0m\u001b[1;33m.\u001b[0m\u001b[0mhead\u001b[0m\u001b[1;33m(\u001b[0m\u001b[1;36m40\u001b[0m\u001b[1;33m)\u001b[0m\u001b[1;33m\u001b[0m\u001b[1;33m\u001b[0m\u001b[0m\n",
      "\u001b[1;32mD:\\Anaconda\\envs\\Capstone2\\lib\\site-packages\\pandas\\core\\frame.py\u001b[0m in \u001b[0;36msort_values\u001b[1;34m(self, by, axis, ascending, inplace, kind, na_position, ignore_index, key)\u001b[0m\n\u001b[0;32m   5275\u001b[0m             \u001b[1;32mfrom\u001b[0m \u001b[0mpandas\u001b[0m\u001b[1;33m.\u001b[0m\u001b[0mcore\u001b[0m\u001b[1;33m.\u001b[0m\u001b[0msorting\u001b[0m \u001b[1;32mimport\u001b[0m \u001b[0mlexsort_indexer\u001b[0m\u001b[1;33m\u001b[0m\u001b[1;33m\u001b[0m\u001b[0m\n\u001b[0;32m   5276\u001b[0m \u001b[1;33m\u001b[0m\u001b[0m\n\u001b[1;32m-> 5277\u001b[1;33m             \u001b[0mkeys\u001b[0m \u001b[1;33m=\u001b[0m \u001b[1;33m[\u001b[0m\u001b[0mself\u001b[0m\u001b[1;33m.\u001b[0m\u001b[0m_get_label_or_level_values\u001b[0m\u001b[1;33m(\u001b[0m\u001b[0mx\u001b[0m\u001b[1;33m,\u001b[0m \u001b[0maxis\u001b[0m\u001b[1;33m=\u001b[0m\u001b[0maxis\u001b[0m\u001b[1;33m)\u001b[0m \u001b[1;32mfor\u001b[0m \u001b[0mx\u001b[0m \u001b[1;32min\u001b[0m \u001b[0mby\u001b[0m\u001b[1;33m]\u001b[0m\u001b[1;33m\u001b[0m\u001b[1;33m\u001b[0m\u001b[0m\n\u001b[0m\u001b[0;32m   5278\u001b[0m \u001b[1;33m\u001b[0m\u001b[0m\n\u001b[0;32m   5279\u001b[0m             \u001b[1;31m# need to rewrap columns in Series to apply key function\u001b[0m\u001b[1;33m\u001b[0m\u001b[1;33m\u001b[0m\u001b[1;33m\u001b[0m\u001b[0m\n",
      "\u001b[1;32mD:\\Anaconda\\envs\\Capstone2\\lib\\site-packages\\pandas\\core\\frame.py\u001b[0m in \u001b[0;36m<listcomp>\u001b[1;34m(.0)\u001b[0m\n\u001b[0;32m   5275\u001b[0m             \u001b[1;32mfrom\u001b[0m \u001b[0mpandas\u001b[0m\u001b[1;33m.\u001b[0m\u001b[0mcore\u001b[0m\u001b[1;33m.\u001b[0m\u001b[0msorting\u001b[0m \u001b[1;32mimport\u001b[0m \u001b[0mlexsort_indexer\u001b[0m\u001b[1;33m\u001b[0m\u001b[1;33m\u001b[0m\u001b[0m\n\u001b[0;32m   5276\u001b[0m \u001b[1;33m\u001b[0m\u001b[0m\n\u001b[1;32m-> 5277\u001b[1;33m             \u001b[0mkeys\u001b[0m \u001b[1;33m=\u001b[0m \u001b[1;33m[\u001b[0m\u001b[0mself\u001b[0m\u001b[1;33m.\u001b[0m\u001b[0m_get_label_or_level_values\u001b[0m\u001b[1;33m(\u001b[0m\u001b[0mx\u001b[0m\u001b[1;33m,\u001b[0m \u001b[0maxis\u001b[0m\u001b[1;33m=\u001b[0m\u001b[0maxis\u001b[0m\u001b[1;33m)\u001b[0m \u001b[1;32mfor\u001b[0m \u001b[0mx\u001b[0m \u001b[1;32min\u001b[0m \u001b[0mby\u001b[0m\u001b[1;33m]\u001b[0m\u001b[1;33m\u001b[0m\u001b[1;33m\u001b[0m\u001b[0m\n\u001b[0m\u001b[0;32m   5278\u001b[0m \u001b[1;33m\u001b[0m\u001b[0m\n\u001b[0;32m   5279\u001b[0m             \u001b[1;31m# need to rewrap columns in Series to apply key function\u001b[0m\u001b[1;33m\u001b[0m\u001b[1;33m\u001b[0m\u001b[1;33m\u001b[0m\u001b[0m\n",
      "\u001b[1;32mD:\\Anaconda\\envs\\Capstone2\\lib\\site-packages\\pandas\\core\\generic.py\u001b[0m in \u001b[0;36m_get_label_or_level_values\u001b[1;34m(self, key, axis)\u001b[0m\n\u001b[0;32m   1573\u001b[0m \u001b[1;33m\u001b[0m\u001b[0m\n\u001b[0;32m   1574\u001b[0m             \u001b[0mlabel_axis_name\u001b[0m \u001b[1;33m=\u001b[0m \u001b[1;34m\"column\"\u001b[0m \u001b[1;32mif\u001b[0m \u001b[0maxis\u001b[0m \u001b[1;33m==\u001b[0m \u001b[1;36m0\u001b[0m \u001b[1;32melse\u001b[0m \u001b[1;34m\"index\"\u001b[0m\u001b[1;33m\u001b[0m\u001b[1;33m\u001b[0m\u001b[0m\n\u001b[1;32m-> 1575\u001b[1;33m             raise ValueError(\n\u001b[0m\u001b[0;32m   1576\u001b[0m                 (\n\u001b[0;32m   1577\u001b[0m                     \u001b[1;34mf\"The {label_axis_name} label '{key}' \"\u001b[0m\u001b[1;33m\u001b[0m\u001b[1;33m\u001b[0m\u001b[0m\n",
      "\u001b[1;31mValueError\u001b[0m: The column label 'Aircraft_Key_x' is not unique."
     ]
    }
   ],
   "source": [
    "file = 'D:/cap/capstone2/data/raw/findings.csv'\n",
    "findings = pd.read_csv(file, encoding = 'Windows-1252', index_col = 0, low_memory = False) \n",
    "ac_crew_event_findings = pd.merge(ac_crew_event, findings, how='left', left_on=['ev_id','Aircraft_Key_x'], right_on = ['ev_id','Aircraft_Key'])\n",
    "ac_crew_event_findings.sort_values(by=['ev_id','Aircraft_Key_x', 'finding_no'], inplace=True)\n",
    "info(ac_crew_event_findings, '')\n",
    "ac_crew_event_findings.head(40)"
   ]
  },
  {
   "cell_type": "code",
   "execution_count": null,
   "metadata": {},
   "outputs": [],
   "source": [
    "df = ac_crew_event_findings[~ac_crew_event_findings['finding_description'].isnull()]\n",
    "print(df.head())\n",
    "df.shape"
   ]
  },
  {
   "cell_type": "code",
   "execution_count": null,
   "metadata": {},
   "outputs": [],
   "source": [
    "#initial profile\n",
    "generate_profile(df)"
   ]
  },
  {
   "cell_type": "code",
   "execution_count": null,
   "metadata": {},
   "outputs": [],
   "source": []
  },
  {
   "cell_type": "code",
   "execution_count": null,
   "metadata": {},
   "outputs": [],
   "source": []
  }
 ],
 "metadata": {
  "kernelspec": {
   "display_name": "Python 3",
   "language": "python",
   "name": "python3"
  },
  "language_info": {
   "codemirror_mode": {
    "name": "ipython",
    "version": 3
   },
   "file_extension": ".py",
   "mimetype": "text/x-python",
   "name": "python",
   "nbconvert_exporter": "python",
   "pygments_lexer": "ipython3",
   "version": "3.8.5"
  }
 },
 "nbformat": 4,
 "nbformat_minor": 4
}
