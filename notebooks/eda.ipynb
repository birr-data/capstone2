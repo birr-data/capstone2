{
 "cells": [
  {
   "cell_type": "code",
   "execution_count": null,
   "metadata": {},
   "outputs": [],
   "source": [
    "single_ac = df.drop_duplicates(subset='pilot_key', keep='first')\n",
    "ac = single_ac[single_ac['subsec_descript'] == 'Aircraft control']['ALL-PIC']\n",
    "ac.head()\n"
   ]
  },
  {
   "cell_type": "code",
   "execution_count": null,
   "metadata": {},
   "outputs": [],
   "source": [
    "lister = ac[ac >=20000].index\n",
    "\n",
    "ac.drop(lister, inplace = True)\n",
    "ac.describe()"
   ]
  },
  {
   "cell_type": "code",
   "execution_count": null,
   "metadata": {},
   "outputs": [],
   "source": [
    "sns.boxplot(ac)"
   ]
  },
  {
   "cell_type": "code",
   "execution_count": null,
   "metadata": {},
   "outputs": [],
   "source": [
    "sns.distplot(ac, kde=False, color='red', bins=300)\n",
    "plt.title('Loss of Aircraft Control Accidents', fontsize=18)\n",
    "plt.xlabel('Total flight hours', fontsize=16)\n",
    "plt.ylabel('Frequency', fontsize=16)"
   ]
  }
 ],
 "metadata": {
  "kernelspec": {
   "display_name": "Python 3",
   "language": "python",
   "name": "python3"
  },
  "language_info": {
   "codemirror_mode": {
    "name": "ipython",
    "version": 3
   },
   "file_extension": ".py",
   "mimetype": "text/x-python",
   "name": "python",
   "nbconvert_exporter": "python",
   "pygments_lexer": "ipython3",
   "version": "3.8.5"
  }
 },
 "nbformat": 4,
 "nbformat_minor": 4
}
