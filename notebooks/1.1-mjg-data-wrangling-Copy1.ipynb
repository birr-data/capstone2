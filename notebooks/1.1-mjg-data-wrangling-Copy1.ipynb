{
 "cells": [
  {
   "cell_type": "markdown",
   "metadata": {},
   "source": [
    "The data source for this project is the National Transportation Safety Board Aviation Accident database available at https://app.ntsb.gov/avdata/Access/\n",
    "\n",
    "This is a MS Access formated database composed of 20 tables.\n",
    "\n",
    "For the purpose of this project an initial subset of the data was filtered out of MS Access using that program's query utilities. This initial definition was meant to be broad in scope to make the dataset for the project more manageable. This was done by avoiding to export columns that clearly would not contribute to the analysis of the problem and only selecting records pertinent to the project (i.e. commercial flight operations were left out of the export.)\n",
    "\n",
    "The following tables were condensed and exported to csv files:\n",
    "- aircraft: aircraft data, type of operation (commercial, General Aviation, etc.), phase of flight\n",
    "- crew_flt_time: Pilot flight hours breakdown in categories\n",
    "- crew: sex, age, pilot category, medical certificate type, last check info \n",
    "- crew_ratings: pilot certifications\n",
    "- events: event date, prevailing weather\n",
    "- findings: enumerates causes of incidents as determined by investigation"
   ]
  },
  {
   "cell_type": "code",
   "execution_count": 1,
   "metadata": {},
   "outputs": [],
   "source": [
    "import pandas as pd\n",
    "import numpy as np\n",
    "from pandas_profiling import ProfileReport\n",
    "import missingno as msno\n",
    "import matplotlib.pyplot as plt\n",
    "\n",
    "import sys\n",
    "from os.path import dirname\n",
    "sys.path.append(dirname('D:\\cap\\capstone2\\src\\dicts.py'))\n",
    "\n",
    "# external dictionaries\n",
    "import dicts\n",
    "import phase_codes\n",
    "from datetime import datetime"
   ]
  },
  {
   "cell_type": "code",
   "execution_count": 2,
   "metadata": {},
   "outputs": [],
   "source": [
    "def generate_profile(df):\n",
    "    '''generate pandas profile'''\n",
    " \n",
    "    profile = ProfileReport(df)   \n",
    "    profile.to_widgets()\n",
    "    \n",
    "def info (df, column):\n",
    "    '''return several descriptive items'''\n",
    "    \n",
    "    if column != '':\n",
    "        print(\"UNIQUE VALUES & COUNTS IN \" + column)\n",
    "        print(df[column] .unique())\n",
    "        print(df[column] .value_counts())\n",
    "        \n",
    "    print(\"df shape: \")\n",
    "    print(df.shape)"
   ]
  },
  {
   "cell_type": "markdown",
   "metadata": {},
   "source": [
    "#### Aircraft Dataset\n",
    "The aircraft dataset contains information on the aircraft involved in the accident. The column 'far_part' will be used to determine under what code the flight was operating. This is were the data can be filter to include only General Aviation records and exclude commercial aviation. The column 'second_pilot' will be use to filter the data to include only single pilot operations (scope of analysis). Other remaining fields may be useful in analysis"
   ]
  },
  {
   "cell_type": "code",
   "execution_count": 3,
   "metadata": {},
   "outputs": [
    {
     "data": {
      "text/html": [
       "<div>\n",
       "<style scoped>\n",
       "    .dataframe tbody tr th:only-of-type {\n",
       "        vertical-align: middle;\n",
       "    }\n",
       "\n",
       "    .dataframe tbody tr th {\n",
       "        vertical-align: top;\n",
       "    }\n",
       "\n",
       "    .dataframe thead th {\n",
       "        text-align: right;\n",
       "    }\n",
       "</style>\n",
       "<table border=\"1\" class=\"dataframe\">\n",
       "  <thead>\n",
       "    <tr style=\"text-align: right;\">\n",
       "      <th></th>\n",
       "      <th>Aircraft_Key</th>\n",
       "      <th>far_part</th>\n",
       "      <th>flt_plan_filed</th>\n",
       "      <th>flight_plan_activated</th>\n",
       "      <th>damage</th>\n",
       "      <th>acft_make</th>\n",
       "      <th>acft_model</th>\n",
       "      <th>fixed_retractable</th>\n",
       "      <th>acft_serial_no</th>\n",
       "      <th>cert_max_gr_wt</th>\n",
       "      <th>...</th>\n",
       "      <th>phase_flt_spec</th>\n",
       "      <th>afm_hrs_since</th>\n",
       "      <th>rwy_num</th>\n",
       "      <th>rwy_len</th>\n",
       "      <th>rwy_width</th>\n",
       "      <th>site_seeing</th>\n",
       "      <th>air_medical</th>\n",
       "      <th>med_type_flight</th>\n",
       "      <th>acft_year</th>\n",
       "      <th>ifr_equipped_cert</th>\n",
       "    </tr>\n",
       "    <tr>\n",
       "      <th>ev_id</th>\n",
       "      <th></th>\n",
       "      <th></th>\n",
       "      <th></th>\n",
       "      <th></th>\n",
       "      <th></th>\n",
       "      <th></th>\n",
       "      <th></th>\n",
       "      <th></th>\n",
       "      <th></th>\n",
       "      <th></th>\n",
       "      <th></th>\n",
       "      <th></th>\n",
       "      <th></th>\n",
       "      <th></th>\n",
       "      <th></th>\n",
       "      <th></th>\n",
       "      <th></th>\n",
       "      <th></th>\n",
       "      <th></th>\n",
       "      <th></th>\n",
       "      <th></th>\n",
       "    </tr>\n",
       "  </thead>\n",
       "  <tbody>\n",
       "    <tr>\n",
       "      <th>20051031X01758</th>\n",
       "      <td>1</td>\n",
       "      <td>91</td>\n",
       "      <td>NONE</td>\n",
       "      <td>NaN</td>\n",
       "      <td>SUBS</td>\n",
       "      <td>1200</td>\n",
       "      <td>G103</td>\n",
       "      <td>NaN</td>\n",
       "      <td>3603</td>\n",
       "      <td>1200.0</td>\n",
       "      <td>...</td>\n",
       "      <td>570.0</td>\n",
       "      <td>NaN</td>\n",
       "      <td>NaN</td>\n",
       "      <td>NaN</td>\n",
       "      <td>NaN</td>\n",
       "      <td>N</td>\n",
       "      <td>N</td>\n",
       "      <td>NaN</td>\n",
       "      <td>NaN</td>\n",
       "      <td>0</td>\n",
       "    </tr>\n",
       "    <tr>\n",
       "      <th>20001211X11538</th>\n",
       "      <td>1</td>\n",
       "      <td>129</td>\n",
       "      <td>UNK</td>\n",
       "      <td>NaN</td>\n",
       "      <td>UNK</td>\n",
       "      <td></td>\n",
       "      <td>A330</td>\n",
       "      <td>NaN</td>\n",
       "      <td></td>\n",
       "      <td>NaN</td>\n",
       "      <td>...</td>\n",
       "      <td>0.0</td>\n",
       "      <td>NaN</td>\n",
       "      <td>0</td>\n",
       "      <td>NaN</td>\n",
       "      <td>NaN</td>\n",
       "      <td>N</td>\n",
       "      <td>N</td>\n",
       "      <td>NaN</td>\n",
       "      <td>NaN</td>\n",
       "      <td>0</td>\n",
       "    </tr>\n",
       "    <tr>\n",
       "      <th>20020917X04814</th>\n",
       "      <td>1</td>\n",
       "      <td>91</td>\n",
       "      <td>NONE</td>\n",
       "      <td>NaN</td>\n",
       "      <td>SUBS</td>\n",
       "      <td></td>\n",
       "      <td>HOBBS B8M</td>\n",
       "      <td>NaN</td>\n",
       "      <td>JOH1</td>\n",
       "      <td>550.0</td>\n",
       "      <td>...</td>\n",
       "      <td>560.0</td>\n",
       "      <td>NaN</td>\n",
       "      <td>20</td>\n",
       "      <td>3900.0</td>\n",
       "      <td>60.0</td>\n",
       "      <td>N</td>\n",
       "      <td>N</td>\n",
       "      <td>NaN</td>\n",
       "      <td>NaN</td>\n",
       "      <td>0</td>\n",
       "    </tr>\n",
       "  </tbody>\n",
       "</table>\n",
       "<p>3 rows × 37 columns</p>\n",
       "</div>"
      ],
      "text/plain": [
       "                Aircraft_Key far_part flt_plan_filed flight_plan_activated  \\\n",
       "ev_id                                                                        \n",
       "20051031X01758             1       91           NONE                   NaN   \n",
       "20001211X11538             1      129           UNK                    NaN   \n",
       "20020917X04814             1       91           NONE                   NaN   \n",
       "\n",
       "               damage                       acft_make            acft_model  \\\n",
       "ev_id                                                                         \n",
       "20051031X01758   SUBS                            1200                  G103   \n",
       "20001211X11538   UNK                                   A330                   \n",
       "20020917X04814   SUBS                                  HOBBS B8M              \n",
       "\n",
       "               fixed_retractable acft_serial_no  cert_max_gr_wt  ...  \\\n",
       "ev_id                                                            ...   \n",
       "20051031X01758               NaN           3603          1200.0  ...   \n",
       "20001211X11538               NaN                            NaN  ...   \n",
       "20020917X04814               NaN   JOH1                   550.0  ...   \n",
       "\n",
       "               phase_flt_spec afm_hrs_since rwy_num  rwy_len  rwy_width  \\\n",
       "ev_id                                                                     \n",
       "20051031X01758          570.0           NaN     NaN      NaN        NaN   \n",
       "20001211X11538            0.0           NaN       0      NaN        NaN   \n",
       "20020917X04814          560.0           NaN      20   3900.0       60.0   \n",
       "\n",
       "               site_seeing air_medical  med_type_flight  acft_year  \\\n",
       "ev_id                                                                \n",
       "20051031X01758           N           N              NaN        NaN   \n",
       "20001211X11538           N           N              NaN        NaN   \n",
       "20020917X04814           N           N              NaN        NaN   \n",
       "\n",
       "               ifr_equipped_cert  \n",
       "ev_id                             \n",
       "20051031X01758                 0  \n",
       "20001211X11538                 0  \n",
       "20020917X04814                 0  \n",
       "\n",
       "[3 rows x 37 columns]"
      ]
     },
     "execution_count": 3,
     "metadata": {},
     "output_type": "execute_result"
    }
   ],
   "source": [
    "file = 'D:/cap/capstone2/data/raw/aircraft.csv'\n",
    "aircraft = pd.read_csv(file, encoding = 'Windows-1252', index_col = 0, low_memory = False)   \n",
    "aircraft.head(3)"
   ]
  },
  {
   "cell_type": "code",
   "execution_count": 4,
   "metadata": {},
   "outputs": [],
   "source": [
    "#initial profile\n",
    "#generate_profile(aircraft)"
   ]
  },
  {
   "cell_type": "markdown",
   "metadata": {},
   "source": [
    "An initial review of this dataset indicates several columns have a large number of missing values while others are not germane to the scope of the analysis. These columns will be dropped."
   ]
  },
  {
   "cell_type": "markdown",
   "metadata": {},
   "source": [
    "##### Task: Drop uneeded columns"
   ]
  },
  {
   "cell_type": "code",
   "execution_count": 5,
   "metadata": {},
   "outputs": [
    {
     "name": "stdout",
     "output_type": "stream",
     "text": [
      "(85337, 37)\n",
      "(0, 37)\n",
      "59792\n"
     ]
    }
   ],
   "source": [
    "# These columns have no usable data or are missing too many values to be of use\n",
    "print(aircraft.shape)\n",
    "\n",
    "ifr = aircraft[aircraft.ifr_equipped_cert != 0]\n",
    "print(ifr.shape)\n",
    "\n",
    "flt_plan = aircraft.flight_plan_activated.isnull().sum()\n",
    "print(flt_plan)\n",
    "\n",
    "# column has no usable data\n",
    "aircraft.drop(columns=['ifr_equipped_cert', 'flight_plan_activated'], inplace=True)"
   ]
  },
  {
   "cell_type": "code",
   "execution_count": 6,
   "metadata": {},
   "outputs": [
    {
     "name": "stdout",
     "output_type": "stream",
     "text": [
      "Index(['Aircraft_Key', 'far_part', 'flt_plan_filed', 'acft_make', 'acft_model',\n",
      "       'type_fly', 'second_pilot', 'phase_flt_spec'],\n",
      "      dtype='object')\n"
     ]
    }
   ],
   "source": [
    "#drop columns not applicable to analysis\n",
    "to_drop = ['damage', 'acft_serial_no', 'cert_max_gr_wt', 'acft_category', 'homebuilt', 'fixed_retractable', 'total_seats', \n",
    "           'num_eng', 'type_last_insp', 'date_last_insp', 'afm_hrs_last_insp', 'acft_reg_cls', 'afm_hrs', 'dprt_pt_same_ev',\n",
    "           'dprt_apt_id', 'dprt_time', 'dprt_timezn', 'dest_same_local', 'dest_apt_id', 'afm_hrs_since', 'rwy_num', 'rwy_len', \n",
    "           'rwy_width', 'site_seeing', 'air_medical', 'med_type_flight', 'acft_year']\n",
    "           \n",
    "aircraft.drop(columns = to_drop, inplace=True)\n",
    "print(aircraft.columns)"
   ]
  },
  {
   "cell_type": "markdown",
   "metadata": {},
   "source": [
    "##### Task: Filter dataset by 'far_part' column to retain only non-commercial aviation cases."
   ]
  },
  {
   "cell_type": "code",
   "execution_count": 7,
   "metadata": {},
   "outputs": [
    {
     "data": {
      "text/plain": [
       "array(['91', '129', 'UNK ', '137', 'NUSN', nan, '135', 'NUSC', 'PUBU',\n",
       "       '121', '133', '103', '091F', 'ARMF', '125', '091K', '107', '437'],\n",
       "      dtype=object)"
      ]
     },
     "execution_count": 7,
     "metadata": {},
     "output_type": "execute_result"
    }
   ],
   "source": [
    "aircraft.far_part.unique()"
   ]
  },
  {
   "cell_type": "markdown",
   "metadata": {},
   "source": [
    "Categorical values for operational code (far_part) are consistent.\n",
    "Retained records: 91, 091F, 091K - General Aviation,  103 - Ultralight,  aircraft UNK - to check if record is GA by other means"
   ]
  },
  {
   "cell_type": "code",
   "execution_count": 8,
   "metadata": {},
   "outputs": [
    {
     "name": "stdout",
     "output_type": "stream",
     "text": [
      "UNIQUE VALUES & COUNTS IN far_part\n",
      "['91' '103' '091F' '091K']\n",
      "91      68460\n",
      "103       194\n",
      "091F       37\n",
      "091K       14\n",
      "Name: far_part, dtype: int64\n",
      "df shape: \n",
      "(68705, 8)\n"
     ]
    }
   ],
   "source": [
    "aircraft_ga = aircraft[aircraft['far_part'].isin(['91', '091F', '091K', '103', 'UNK'])]\n",
    "info(aircraft_ga, 'far_part')"
   ]
  },
  {
   "cell_type": "markdown",
   "metadata": {},
   "source": [
    "##### Task: cleanup flt_plan_file column\n",
    "\n",
    "Aicraft may operate under Visual Flight rules (VFR), Instrument flight rules (IFR) or a combination of both (VFIF).\n",
    "\n",
    "Simplifly categories - condense MVFR and CVFR under VFR flight plans."
   ]
  },
  {
   "cell_type": "code",
   "execution_count": 9,
   "metadata": {},
   "outputs": [
    {
     "name": "stdout",
     "output_type": "stream",
     "text": [
      "UNIQUE VALUES & COUNTS IN flt_plan_filed\n",
      "['NONE' 'VFR' 'IFR' 'UNK' 'VFIF']\n",
      "NONE    54786\n",
      "VFR      6344\n",
      "IFR      5781\n",
      "UNK      1653\n",
      "VFIF      141\n",
      "Name: flt_plan_filed, dtype: int64\n",
      "df shape: \n",
      "(68705, 8)\n"
     ]
    },
    {
     "name": "stderr",
     "output_type": "stream",
     "text": [
      "<ipython-input-9-b1bf3560cea2>:1: SettingWithCopyWarning: \n",
      "A value is trying to be set on a copy of a slice from a DataFrame.\n",
      "Try using .loc[row_indexer,col_indexer] = value instead\n",
      "\n",
      "See the caveats in the documentation: https://pandas.pydata.org/pandas-docs/stable/user_guide/indexing.html#returning-a-view-versus-a-copy\n",
      "  aircraft_ga['flt_plan_filed'] = aircraft_ga['flt_plan_filed'].str.strip()\n",
      "D:\\Anaconda\\envs\\Capstone2\\lib\\site-packages\\pandas\\core\\series.py:4517: SettingWithCopyWarning: \n",
      "A value is trying to be set on a copy of a slice from a DataFrame\n",
      "\n",
      "See the caveats in the documentation: https://pandas.pydata.org/pandas-docs/stable/user_guide/indexing.html#returning-a-view-versus-a-copy\n",
      "  return super().fillna(\n",
      "<ipython-input-9-b1bf3560cea2>:3: SettingWithCopyWarning: \n",
      "A value is trying to be set on a copy of a slice from a DataFrame.\n",
      "Try using .loc[row_indexer,col_indexer] = value instead\n",
      "\n",
      "See the caveats in the documentation: https://pandas.pydata.org/pandas-docs/stable/user_guide/indexing.html#returning-a-view-versus-a-copy\n",
      "  aircraft_ga['flt_plan_filed'] = aircraft_ga['flt_plan_filed'].replace(['MVFR', 'CVFR'], 'VFR')\n"
     ]
    }
   ],
   "source": [
    "aircraft_ga['flt_plan_filed'] = aircraft_ga['flt_plan_filed'].str.strip()\n",
    "aircraft_ga['flt_plan_filed'].fillna('UNK', inplace=True)\n",
    "aircraft_ga['flt_plan_filed'] = aircraft_ga['flt_plan_filed'].replace(['MVFR', 'CVFR'], 'VFR')\n",
    "info(aircraft_ga, 'flt_plan_filed')"
   ]
  },
  {
   "cell_type": "markdown",
   "metadata": {},
   "source": [
    "##### Task: Filter dataset to include only single pilot operations.\n",
    "Column 'second_pilot' indicates whether flight was conducted by a single pilot or crew. The scope of this analysis is limited to single pilot operations. Will discard records indicating a second pilot was present. Will retain null entries and those markes as 'U' (unknown) and will attempt to derive its value indirectly."
   ]
  },
  {
   "cell_type": "code",
   "execution_count": 10,
   "metadata": {},
   "outputs": [
    {
     "name": "stdout",
     "output_type": "stream",
     "text": [
      "UNIQUE VALUES & COUNTS IN second_pilot\n",
      "['N' 'UNK']\n",
      "N      56037\n",
      "UNK     3445\n",
      "Name: second_pilot, dtype: int64\n",
      "df shape: \n",
      "(59482, 8)\n"
     ]
    },
    {
     "name": "stderr",
     "output_type": "stream",
     "text": [
      "<ipython-input-10-9a97cbe73d29>:3: SettingWithCopyWarning: \n",
      "A value is trying to be set on a copy of a slice from a DataFrame.\n",
      "Try using .loc[row_indexer,col_indexer] = value instead\n",
      "\n",
      "See the caveats in the documentation: https://pandas.pydata.org/pandas-docs/stable/user_guide/indexing.html#returning-a-view-versus-a-copy\n",
      "  aircraft_ga['second_pilot'] = aircraft_ga['second_pilot'].replace('U', 'UNK')\n"
     ]
    }
   ],
   "source": [
    "#filter out df where second pilot is present\n",
    "aircraft_ga['second_pilot'].fillna('UNK', inplace=True)\n",
    "aircraft_ga['second_pilot'] = aircraft_ga['second_pilot'].replace('U', 'UNK')\n",
    "aircraft_ga_single = aircraft_ga[aircraft_ga['second_pilot'] != 'Y']\n",
    "info(aircraft_ga_single, 'second_pilot')"
   ]
  },
  {
   "cell_type": "markdown",
   "metadata": {},
   "source": [
    "##### Task: Map Phase of Flight to improve readeability.\n",
    "\n",
    "Phase of flight is categorical data entered as codes. "
   ]
  },
  {
   "cell_type": "code",
   "execution_count": 11,
   "metadata": {},
   "outputs": [
    {
     "name": "stdout",
     "output_type": "stream",
     "text": [
      "[570. 560. 520.  nan   0. 522. 571. 565. 572. 580. 513. 540. 541. 530.\n",
      " 550. 500. 553. 523. 564. 573. 610. 521. 574. 576. 510. 600. 568. 531.\n",
      " 502. 582. 581. 563. 514. 590. 591. 551. 575. 512. 503. 561. 583. 566.\n",
      " 504. 552. 562. 567. 569. 592. 505. 501. 400. 250. 542.]\n"
     ]
    }
   ],
   "source": [
    "print(aircraft_ga_single['phase_flt_spec'].unique())"
   ]
  },
  {
   "cell_type": "code",
   "execution_count": 12,
   "metadata": {},
   "outputs": [
    {
     "name": "stdout",
     "output_type": "stream",
     "text": [
      "UNIQUE VALUES & COUNTS IN phase_flt_spec\n",
      "['Landing' 'Approach' 'Takeoff' None 'Takeoff - initial climb'\n",
      " 'Landing - flare/touchdown' 'Go-around (VFR)' 'Landing - roll'\n",
      " 'Maneuvering' 'Taxi - from landing' 'Cruise' 'Cruise - normal' 'Climb'\n",
      " 'Descent' 'Standing' 'Descent - uncontrolled' 'Takeoff - aborted'\n",
      " 'Approach - VFR pattern - final approach' 'Landing - aborted' 'Unknown'\n",
      " 'Takeoff - roll/run' 'Emergency landing' 'Emergency descent/landing'\n",
      " 'Taxi' 'Other' 'Approach - circling (IFR)' 'Climb - to cruise'\n",
      " 'Standing - starting engine(s)' 'Maneuvering - turn to reverse direction'\n",
      " 'Maneuvering - aerial application'\n",
      " 'Approach - VFR pattern - base leg/base to final' 'Taxi - aerial' 'Hover'\n",
      " 'Hover - in ground effect' 'Descent - normal'\n",
      " 'Emergency landing after takeoff' 'Taxi - to takeoff'\n",
      " 'Standing - engine(s) operating' 'Approach - VFR pattern - downwind'\n",
      " 'Maneuvering - turn to landing area (emergency)'\n",
      " 'Approach - Initial approach fix (IAF) to final approach fix (FAF)/outer marker (IFR)'\n",
      " 'Standing - engine(s) not operating' 'Descent - emergency'\n",
      " 'Approach - VFR pattern - turn to base'\n",
      " 'Approach - final approach fix (FAF)/outer marker to threshold (IFR)'\n",
      " 'Missed approach (IFR)' 'Hover - out of ground effect'\n",
      " 'Standing - idling rotors' 'Standing - pre-flight' nan\n",
      " 'Maneuvering - holding (IFR)']\n",
      "Landing                                                                                 15888\n",
      "Takeoff                                                                                  5336\n",
      "Descent                                                                                  3696\n",
      "Maneuvering                                                                              3551\n",
      "Cruise                                                                                   3413\n",
      "Approach                                                                                 3126\n",
      "Taxi                                                                                     1136\n",
      "Landing - roll                                                                           1073\n",
      "Takeoff - initial climb                                                                   861\n",
      "Emergency landing                                                                         856\n",
      "Landing - flare/touchdown                                                                 778\n",
      "Climb                                                                                     738\n",
      "Unknown                                                                                   391\n",
      "Standing                                                                                  341\n",
      "Approach - VFR pattern - final approach                                                   304\n",
      "Emergency descent/landing                                                                 245\n",
      "Hover                                                                                     232\n",
      "Takeoff - roll/run                                                                        225\n",
      "Go-around (VFR)                                                                           217\n",
      "Cruise - normal                                                                           206\n",
      "Descent - uncontrolled                                                                    186\n",
      "Landing - aborted                                                                         119\n",
      "Takeoff - aborted                                                                         113\n",
      "Taxi - from landing                                                                        90\n",
      "Climb - to cruise                                                                          85\n",
      "Other                                                                                      78\n",
      "Approach - VFR pattern - downwind                                                          72\n",
      "Emergency landing after takeoff                                                            66\n",
      "Taxi - to takeoff                                                                          61\n",
      "Descent - emergency                                                                        60\n",
      "Descent - normal                                                                           51\n",
      "Approach - VFR pattern - base leg/base to final                                            49\n",
      "Standing - engine(s) operating                                                             44\n",
      "Approach - final approach fix (FAF)/outer marker to threshold (IFR)                        37\n",
      "Standing - starting engine(s)                                                              35\n",
      "Hover - in ground effect                                                                   29\n",
      "Maneuvering - turn to reverse direction                                                    25\n",
      "Maneuvering - turn to landing area (emergency)                                             25\n",
      "Missed approach (IFR)                                                                      23\n",
      "Approach - VFR pattern - turn to base                                                      22\n",
      "Maneuvering - aerial application                                                           16\n",
      "Hover - out of ground effect                                                               15\n",
      "Approach - Initial approach fix (IAF) to final approach fix (FAF)/outer marker (IFR)       13\n",
      "Standing - idling rotors                                                                   12\n",
      "Approach - circling (IFR)                                                                  11\n",
      "Taxi - aerial                                                                               4\n",
      "Standing - engine(s) not operating                                                          3\n",
      "Maneuvering - holding (IFR)                                                                 1\n",
      "Standing - pre-flight                                                                       1\n",
      "Name: phase_flt_spec, dtype: int64\n",
      "df shape: \n",
      "(59482, 8)\n"
     ]
    },
    {
     "name": "stderr",
     "output_type": "stream",
     "text": [
      "<ipython-input-12-d6b1f3fe7f66>:6: SettingWithCopyWarning: \n",
      "A value is trying to be set on a copy of a slice from a DataFrame.\n",
      "Try using .loc[row_indexer,col_indexer] = value instead\n",
      "\n",
      "See the caveats in the documentation: https://pandas.pydata.org/pandas-docs/stable/user_guide/indexing.html#returning-a-view-versus-a-copy\n",
      "  aircraft_ga_single['phase_flt_spec'] = aircraft_ga_single['phase_flt_spec'].map(phase_codes)\n"
     ]
    }
   ],
   "source": [
    "aircraft_ga_single['phase_flt_spec'].fillna(0, inplace=True)\n",
    "aircraft_ga_single['phase_flt_spec'].astype(int)\n",
    "\n",
    "phase_codes = phase_codes.phase_codes\n",
    "\n",
    "aircraft_ga_single['phase_flt_spec'] = aircraft_ga_single['phase_flt_spec'].map(phase_codes)\n",
    "info(aircraft_ga_single, 'phase_flt_spec')"
   ]
  },
  {
   "cell_type": "code",
   "execution_count": 13,
   "metadata": {},
   "outputs": [
    {
     "data": {
      "text/plain": [
       "PERS    44168\n",
       "INST     5288\n",
       "BUS      3434\n",
       "UNK      1696\n",
       "POSI     1246\n",
       "OWRK      829\n",
       "FERY      665\n",
       "AOBV      647\n",
       "PUBU      330\n",
       "EXEC      304\n",
       "FLTS      300\n",
       "SKYD      157\n",
       "ASHO      144\n",
       "BANT       90\n",
       "GLDT       50\n",
       "AAPL       36\n",
       "PUBS       15\n",
       "PUBF       13\n",
       "PUBL        7\n",
       "ADRP        7\n",
       "EXLD        5\n",
       "FIRF        1\n",
       "Name: type_fly, dtype: int64"
      ]
     },
     "execution_count": 13,
     "metadata": {},
     "output_type": "execute_result"
    }
   ],
   "source": [
    "aircraft_ga_single['type_fly'].value_counts()\n",
    "# column values are consistent"
   ]
  },
  {
   "cell_type": "code",
   "execution_count": 14,
   "metadata": {},
   "outputs": [
    {
     "data": {
      "text/plain": [
       "CESSNA                            11150\n",
       "PIPER                              5965\n",
       "Cessna                             3856\n",
       "CESSNA                             2941\n",
       "Cessna                             2629\n",
       "                                  ...  \n",
       "Davis                                 1\n",
       "WOOD-OLDFIELD                         1\n",
       "CIRRUS                                1\n",
       "PFLUGRADT                             1\n",
       "Crimmins                              1\n",
       "Name: acft_make, Length: 7736, dtype: int64"
      ]
     },
     "execution_count": 14,
     "metadata": {},
     "output_type": "execute_result"
    }
   ],
   "source": [
    "aircraft_ga_single['acft_make'].value_counts()"
   ]
  },
  {
   "cell_type": "code",
   "execution_count": 15,
   "metadata": {},
   "outputs": [
    {
     "data": {
      "text/plain": [
       "152                     1942\n",
       "172                     1368\n",
       "150                      686\n",
       "172N                     666\n",
       "PA-28-140                597\n",
       "                        ... \n",
       "HOMEBUILT GYROCOPTER       1\n",
       "CASSUTT 111M               1\n",
       "DG-300 ELAN                1\n",
       "DAPHNE/SDIA                1\n",
       "MONOFLY                    1\n",
       "Name: acft_model, Length: 10595, dtype: int64"
      ]
     },
     "execution_count": 15,
     "metadata": {},
     "output_type": "execute_result"
    }
   ],
   "source": [
    "aircraft_ga_single['acft_model'].value_counts()"
   ]
  },
  {
   "cell_type": "markdown",
   "metadata": {},
   "source": [
    "Aircraft make and aircraft models are free text data and contain many variations for the same entity i.e. Cessna, CESSNA, Cesna\n",
    "Scope of analysis does not need these columns but will be retained for possible insight and if needed will be cleaned up at that time."
   ]
  },
  {
   "cell_type": "code",
   "execution_count": 16,
   "metadata": {},
   "outputs": [
    {
     "data": {
      "image/png": "[encoded data removed]",
      "text/plain": [
       "<Figure size 1800x720 with 2 Axes>"
      ]
     },
     "metadata": {
      "needs_background": "light"
     },
     "output_type": "display_data"
    }
   ],
   "source": [
    "msno.matrix(aircraft_ga_single)\n",
    "plt.show()"
   ]
  },
  {
   "cell_type": "code",
   "execution_count": 17,
   "metadata": {},
   "outputs": [
    {
     "name": "stdout",
     "output_type": "stream",
     "text": [
      "<class 'pandas.core.frame.DataFrame'>\n",
      "Index: 59482 entries, 20051031X01758 to 20070927X01454\n",
      "Data columns (total 8 columns):\n",
      " #   Column          Non-Null Count  Dtype \n",
      "---  ------          --------------  ----- \n",
      " 0   Aircraft_Key    59482 non-null  int64 \n",
      " 1   far_part        59482 non-null  object\n",
      " 2   flt_plan_filed  59482 non-null  object\n",
      " 3   acft_make       59477 non-null  object\n",
      " 4   acft_model      59477 non-null  object\n",
      " 5   type_fly        59432 non-null  object\n",
      " 6   second_pilot    59482 non-null  object\n",
      " 7   phase_flt_spec  43959 non-null  object\n",
      "dtypes: int64(1), object(7)\n",
      "memory usage: 4.1+ MB\n"
     ]
    }
   ],
   "source": [
    "aircraft_ga_single.info()"
   ]
  },
  {
   "cell_type": "markdown",
   "metadata": {},
   "source": [
    "### Aircrew Dataset"
   ]
  },
  {
   "cell_type": "code",
   "execution_count": 18,
   "metadata": {},
   "outputs": [],
   "source": [
    "file = 'D:/cap/capstone2/data/raw/crew.csv'\n",
    "crew = pd.read_csv(file, encoding = 'Windows-1252', index_col = 0, low_memory = False) "
   ]
  },
  {
   "cell_type": "code",
   "execution_count": 19,
   "metadata": {},
   "outputs": [],
   "source": [
    "#generate_profile(crew)"
   ]
  },
  {
   "cell_type": "markdown",
   "metadata": {},
   "source": [
    "##### Task: Drop unwanted columns"
   ]
  },
  {
   "cell_type": "code",
   "execution_count": 20,
   "metadata": {},
   "outputs": [],
   "source": [
    "# pc_profession (pilot job) would have been an interesting feature to analyze but it contains to many missing or non-descriptive\n",
    "# values to be of use\n",
    "\n",
    "to_drop = ['crew_city', 'crew_res_state', 'crew_res_country', 'crew_inj_level', 'seat_occ_pic', 'pc_profession']\n",
    "crew.drop(columns = to_drop, inplace=True)"
   ]
  },
  {
   "cell_type": "markdown",
   "metadata": {},
   "source": [
    "##### Task: Analyse 'Crew Category\" column and filter out unwanted records"
   ]
  },
  {
   "cell_type": "code",
   "execution_count": 21,
   "metadata": {},
   "outputs": [
    {
     "name": "stdout",
     "output_type": "stream",
     "text": [
      "UNIQUE VALUES & COUNTS IN crew_category\n",
      "['PLT  ' 'CPLT ' 'FENG ' nan 'OTHR ' 'KPLT ' 'FLTI ' 'DSTU ' 'PRPS '\n",
      " 'PASS ' 'CABN ']\n",
      "PLT      79257\n",
      "DSTU      2873\n",
      "FLTI      2383\n",
      "CPLT      1795\n",
      "PASS      1075\n",
      "OTHR       309\n",
      "PRPS       279\n",
      "KPLT       145\n",
      "FENG        70\n",
      "CABN        40\n",
      "Name: crew_category, dtype: int64\n",
      "df shape: \n",
      "(88801, 10)\n"
     ]
    }
   ],
   "source": [
    "info(crew, 'crew_category')"
   ]
  },
  {
   "cell_type": "code",
   "execution_count": 22,
   "metadata": {},
   "outputs": [
    {
     "name": "stdout",
     "output_type": "stream",
     "text": [
      "UNIQUE VALUES & COUNTS IN crew_category\n",
      "['PLT  ' nan 'DSTU ']\n",
      "PLT      79257\n",
      "DSTU      2873\n",
      "Name: crew_category, dtype: int64\n",
      "df shape: \n",
      "(82705, 10)\n"
     ]
    }
   ],
   "source": [
    "#filter out unwanted pilot categories - retain pilot, student, and empty\n",
    "crew = crew[~crew['crew_category'].isin(['FLTI ', 'PASS ', 'OTHR ', 'KPLT ', 'PRPS ', 'CPLT ', 'CABN ', 'FENG '])]\n",
    "info(crew, 'crew_category')"
   ]
  },
  {
   "cell_type": "code",
   "execution_count": 23,
   "metadata": {},
   "outputs": [
    {
     "name": "stdout",
     "output_type": "stream",
     "text": [
      "UNIQUE VALUES & COUNTS IN crew_category\n",
      "['PILOT' 'UNK' 'STUDENT']\n",
      "PILOT      79257\n",
      "STUDENT     2873\n",
      "UNK          575\n",
      "Name: crew_category, dtype: int64\n",
      "df shape: \n",
      "(82705, 10)\n"
     ]
    }
   ],
   "source": [
    "#standardize unkn entry, replace codes with pilot, student for readeability\n",
    "crew['crew_category'].fillna('UNK', inplace=True)\n",
    "crew['crew_category'] = crew['crew_category'].str.strip()\n",
    "crew['crew_category'] = crew['crew_category'].replace(['PLT', 'DSTU'], ['PILOT','STUDENT'])\n",
    "info(crew, 'crew_category')"
   ]
  },
  {
   "cell_type": "markdown",
   "metadata": {},
   "source": [
    "##### Task: eliminate records containing more than one pilot based on crew_number column"
   ]
  },
  {
   "cell_type": "code",
   "execution_count": 24,
   "metadata": {},
   "outputs": [
    {
     "name": "stdout",
     "output_type": "stream",
     "text": [
      "UNIQUE VALUES & COUNTS IN crew_no\n",
      "[1 2 3 4 5 6]\n",
      "1    80063\n",
      "2     2544\n",
      "3       81\n",
      "4       12\n",
      "5        4\n",
      "6        1\n",
      "Name: crew_no, dtype: int64\n",
      "df shape: \n",
      "(82705, 10)\n"
     ]
    }
   ],
   "source": [
    "info(crew, 'crew_no')"
   ]
  },
  {
   "cell_type": "code",
   "execution_count": 25,
   "metadata": {},
   "outputs": [
    {
     "name": "stdout",
     "output_type": "stream",
     "text": [
      "<class 'pandas.core.frame.DataFrame'>\n",
      "Index: 80063 entries, 20001204X00000 to 20200724X65101\n",
      "Data columns (total 10 columns):\n",
      " #   Column          Non-Null Count  Dtype  \n",
      "---  ------          --------------  -----  \n",
      " 0   Aircraft_Key    80063 non-null  int64  \n",
      " 1   crew_no         80063 non-null  int64  \n",
      " 2   crew_category   80063 non-null  object \n",
      " 3   crew_age        76169 non-null  float64\n",
      " 4   crew_sex        75542 non-null  object \n",
      " 5   med_certf       78259 non-null  object \n",
      " 6   med_crtf_vldty  74900 non-null  object \n",
      " 7   date_lst_med    72485 non-null  object \n",
      " 8   bfr             49800 non-null  object \n",
      " 9   bfr_date        19163 non-null  object \n",
      "dtypes: float64(1), int64(2), object(7)\n",
      "memory usage: 6.7+ MB\n"
     ]
    }
   ],
   "source": [
    "#substract multi-crew records from df\n",
    "multi_crew = crew[crew['crew_no'] > 1]\n",
    "crew = crew[~crew.crew_no.isin(multi_crew.crew_no)]\n",
    "crew.info()"
   ]
  },
  {
   "cell_type": "code",
   "execution_count": 26,
   "metadata": {},
   "outputs": [
    {
     "name": "stdout",
     "output_type": "stream",
     "text": [
      "UNIQUE VALUES & COUNTS IN crew_age\n",
      "[ 42.  53.  39.  25.  38.  43.  63.  59.  66.  33.  46.  31.  68.  50.\n",
      "  54.  37.  28.  77.  55.  56.  45.  75.  23.  47.  32.  40.  44.  20.\n",
      "   0.  69.  36.  35.  18.  65.  51.  60.  48.  61.  57.  41.  71.  70.\n",
      "  64.  72.  29.  34.  26.  49.  58.  22.  30.  27.  73.  74.  62.  67.\n",
      "  80.  81.  19.  21.  52.  24.  82.  78.  76.  79.  85.  88.  17.  91.\n",
      "  15.  83.  84.  16.  86.  14.  87.  90.  89.   1.  99.  92.  94. 114.\n",
      "   8. 115.  98. 117.  93.]\n",
      "0.0      3901\n",
      "45.0     1879\n",
      "46.0     1876\n",
      "51.0     1865\n",
      "43.0     1856\n",
      "         ... \n",
      "93.0        1\n",
      "115.0       1\n",
      "114.0       1\n",
      "8.0         1\n",
      "117.0       1\n",
      "Name: crew_age, Length: 89, dtype: int64\n",
      "df shape: \n",
      "(80063, 10)\n"
     ]
    }
   ],
   "source": [
    "crew['crew_age'].fillna(0, inplace=True)\n",
    "crew['crew_age'].unique()\n",
    "info(crew, 'crew_age')"
   ]
  },
  {
   "cell_type": "markdown",
   "metadata": {},
   "source": [
    "Some age values appear to be out of range. Educated replacement is to limit max age to 100 and minimum age to 14.\n",
    "The earliest age to be a student pilot is 14 years. Minimal amount of records are affected.\n",
    "Ages shown as 0 will be considered as unknown and will be derived later via total flight hour algorithm."
   ]
  },
  {
   "cell_type": "code",
   "execution_count": 27,
   "metadata": {},
   "outputs": [],
   "source": [
    "crew['crew_age'] = crew['crew_age'].astype(int)\n",
    "crew.loc[crew['crew_age'] > 100, 'crew_age'] = 100\n",
    "crew.loc[(crew['crew_age'] < 14) & (crew['crew_age'] > 0) , 'crew_age'] = 14"
   ]
  },
  {
   "cell_type": "code",
   "execution_count": 28,
   "metadata": {},
   "outputs": [
    {
     "name": "stdout",
     "output_type": "stream",
     "text": [
      "UNIQUE VALUES & COUNTS IN crew_age\n",
      "[ 42  53  39  25  38  43  63  59  66  33  46  31  68  50  54  37  28  77\n",
      "  55  56  45  75  23  47  32  40  44  20   0  69  36  35  18  65  51  60\n",
      "  48  61  57  41  71  70  64  72  29  34  26  49  58  22  30  27  73  74\n",
      "  62  67  80  81  19  21  52  24  82  78  76  79  85  88  17  91  15  83\n",
      "  84  16  86  14  87  90  89  99  92  94 100  98  93]\n",
      "0      3901\n",
      "45     1879\n",
      "46     1876\n",
      "51     1865\n",
      "43     1856\n",
      "       ... \n",
      "100       3\n",
      "99        2\n",
      "93        1\n",
      "98        1\n",
      "94        1\n",
      "Name: crew_age, Length: 85, dtype: int64\n",
      "df shape: \n",
      "(80063, 10)\n"
     ]
    }
   ],
   "source": [
    "info(crew, 'crew_age')"
   ]
  },
  {
   "cell_type": "markdown",
   "metadata": {},
   "source": [
    "##### Medical Certificate Validity"
   ]
  },
  {
   "cell_type": "markdown",
   "metadata": {},
   "source": [
    "There are several codes for medical certificate validity. For the purpose of this analysis the categories can be simplified to Valid, Invalid, and Unknown."
   ]
  },
  {
   "cell_type": "code",
   "execution_count": 29,
   "metadata": {},
   "outputs": [
    {
     "name": "stdout",
     "output_type": "stream",
     "text": [
      "VWW     26347\n",
      "VNOW    24395\n",
      "WWL     10770\n",
      "UNK      8076\n",
      "WOWL     6516\n",
      "NONE     2147\n",
      "EXP      1403\n",
      "NV        302\n",
      "WTLS      107\n",
      "Name: med_crtf_vldty, dtype: int64\n"
     ]
    },
    {
     "data": {
      "text/plain": [
       "VALID      68135\n",
       "UNK         8076\n",
       "INVALID     3852\n",
       "Name: med_crtf_vldty, dtype: int64"
      ]
     },
     "execution_count": 29,
     "metadata": {},
     "output_type": "execute_result"
    }
   ],
   "source": [
    "crew['med_crtf_vldty'] = crew['med_crtf_vldty'].str.strip()\n",
    "crew['med_crtf_vldty'].fillna('UNK', inplace=True)\n",
    "print(crew['med_crtf_vldty'].value_counts())\n",
    "\n",
    "# To ease analysis will condense categories for medical certificate validity to 'valid', 'invalid', 'unkn'.\n",
    "crew['med_crtf_vldty'] = crew['med_crtf_vldty'].replace(['VWW', 'VNOW', 'WWL', 'WOWL', 'WTLS'], 'VALID')\n",
    "crew['med_crtf_vldty'] = crew['med_crtf_vldty'].replace(['NONE', 'EXP', 'NV', 'WOWL'], 'INVALID')\n",
    "crew['med_crtf_vldty'].value_counts()"
   ]
  },
  {
   "cell_type": "code",
   "execution_count": 30,
   "metadata": {},
   "outputs": [],
   "source": [
    "#generate_profile(crew)"
   ]
  },
  {
   "cell_type": "markdown",
   "metadata": {},
   "source": [
    "A biannual flight review is a pilot check conducted every two years for pilot to maintain currency. The bfr column states wheter a pilot had a bfr and the bfr_data shows the date of the last one. Missing value comparison shows that it appears that many entries of dates in 'bfr_date' conincide with missing entries in 'bfr'. Once the dataset is merged and the date on the event is available the 'bfr_date' column can be analyzed to determined if the date was within 2 years of the event and in that case an entry under bfr valid can be made."
   ]
  },
  {
   "cell_type": "markdown",
   "metadata": {},
   "source": [
    "#### Aircrew Ratings\n",
    "\n",
    "Pilots may hold different certifications (ratings) which in turn allows them to conduct certain operations. These certifications show a pilot's level of training."
   ]
  },
  {
   "cell_type": "code",
   "execution_count": 31,
   "metadata": {},
   "outputs": [
    {
     "data": {
      "text/html": [
       "<div>\n",
       "<style scoped>\n",
       "    .dataframe tbody tr th:only-of-type {\n",
       "        vertical-align: middle;\n",
       "    }\n",
       "\n",
       "    .dataframe tbody tr th {\n",
       "        vertical-align: top;\n",
       "    }\n",
       "\n",
       "    .dataframe thead th {\n",
       "        text-align: right;\n",
       "    }\n",
       "</style>\n",
       "<table border=\"1\" class=\"dataframe\">\n",
       "  <thead>\n",
       "    <tr style=\"text-align: right;\">\n",
       "      <th></th>\n",
       "      <th>pilot_key</th>\n",
       "      <th>col_name</th>\n",
       "      <th>code</th>\n",
       "    </tr>\n",
       "    <tr>\n",
       "      <th>idx</th>\n",
       "      <th></th>\n",
       "      <th></th>\n",
       "      <th></th>\n",
       "    </tr>\n",
       "  </thead>\n",
       "  <tbody>\n",
       "    <tr>\n",
       "      <th>0</th>\n",
       "      <td>20001204X0000011</td>\n",
       "      <td>crew_cert_code</td>\n",
       "      <td>COMM</td>\n",
       "    </tr>\n",
       "    <tr>\n",
       "      <th>1</th>\n",
       "      <td>20001204X0000011</td>\n",
       "      <td>crew_rat_airpln</td>\n",
       "      <td>SEL</td>\n",
       "    </tr>\n",
       "    <tr>\n",
       "      <th>2</th>\n",
       "      <td>20001204X0000011</td>\n",
       "      <td>crew_rat_airpln</td>\n",
       "      <td>SES</td>\n",
       "    </tr>\n",
       "    <tr>\n",
       "      <th>3</th>\n",
       "      <td>20001204X0000011</td>\n",
       "      <td>crew_rat_instruct</td>\n",
       "      <td>NONE</td>\n",
       "    </tr>\n",
       "    <tr>\n",
       "      <th>4</th>\n",
       "      <td>20001204X0000011</td>\n",
       "      <td>crew_rat_instrum</td>\n",
       "      <td>APLN</td>\n",
       "    </tr>\n",
       "    <tr>\n",
       "      <th>5</th>\n",
       "      <td>20001204X0000011</td>\n",
       "      <td>crew_rat_roto</td>\n",
       "      <td>NONE</td>\n",
       "    </tr>\n",
       "    <tr>\n",
       "      <th>6</th>\n",
       "      <td>20001204X0000111</td>\n",
       "      <td>crew_cert_code</td>\n",
       "      <td>ATP</td>\n",
       "    </tr>\n",
       "    <tr>\n",
       "      <th>7</th>\n",
       "      <td>20001204X0000111</td>\n",
       "      <td>crew_cert_code</td>\n",
       "      <td>FE</td>\n",
       "    </tr>\n",
       "    <tr>\n",
       "      <th>8</th>\n",
       "      <td>20001204X0000111</td>\n",
       "      <td>crew_rat_airpln</td>\n",
       "      <td>MEL</td>\n",
       "    </tr>\n",
       "    <tr>\n",
       "      <th>9</th>\n",
       "      <td>20001204X0000111</td>\n",
       "      <td>crew_rat_airpln</td>\n",
       "      <td>SEL</td>\n",
       "    </tr>\n",
       "    <tr>\n",
       "      <th>10</th>\n",
       "      <td>20001204X0000111</td>\n",
       "      <td>crew_rat_instruct</td>\n",
       "      <td>NONE</td>\n",
       "    </tr>\n",
       "    <tr>\n",
       "      <th>11</th>\n",
       "      <td>20001204X0000111</td>\n",
       "      <td>crew_rat_instrum</td>\n",
       "      <td>APLN</td>\n",
       "    </tr>\n",
       "    <tr>\n",
       "      <th>12</th>\n",
       "      <td>20001204X0000111</td>\n",
       "      <td>crew_rat_roto</td>\n",
       "      <td>NONE</td>\n",
       "    </tr>\n",
       "    <tr>\n",
       "      <th>13</th>\n",
       "      <td>20001204X0000211</td>\n",
       "      <td>crew_cert_code</td>\n",
       "      <td>ATP</td>\n",
       "    </tr>\n",
       "    <tr>\n",
       "      <th>14</th>\n",
       "      <td>20001204X0000211</td>\n",
       "      <td>crew_cert_code</td>\n",
       "      <td>COMM</td>\n",
       "    </tr>\n",
       "    <tr>\n",
       "      <th>15</th>\n",
       "      <td>20001204X0000211</td>\n",
       "      <td>crew_rat_airpln</td>\n",
       "      <td>MEL</td>\n",
       "    </tr>\n",
       "    <tr>\n",
       "      <th>16</th>\n",
       "      <td>20001204X0000211</td>\n",
       "      <td>crew_rat_airpln</td>\n",
       "      <td>MES</td>\n",
       "    </tr>\n",
       "    <tr>\n",
       "      <th>17</th>\n",
       "      <td>20001204X0000211</td>\n",
       "      <td>crew_rat_airpln</td>\n",
       "      <td>SEL</td>\n",
       "    </tr>\n",
       "    <tr>\n",
       "      <th>18</th>\n",
       "      <td>20001204X0000211</td>\n",
       "      <td>crew_rat_airpln</td>\n",
       "      <td>SES</td>\n",
       "    </tr>\n",
       "    <tr>\n",
       "      <th>19</th>\n",
       "      <td>20001204X0000211</td>\n",
       "      <td>crew_rat_instruct</td>\n",
       "      <td>NONE</td>\n",
       "    </tr>\n",
       "  </tbody>\n",
       "</table>\n",
       "</div>"
      ],
      "text/plain": [
       "            pilot_key           col_name  code\n",
       "idx                                           \n",
       "0    20001204X0000011     crew_cert_code  COMM\n",
       "1    20001204X0000011    crew_rat_airpln  SEL \n",
       "2    20001204X0000011    crew_rat_airpln  SES \n",
       "3    20001204X0000011  crew_rat_instruct  NONE\n",
       "4    20001204X0000011   crew_rat_instrum  APLN\n",
       "5    20001204X0000011      crew_rat_roto  NONE\n",
       "6    20001204X0000111     crew_cert_code  ATP \n",
       "7    20001204X0000111     crew_cert_code  FE  \n",
       "8    20001204X0000111    crew_rat_airpln  MEL \n",
       "9    20001204X0000111    crew_rat_airpln  SEL \n",
       "10   20001204X0000111  crew_rat_instruct  NONE\n",
       "11   20001204X0000111   crew_rat_instrum  APLN\n",
       "12   20001204X0000111      crew_rat_roto  NONE\n",
       "13   20001204X0000211     crew_cert_code  ATP \n",
       "14   20001204X0000211     crew_cert_code  COMM\n",
       "15   20001204X0000211    crew_rat_airpln  MEL \n",
       "16   20001204X0000211    crew_rat_airpln  MES \n",
       "17   20001204X0000211    crew_rat_airpln  SEL \n",
       "18   20001204X0000211    crew_rat_airpln  SES \n",
       "19   20001204X0000211  crew_rat_instruct  NONE"
      ]
     },
     "execution_count": 31,
     "metadata": {},
     "output_type": "execute_result"
    }
   ],
   "source": [
    "file = 'D:/cap/capstone2/data/raw/ratings.csv'\n",
    "ratings = pd.read_csv(file, encoding = 'Windows-1252', low_memory = False) \n",
    "#ratings.reset_index()\n",
    "ratings.index.name = 'idx'\n",
    "\n",
    "ratings['pilot_key'] = ratings['ev_id'] + ratings['Aircraft_Key'].astype(str) + ratings['crew_no'].astype(str)\n",
    "to_drop = ['ev_id', 'Aircraft_Key', 'crew_no']          \n",
    "ratings.drop(columns = to_drop, inplace=True)\n",
    "ratings = ratings[['pilot_key', 'col_name', 'code']]\n",
    "ratings.head(20)"
   ]
  },
  {
   "cell_type": "code",
   "execution_count": 32,
   "metadata": {},
   "outputs": [
    {
     "name": "stdout",
     "output_type": "stream",
     "text": [
      "['COMM' 'SEL' 'SES' 'NONE' 'APLN' 'ATP' 'FE' 'MEL' 'MES' 'PRI' 'STU'\n",
      " 'HELI' 'AME' 'ASE' 'IAIR' 'CFI' 'GLI' 'MIL' 'GYRO' 'BALL' 'IHEL' 'FORN'\n",
      " 'AIRS' 'REC' 'PLFT' 'SPRT' 'RMPT' 'SUAS']\n"
     ]
    }
   ],
   "source": [
    "#create new dataframe to transpose data\n",
    "ratings['code'] = ratings['code'].str.strip()\n",
    "certs = ratings['code'].unique()\n",
    "print(certs)"
   ]
  },
  {
   "cell_type": "code",
   "execution_count": 33,
   "metadata": {},
   "outputs": [],
   "source": [
    "column_names = ['CERT_ATP', 'CERT_REC', 'CERT_CFI', 'CERT_COMM', 'CERT_FE', 'CERT_FORN', 'CERT_MIL', 'CERT_NONE', \n",
    "                'CERT_PRI', 'CERT_STU', 'CERT_SPRT', 'AP_MEL', 'AP_MES', 'AP_NONE', 'AP_SEL', 'AP_SES', 'IP_AME', \n",
    "                'IP_ASE', 'IP_GLI', 'IP_GYRO', 'IP_HELI', 'IP_IAIR', 'IP_IHEL', 'IP_NONE', 'IP_SPRT', 'IP_PLFT',\n",
    "                'IP_NONE']"
   ]
  },
  {
   "cell_type": "code",
   "execution_count": 34,
   "metadata": {},
   "outputs": [
    {
     "data": {
      "text/html": [
       "<div>\n",
       "<style scoped>\n",
       "    .dataframe tbody tr th:only-of-type {\n",
       "        vertical-align: middle;\n",
       "    }\n",
       "\n",
       "    .dataframe tbody tr th {\n",
       "        vertical-align: top;\n",
       "    }\n",
       "\n",
       "    .dataframe thead th {\n",
       "        text-align: right;\n",
       "    }\n",
       "</style>\n",
       "<table border=\"1\" class=\"dataframe\">\n",
       "  <thead>\n",
       "    <tr style=\"text-align: right;\">\n",
       "      <th></th>\n",
       "      <th>pilot_key</th>\n",
       "      <th>CERT_ATP</th>\n",
       "      <th>CERT_REC</th>\n",
       "      <th>CERT_CFI</th>\n",
       "      <th>CERT_COMM</th>\n",
       "      <th>CERT_FE</th>\n",
       "      <th>CERT_FORN</th>\n",
       "      <th>CERT_MIL</th>\n",
       "      <th>CERT_NONE</th>\n",
       "      <th>CERT_PRI</th>\n",
       "      <th>CERT_STU</th>\n",
       "      <th>CERT_SPRT</th>\n",
       "    </tr>\n",
       "  </thead>\n",
       "  <tbody>\n",
       "    <tr>\n",
       "      <th>0</th>\n",
       "      <td>20001204X0000011</td>\n",
       "      <td>0</td>\n",
       "      <td>0</td>\n",
       "      <td>0</td>\n",
       "      <td>0</td>\n",
       "      <td>0</td>\n",
       "      <td>0</td>\n",
       "      <td>0</td>\n",
       "      <td>0</td>\n",
       "      <td>0</td>\n",
       "      <td>0</td>\n",
       "      <td>0</td>\n",
       "    </tr>\n",
       "    <tr>\n",
       "      <th>1</th>\n",
       "      <td>20001204X0000111</td>\n",
       "      <td>0</td>\n",
       "      <td>0</td>\n",
       "      <td>0</td>\n",
       "      <td>0</td>\n",
       "      <td>0</td>\n",
       "      <td>0</td>\n",
       "      <td>0</td>\n",
       "      <td>0</td>\n",
       "      <td>0</td>\n",
       "      <td>0</td>\n",
       "      <td>0</td>\n",
       "    </tr>\n",
       "    <tr>\n",
       "      <th>2</th>\n",
       "      <td>20001204X0000211</td>\n",
       "      <td>0</td>\n",
       "      <td>0</td>\n",
       "      <td>0</td>\n",
       "      <td>0</td>\n",
       "      <td>0</td>\n",
       "      <td>0</td>\n",
       "      <td>0</td>\n",
       "      <td>0</td>\n",
       "      <td>0</td>\n",
       "      <td>0</td>\n",
       "      <td>0</td>\n",
       "    </tr>\n",
       "    <tr>\n",
       "      <th>3</th>\n",
       "      <td>20001204X0000311</td>\n",
       "      <td>0</td>\n",
       "      <td>0</td>\n",
       "      <td>0</td>\n",
       "      <td>0</td>\n",
       "      <td>0</td>\n",
       "      <td>0</td>\n",
       "      <td>0</td>\n",
       "      <td>0</td>\n",
       "      <td>0</td>\n",
       "      <td>0</td>\n",
       "      <td>0</td>\n",
       "    </tr>\n",
       "    <tr>\n",
       "      <th>4</th>\n",
       "      <td>20001204X0000411</td>\n",
       "      <td>0</td>\n",
       "      <td>0</td>\n",
       "      <td>0</td>\n",
       "      <td>0</td>\n",
       "      <td>0</td>\n",
       "      <td>0</td>\n",
       "      <td>0</td>\n",
       "      <td>0</td>\n",
       "      <td>0</td>\n",
       "      <td>0</td>\n",
       "      <td>0</td>\n",
       "    </tr>\n",
       "  </tbody>\n",
       "</table>\n",
       "</div>"
      ],
      "text/plain": [
       "          pilot_key  CERT_ATP  CERT_REC  CERT_CFI  CERT_COMM  CERT_FE  \\\n",
       "0  20001204X0000011         0         0         0          0        0   \n",
       "1  20001204X0000111         0         0         0          0        0   \n",
       "2  20001204X0000211         0         0         0          0        0   \n",
       "3  20001204X0000311         0         0         0          0        0   \n",
       "4  20001204X0000411         0         0         0          0        0   \n",
       "\n",
       "   CERT_FORN  CERT_MIL  CERT_NONE  CERT_PRI  CERT_STU  CERT_SPRT  \n",
       "0          0         0          0         0         0          0  \n",
       "1          0         0          0         0         0          0  \n",
       "2          0         0          0         0         0          0  \n",
       "3          0         0          0         0         0          0  \n",
       "4          0         0          0         0         0          0  "
      ]
     },
     "execution_count": 34,
     "metadata": {},
     "output_type": "execute_result"
    }
   ],
   "source": [
    "#create new dataframe to hold boolean 1 / 0 for each possible pilot rating\n",
    "\n",
    "new_ratings = pd.DataFrame(pd.Series(ratings['pilot_key'].unique()))\n",
    "new_ratings.rename(columns = {0:'pilot_key'}, inplace=True)\n",
    "\n",
    "#pilot rating certification\n",
    "new_ratings[['CERT_ATP','CERT_REC', 'CERT_CFI', 'CERT_COMM', 'CERT_FE', 'CERT_FORN', 'CERT_MIL', 'CERT_PRI', \n",
    "             'CERT_STU', 'CERT_SPRT', 'CERT_RMPT', 'CERT_NONE']] = 0\n",
    "\n",
    "#airplane ratings\n",
    "new_ratings[['AP_MEL', 'AP_MES', 'AP_SEL', 'AP_SES', 'AP_NONE']] = 0\n",
    "\n",
    "#Instructor Ratings\n",
    "new_ratings[['INSTR_AME', 'INSTR_ASE', 'INSTR_GLI', 'INSTR_GYRO', 'INSTR_HELI', 'INSTR_IAIR', 'INSTR_IHEL', \n",
    "             'INSTR_PLFT', 'INSTR_SPRT', 'INSTR_NONE']] = 0\n",
    "\n",
    "#Instrument Ratings\n",
    "new_ratings[['INSTRUM_APLN', 'INSTRUM_HELI', 'INSTRUM_PLFT', 'INSTRUM_NONE']] = 0\n",
    "\n",
    "#other raitings\n",
    "new_ratings[['OTHR_AIRS', 'OTHR_BALL', 'OTHR_GLI', 'OTHR_GYRO', 'OTHR_HELI', 'OTHR_PLFT', 'OTHR_SUAS', 'OTHR_NONE' ]] = 0\n",
    "\n",
    "new_ratings.head()"
   ]
  },
  {
   "cell_type": "code",
   "execution_count": 35,
   "metadata": {},
   "outputs": [],
   "source": [
    "cert_atp = ratings[(ratings['col_name'] == 'crew_cert_code') & (ratings['code'] == 'ATP')]\n",
    "cert_rec = ratings[(ratings['col_name'] == 'crew_cert_code') & (ratings['code'] == 'REC')]\n",
    "cert_cfi = ratings[(ratings['col_name'] == 'crew_cert_code') & (ratings['code'] == 'CFI')]\n",
    "cert_comm = ratings[(ratings['col_name'] == 'crew_cert_code') & (ratings['code'] == 'COMM')]\n",
    "cert_fe = ratings[(ratings['col_name'] == 'crew_cert_code') & (ratings['code'] == 'FE')]\n",
    "cert_forn = ratings[(ratings['col_name'] == 'crew_cert_code') & (ratings['code'] == 'FORN')]\n",
    "cert_mil = ratings[(ratings['col_name'] == 'crew_cert_code') & (ratings['code'] == 'MIL')]\n",
    "cert_none = ratings[(ratings['col_name'] == 'crew_cert_code') & (ratings['code'] == 'NONE')]\n",
    "cert_pri = ratings[(ratings['col_name'] == 'crew_cert_code') & (ratings['code'] == 'PRI')]\n",
    "cert_stu = ratings[(ratings['col_name'] == 'crew_cert_code') & (ratings['code'] == 'STU')]\n",
    "cert_sprt = ratings[(ratings['col_name'] == 'crew_cert_code') & (ratings['code'] == 'SPRT')]\n",
    "\n",
    "\n",
    "ap_mel = ratings[(ratings['col_name'] == 'crew_rat_airpln') & (ratings['code'] == 'MEL')]\n",
    "ap_mes = ratings[(ratings['col_name'] == 'crew_rat_airpln') & (ratings['code'] == 'MES')]\n",
    "ap_sel = ratings[(ratings['col_name'] == 'crew_rat_airpln') & (ratings['code'] == 'MEL')]\n",
    "ap_ses = ratings[(ratings['col_name'] == 'crew_rat_airpln') & (ratings['code'] == 'SES')]\n",
    "ap_none = ratings[(ratings['col_name'] == 'crew_rat_airpln') & (ratings['code'] == 'NONE')]\n",
    "\n",
    "intr_ame = ratings[(ratings['col_name'] == 'crew_rat_instruct') & (ratings['code'] == 'AME')]\n",
    "intr_ase = ratings[(ratings['col_name'] == 'crew_rat_instruct') & (ratings['code'] == 'ASE')]\n",
    "intr_gli = ratings[(ratings['col_name'] == 'crew_rat_instruct') & (ratings['code'] == 'GLI')]\n",
    "intr_gyro = ratings[(ratings['col_name'] == 'crew_rat_instruct') & (ratings['code'] == 'GYRO')]\n",
    "intr_heli = ratings[(ratings['col_name'] == 'crew_rat_instruct') & (ratings['code'] == 'HELI')]\n",
    "intr_iair = ratings[(ratings['col_name'] == 'crew_rat_instruct') & (ratings['code'] == 'IAIR')]\n",
    "intr_ihel = ratings[(ratings['col_name'] == 'crew_rat_instruct') & (ratings['code'] == 'IHEL')]\n",
    "intr_plft = ratings[(ratings['col_name'] == 'crew_rat_instruct') & (ratings['code'] == 'PLFT')]\n",
    "intr_sprt = ratings[(ratings['col_name'] == 'crew_rat_instruct') & (ratings['code'] == 'SPRT')]\n",
    "intr_none = ratings[(ratings['col_name'] == 'crew_rat_instruct') & (ratings['code'] == 'NONE')]\n",
    "\n",
    "instrum_apln = ratings[(ratings['col_name'] == 'crew_rat_instrum') & (ratings['code'] == 'APLN')]\n",
    "instrum_heli = ratings[(ratings['col_name'] == 'crew_rat_instrum') & (ratings['code'] == 'HELI')]\n",
    "instrum_plft = ratings[(ratings['col_name'] == 'crew_rat_instrum') & (ratings['code'] == 'PLFT')]\n",
    "instrum_none = ratings[(ratings['col_name'] == 'crew_rat_instrum') & (ratings['code'] == 'NONE')]\n",
    "\n",
    "othr_airs = ratings[(ratings['col_name'] == 'crew_rat_roto') & (ratings['code'] == 'AIRS')]\n",
    "othr_ball = ratings[(ratings['col_name'] == 'crew_rat_roto') & (ratings['code'] == 'BALL')]\n",
    "othr_gli = ratings[(ratings['col_name'] == 'crew_rat_roto') & (ratings['code'] == 'GLI')]\n",
    "othr_gyro = ratings[(ratings['col_name'] == 'crew_rat_roto') & (ratings['code'] == 'GYRO')]\n",
    "othr_heli = ratings[(ratings['col_name'] == 'crew_rat_roto') & (ratings['code'] == 'HELI')]\n",
    "othr_plft = ratings[(ratings['col_name'] == 'crew_rat_roto') & (ratings['code'] == 'PLFT')]\n",
    "othr_suas = ratings[(ratings['col_name'] == 'crew_rat_roto') & (ratings['code'] == 'SUAS')]\n",
    "othr_none = ratings[(ratings['col_name'] == 'crew_rat_roto') & (ratings['code'] == 'NONE')]"
   ]
  },
  {
   "cell_type": "code",
   "execution_count": 36,
   "metadata": {},
   "outputs": [],
   "source": [
    "def transcode(df, col_idx):\n",
    "    \n",
    "    for k in df['pilot_key'].tolist():\n",
    "        for i in range (0, len(new_ratings)):\n",
    "            if k == new_ratings.iloc[i, 0]:\n",
    "                new_ratings.iloc[i, col_idx] = 1\n",
    "    end_time = datetime.now()\n",
    "    print('Duration {}: {}'.format(str(col_idx, end_time - start_time)))"
   ]
  },
  {
   "cell_type": "code",
   "execution_count": 37,
   "metadata": {},
   "outputs": [],
   "source": [
    "def transcoder(df, cert):\n",
    "    \n",
    "    #start_time = datetime.now()\n",
    "    \n",
    "    for pilot in df['pilot_key'].tolist():\n",
    "        new_ratings.loc[new_ratings['pilot_key'] == pilot, cert] = 1\n",
    "    \n",
    "    #end_time = datetime.now()\n",
    "    #print('Duration: {}'.format(end_time - start_time))   \n",
    "  "
   ]
  },
  {
   "cell_type": "code",
   "execution_count": 38,
   "metadata": {},
   "outputs": [
    {
     "name": "stdout",
     "output_type": "stream",
     "text": [
      "Duration: 0:01:29.187826\n"
     ]
    }
   ],
   "source": [
    "transcoder(cert_atp, 'CERT_ATP')"
   ]
  },
  {
   "cell_type": "code",
   "execution_count": 39,
   "metadata": {},
   "outputs": [
    {
     "name": "stdout",
     "output_type": "stream",
     "text": [
      "Duration: 0:00:00.328668\n"
     ]
    }
   ],
   "source": [
    "transcoder(cert_rec, 'CERT_REC')"
   ]
  },
  {
   "cell_type": "code",
   "execution_count": 40,
   "metadata": {},
   "outputs": [
    {
     "name": "stdout",
     "output_type": "stream",
     "text": [
      "Duration: 0:01:41.659291\n"
     ]
    }
   ],
   "source": [
    "transcoder(cert_cfi, 'CERT_CFI')"
   ]
  },
  {
   "cell_type": "code",
   "execution_count": 41,
   "metadata": {},
   "outputs": [
    {
     "name": "stdout",
     "output_type": "stream",
     "text": [
      "Duration: 0:03:41.443348\n"
     ]
    }
   ],
   "source": [
    "transcoder(cert_comm, 'CERT_COMM')"
   ]
  },
  {
   "cell_type": "code",
   "execution_count": 42,
   "metadata": {},
   "outputs": [
    {
     "name": "stdout",
     "output_type": "stream",
     "text": [
      "Duration: 0:00:11.179726\n"
     ]
    }
   ],
   "source": [
    "transcoder(cert_fe, 'CERT_FE')"
   ]
  },
  {
   "cell_type": "code",
   "execution_count": 43,
   "metadata": {},
   "outputs": [
    {
     "name": "stdout",
     "output_type": "stream",
     "text": [
      "Duration: 0:00:02.511312\n"
     ]
    }
   ],
   "source": [
    "transcoder(cert_forn, 'CERT_FORN')"
   ]
  },
  {
   "cell_type": "code",
   "execution_count": 44,
   "metadata": {},
   "outputs": [
    {
     "name": "stdout",
     "output_type": "stream",
     "text": [
      "Duration: 0:00:02.861378\n"
     ]
    }
   ],
   "source": [
    "transcoder(cert_mil, 'CERT_MIL')"
   ]
  },
  {
   "cell_type": "code",
   "execution_count": 45,
   "metadata": {},
   "outputs": [
    {
     "name": "stdout",
     "output_type": "stream",
     "text": [
      "Duration: 0:00:07.487738\n"
     ]
    }
   ],
   "source": [
    "transcoder(cert_none, 'CERT_NONE')"
   ]
  },
  {
   "cell_type": "code",
   "execution_count": 46,
   "metadata": {},
   "outputs": [
    {
     "name": "stdout",
     "output_type": "stream",
     "text": [
      "Duration: 0:03:53.735367\n"
     ]
    }
   ],
   "source": [
    "transcoder(cert_pri, 'CERT_PRI')"
   ]
  },
  {
   "cell_type": "code",
   "execution_count": 47,
   "metadata": {},
   "outputs": [
    {
     "name": "stdout",
     "output_type": "stream",
     "text": [
      "Duration: 0:00:43.743756\n"
     ]
    }
   ],
   "source": [
    "transcoder(cert_stu, 'CERT_STU')"
   ]
  },
  {
   "cell_type": "code",
   "execution_count": 48,
   "metadata": {},
   "outputs": [
    {
     "name": "stdout",
     "output_type": "stream",
     "text": [
      "Duration: 0:00:04.589725\n"
     ]
    }
   ],
   "source": [
    "transcoder(cert_sprt, 'CERT_SPRT')"
   ]
  },
  {
   "cell_type": "code",
   "execution_count": 49,
   "metadata": {},
   "outputs": [
    {
     "data": {
      "text/html": [
       "<div>\n",
       "<style scoped>\n",
       "    .dataframe tbody tr th:only-of-type {\n",
       "        vertical-align: middle;\n",
       "    }\n",
       "\n",
       "    .dataframe tbody tr th {\n",
       "        vertical-align: top;\n",
       "    }\n",
       "\n",
       "    .dataframe thead th {\n",
       "        text-align: right;\n",
       "    }\n",
       "</style>\n",
       "<table border=\"1\" class=\"dataframe\">\n",
       "  <thead>\n",
       "    <tr style=\"text-align: right;\">\n",
       "      <th></th>\n",
       "      <th>pilot_key</th>\n",
       "      <th>CERT_ATP</th>\n",
       "      <th>CERT_REC</th>\n",
       "      <th>CERT_CFI</th>\n",
       "      <th>CERT_COMM</th>\n",
       "      <th>CERT_FE</th>\n",
       "      <th>CERT_FORN</th>\n",
       "      <th>CERT_MIL</th>\n",
       "      <th>CERT_NONE</th>\n",
       "      <th>CERT_PRI</th>\n",
       "      <th>CERT_STU</th>\n",
       "      <th>CERT_SPRT</th>\n",
       "    </tr>\n",
       "  </thead>\n",
       "  <tbody>\n",
       "    <tr>\n",
       "      <th>0</th>\n",
       "      <td>20001204X0000011</td>\n",
       "      <td>0</td>\n",
       "      <td>0</td>\n",
       "      <td>0</td>\n",
       "      <td>1</td>\n",
       "      <td>0</td>\n",
       "      <td>0</td>\n",
       "      <td>0</td>\n",
       "      <td>0</td>\n",
       "      <td>0</td>\n",
       "      <td>0</td>\n",
       "      <td>0</td>\n",
       "    </tr>\n",
       "    <tr>\n",
       "      <th>1</th>\n",
       "      <td>20001204X0000111</td>\n",
       "      <td>1</td>\n",
       "      <td>0</td>\n",
       "      <td>0</td>\n",
       "      <td>0</td>\n",
       "      <td>1</td>\n",
       "      <td>0</td>\n",
       "      <td>0</td>\n",
       "      <td>0</td>\n",
       "      <td>0</td>\n",
       "      <td>0</td>\n",
       "      <td>0</td>\n",
       "    </tr>\n",
       "    <tr>\n",
       "      <th>2</th>\n",
       "      <td>20001204X0000211</td>\n",
       "      <td>1</td>\n",
       "      <td>0</td>\n",
       "      <td>0</td>\n",
       "      <td>1</td>\n",
       "      <td>0</td>\n",
       "      <td>0</td>\n",
       "      <td>0</td>\n",
       "      <td>0</td>\n",
       "      <td>0</td>\n",
       "      <td>0</td>\n",
       "      <td>0</td>\n",
       "    </tr>\n",
       "    <tr>\n",
       "      <th>3</th>\n",
       "      <td>20001204X0000311</td>\n",
       "      <td>0</td>\n",
       "      <td>0</td>\n",
       "      <td>0</td>\n",
       "      <td>0</td>\n",
       "      <td>0</td>\n",
       "      <td>0</td>\n",
       "      <td>0</td>\n",
       "      <td>0</td>\n",
       "      <td>1</td>\n",
       "      <td>0</td>\n",
       "      <td>0</td>\n",
       "    </tr>\n",
       "    <tr>\n",
       "      <th>4</th>\n",
       "      <td>20001204X0000411</td>\n",
       "      <td>0</td>\n",
       "      <td>0</td>\n",
       "      <td>0</td>\n",
       "      <td>1</td>\n",
       "      <td>0</td>\n",
       "      <td>0</td>\n",
       "      <td>0</td>\n",
       "      <td>0</td>\n",
       "      <td>0</td>\n",
       "      <td>0</td>\n",
       "      <td>0</td>\n",
       "    </tr>\n",
       "    <tr>\n",
       "      <th>...</th>\n",
       "      <td>...</td>\n",
       "      <td>...</td>\n",
       "      <td>...</td>\n",
       "      <td>...</td>\n",
       "      <td>...</td>\n",
       "      <td>...</td>\n",
       "      <td>...</td>\n",
       "      <td>...</td>\n",
       "      <td>...</td>\n",
       "      <td>...</td>\n",
       "      <td>...</td>\n",
       "      <td>...</td>\n",
       "    </tr>\n",
       "    <tr>\n",
       "      <th>84575</th>\n",
       "      <td>20200714X7075412</td>\n",
       "      <td>0</td>\n",
       "      <td>0</td>\n",
       "      <td>0</td>\n",
       "      <td>0</td>\n",
       "      <td>0</td>\n",
       "      <td>0</td>\n",
       "      <td>0</td>\n",
       "      <td>0</td>\n",
       "      <td>0</td>\n",
       "      <td>1</td>\n",
       "      <td>0</td>\n",
       "    </tr>\n",
       "    <tr>\n",
       "      <th>84576</th>\n",
       "      <td>20200717X4481911</td>\n",
       "      <td>0</td>\n",
       "      <td>0</td>\n",
       "      <td>0</td>\n",
       "      <td>1</td>\n",
       "      <td>0</td>\n",
       "      <td>0</td>\n",
       "      <td>0</td>\n",
       "      <td>0</td>\n",
       "      <td>0</td>\n",
       "      <td>0</td>\n",
       "      <td>0</td>\n",
       "    </tr>\n",
       "    <tr>\n",
       "      <th>84577</th>\n",
       "      <td>20200719X2195811</td>\n",
       "      <td>0</td>\n",
       "      <td>0</td>\n",
       "      <td>0</td>\n",
       "      <td>0</td>\n",
       "      <td>0</td>\n",
       "      <td>0</td>\n",
       "      <td>0</td>\n",
       "      <td>0</td>\n",
       "      <td>1</td>\n",
       "      <td>0</td>\n",
       "      <td>0</td>\n",
       "    </tr>\n",
       "    <tr>\n",
       "      <th>84578</th>\n",
       "      <td>20200719X2274611</td>\n",
       "      <td>0</td>\n",
       "      <td>0</td>\n",
       "      <td>0</td>\n",
       "      <td>0</td>\n",
       "      <td>0</td>\n",
       "      <td>0</td>\n",
       "      <td>0</td>\n",
       "      <td>0</td>\n",
       "      <td>1</td>\n",
       "      <td>0</td>\n",
       "      <td>0</td>\n",
       "    </tr>\n",
       "    <tr>\n",
       "      <th>84579</th>\n",
       "      <td>20200724X6510111</td>\n",
       "      <td>0</td>\n",
       "      <td>0</td>\n",
       "      <td>0</td>\n",
       "      <td>0</td>\n",
       "      <td>0</td>\n",
       "      <td>0</td>\n",
       "      <td>0</td>\n",
       "      <td>0</td>\n",
       "      <td>1</td>\n",
       "      <td>0</td>\n",
       "      <td>0</td>\n",
       "    </tr>\n",
       "  </tbody>\n",
       "</table>\n",
       "<p>84580 rows × 12 columns</p>\n",
       "</div>"
      ],
      "text/plain": [
       "              pilot_key  CERT_ATP  CERT_REC  CERT_CFI  CERT_COMM  CERT_FE  \\\n",
       "0      20001204X0000011         0         0         0          1        0   \n",
       "1      20001204X0000111         1         0         0          0        1   \n",
       "2      20001204X0000211         1         0         0          1        0   \n",
       "3      20001204X0000311         0         0         0          0        0   \n",
       "4      20001204X0000411         0         0         0          1        0   \n",
       "...                 ...       ...       ...       ...        ...      ...   \n",
       "84575  20200714X7075412         0         0         0          0        0   \n",
       "84576  20200717X4481911         0         0         0          1        0   \n",
       "84577  20200719X2195811         0         0         0          0        0   \n",
       "84578  20200719X2274611         0         0         0          0        0   \n",
       "84579  20200724X6510111         0         0         0          0        0   \n",
       "\n",
       "       CERT_FORN  CERT_MIL  CERT_NONE  CERT_PRI  CERT_STU  CERT_SPRT  \n",
       "0              0         0          0         0         0          0  \n",
       "1              0         0          0         0         0          0  \n",
       "2              0         0          0         0         0          0  \n",
       "3              0         0          0         1         0          0  \n",
       "4              0         0          0         0         0          0  \n",
       "...          ...       ...        ...       ...       ...        ...  \n",
       "84575          0         0          0         0         1          0  \n",
       "84576          0         0          0         0         0          0  \n",
       "84577          0         0          0         1         0          0  \n",
       "84578          0         0          0         1         0          0  \n",
       "84579          0         0          0         1         0          0  \n",
       "\n",
       "[84580 rows x 12 columns]"
      ]
     },
     "execution_count": 49,
     "metadata": {},
     "output_type": "execute_result"
    }
   ],
   "source": [
    "new_ratings"
   ]
  },
  {
   "cell_type": "code",
   "execution_count": null,
   "metadata": {},
   "outputs": [],
   "source": []
  },
  {
   "cell_type": "code",
   "execution_count": null,
   "metadata": {},
   "outputs": [],
   "source": []
  },
  {
   "cell_type": "code",
   "execution_count": null,
   "metadata": {},
   "outputs": [],
   "source": []
  },
  {
   "cell_type": "code",
   "execution_count": null,
   "metadata": {},
   "outputs": [],
   "source": []
  },
  {
   "cell_type": "code",
   "execution_count": null,
   "metadata": {},
   "outputs": [],
   "source": []
  },
  {
   "cell_type": "code",
   "execution_count": 50,
   "metadata": {},
   "outputs": [],
   "source": [
    "\n"
   ]
  },
  {
   "cell_type": "code",
   "execution_count": null,
   "metadata": {},
   "outputs": [],
   "source": []
  }
 ],
 "metadata": {
  "kernelspec": {
   "display_name": "Python 3",
   "language": "python",
   "name": "python3"
  },
  "language_info": {
   "codemirror_mode": {
    "name": "ipython",
    "version": 3
   },
   "file_extension": ".py",
   "mimetype": "text/x-python",
   "name": "python",
   "nbconvert_exporter": "python",
   "pygments_lexer": "ipython3",
   "version": "3.8.5"
  }
 },
 "nbformat": 4,
 "nbformat_minor": 4
}
